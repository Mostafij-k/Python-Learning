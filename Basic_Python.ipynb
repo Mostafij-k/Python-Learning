{
 "cells": [
  {
   "cell_type": "code",
   "execution_count": 1,
   "metadata": {},
   "outputs": [
    {
     "name": "stdout",
     "output_type": "stream",
     "text": [
      "3.13.1 (tags/v3.13.1:0671451, Dec  3 2024, 19:06:28) [MSC v.1942 64 bit (AMD64)]\n",
      "Hello, World!\n"
     ]
    }
   ],
   "source": [
    "# Python: Python is a popular programmimg lanagguage. It was created by Guido Van Russum. It was released in 1991.\n",
    "    # It is widely used in web development, machine learning, software development, Bioinformatics etc. \n",
    "    # Python relies on indentation, with whitespaces.\n",
    "    # Check the installed python version: \n",
    "import sys\n",
    "print(sys.version)\n",
    "# File extension for python is .py for examaple Basic.py\n",
    "# Comments can be used to explain Python code. Comments starts with a #.\n",
    "print(\"Hello, World!\") # Print Hello, World!\n"
   ]
  },
  {
   "cell_type": "code",
   "execution_count": 2,
   "metadata": {},
   "outputs": [
    {
     "name": "stdout",
     "output_type": "stream",
     "text": [
      "5\n",
      "Mostafij\n",
      "Mostafij\n",
      "3 3 3.0\n",
      "<class 'float'>\n",
      "Orange\n",
      "Banana\n",
      "Mango\n",
      "Orange\n",
      "Orange\n",
      "Orange\n",
      "apple\n",
      "banana\n",
      "orange\n"
     ]
    }
   ],
   "source": [
    "# Python Variables:\n",
    "    # Variables are containers for storing data values.\n",
    "    # Example\n",
    "x=5\n",
    "y=\"Mostafij\"\n",
    "print(x)\n",
    "print(y)\n",
    "# Variables do not need to be declared with any particular type\n",
    "x=3 #Integer\n",
    "x=\"Mostafij\" # Now String\n",
    "print(x)\n",
    "# If you want to specify the data type of a variable, this can be done with casting.\n",
    "x=int(3) #Integer\n",
    "y=str(3) #String\n",
    "z=float(3) #Float\n",
    "print(x,y,z)\n",
    "# You can get the data type of a variable with the type() function\n",
    "type(z) # type is float\n",
    "print(type(z))\n",
    "# A variable can have a short name (like x and y) or a more descriptive name (age, carname, total_volume). Rules for Python variables:\n",
    "    # A variable name must start with a letter or the underscore character\n",
    "    # A variable name cannot start with a number\n",
    "    # A variable name can only contain alpha-numeric characters and underscores (A-z, 0-9, and _ )\n",
    "    # Variable names are case-sensitive (age, Age and AGE are three different variables)\n",
    "    # A variable name cannot be any of the Python keywords.\n",
    "# Example \n",
    "myvar = \"John\"\n",
    "my_var = \"John\"\n",
    "_my_var = \"John\"\n",
    "myVar = \"John\"\n",
    "MYVAR = \"John\"\n",
    "myvar2 = \"John\"\n",
    "myVariableName = \"John\" # Camel Case (Except first word start with Capital)\n",
    "MyVariableName = \"John\" # Pascal Case (Each word start with Capital)\n",
    "my_variable_name = \"John\" # Snake Case (Each word seperated with underscore)\n",
    "\n",
    "# Assign values to multiple variables\n",
    "x,y,z=\"Orange\", \"Banana\", \"Mango\"\n",
    "print(x)\n",
    "print(y)\n",
    "print(z)\n",
    "# Assign one valu to multiple variables\n",
    "x=y=z=\"Orange\"\n",
    "print(x)\n",
    "print(y)\n",
    "print(z)\n",
    "# Unpacking: Python allows you to extract the values into variables from list and  tuple. This is called unpacking.\n",
    "fruits=[\"apple\", \"banana\", \"orange\"] # Unpacking from list\n",
    "x,y,z=fruits\n",
    "print(x)\n",
    "print(y)\n",
    "print(z)"
   ]
  },
  {
   "cell_type": "code",
   "execution_count": 3,
   "metadata": {},
   "outputs": [
    {
     "name": "stdout",
     "output_type": "stream",
     "text": [
      "I want to learn python for machine learning and Bioinformatics\n",
      "I want to learn python for Machine Learning and Bioinformatics\n",
      "I want to learn python programming for  Cancer Research\n",
      "I want to learn python programming for  Cancer Research\n",
      "Python is fantastic\n"
     ]
    }
   ],
   "source": [
    "# Output Variable: Python print() function is often used to output variables.\n",
    "X=\"I want to learn python for machine learning and Bioinformatics\"\n",
    "print(X) # Output\n",
    "\n",
    "# Global Variable: Variables that are created outside of a function are known as global variables.\n",
    "    # Global variables can be used by everyone, both inside of functions and outside.\n",
    "# Create a function inside a function and use it in global and inside function\n",
    "x=\"Machine Learning and Bioinformatics\"\n",
    "def myfunction():\n",
    "    print(\"I want to learn python for \"+ x)\n",
    "myfunction()\n",
    "# If you create a variable with the same name inside a function, this variable will be local\n",
    "# The global variable with the same name will remain as it was, global and with the original value.\n",
    "x=\"Cancer Research\"\n",
    "def my_function():\n",
    "    print(\"I want to learn python programming for \", x)\n",
    "my_function()\n",
    "print(\"I want to learn python programming for \", x)\n",
    "\n",
    "x = \"awesome\"\n",
    "\n",
    "def myfunc():\n",
    "  global x\n",
    "  x = \"fantastic\"\n",
    "  print(\"Python is \" + x)\n",
    "\n",
    "myfunc()"
   ]
  },
  {
   "cell_type": "code",
   "execution_count": 4,
   "metadata": {},
   "outputs": [
    {
     "name": "stdout",
     "output_type": "stream",
     "text": [
      "I want to learn python programming for  Bioinformatics\n",
      "I want to learn python programming for  Cancer Research\n"
     ]
    }
   ],
   "source": [
    "x=\"Cancer Research\"\n",
    "def my_function():\n",
    "    x=\"Bioinformatics\"\n",
    "    print(\"I want to learn python programming for \", x)\n",
    "my_function()\n",
    "print(\"I want to learn python programming for \", x)"
   ]
  },
  {
   "cell_type": "code",
   "execution_count": 5,
   "metadata": {},
   "outputs": [
    {
     "name": "stdout",
     "output_type": "stream",
     "text": [
      "Python is fantastic\n",
      "Python is awesome\n"
     ]
    }
   ],
   "source": [
    "x = \"awesome\"\n",
    "\n",
    "def myfunc():\n",
    "  x = \"fantastic\"\n",
    "  print(\"Python is \" + x)\n",
    "\n",
    "myfunc()\n",
    "\n",
    "print(\"Python is \" + x)"
   ]
  },
  {
   "cell_type": "code",
   "execution_count": 6,
   "metadata": {},
   "outputs": [
    {
     "name": "stdout",
     "output_type": "stream",
     "text": [
      "Python is fantastic\n",
      "Python is awesome\n"
     ]
    }
   ],
   "source": [
    "x = \"awesome\"\n",
    "\n",
    "def myfunc():\n",
    "    x = \"fantastic\"\n",
    "    print(\"Python is \" + x)\n",
    "\n",
    "myfunc()\n",
    "print(\"Python is \" + x)"
   ]
  },
  {
   "cell_type": "code",
   "execution_count": 7,
   "metadata": {},
   "outputs": [
    {
     "name": "stdout",
     "output_type": "stream",
     "text": [
      "Python is fantastic\n"
     ]
    }
   ],
   "source": [
    "x = \"awesome\"\n",
    "\n",
    "def myfunc():\n",
    "  x = \"fantastic\"\n",
    "  print(\"Python is \" + x)\n",
    "\n",
    "myfunc()"
   ]
  },
  {
   "cell_type": "code",
   "execution_count": 8,
   "metadata": {},
   "outputs": [
    {
     "name": "stdout",
     "output_type": "stream",
     "text": [
      "Python is fantastic\n"
     ]
    }
   ],
   "source": [
    "x = \"awesome\"\n",
    "\n",
    "def myfunc():\n",
    "  global x\n",
    "  x = \"fantastic\"\n",
    "  print(\"Python is \" + x)\n",
    "\n",
    "myfunc()"
   ]
  },
  {
   "cell_type": "code",
   "execution_count": 1,
   "metadata": {},
   "outputs": [
    {
     "name": "stdout",
     "output_type": "stream",
     "text": [
      "9\n"
     ]
    }
   ],
   "source": [
    "# Programming has three phase\n",
    "    # Input phase\n",
    "num1=int(input(\"Enter 1st number: \")) # int() function convert input string to integer\n",
    "num2=int(input(\"Enter 2nd number: \"))\n",
    "    # Processing phase\n",
    "result=num1+num2\n",
    "    # Output phase\n",
    "print(result)"
   ]
  },
  {
   "cell_type": "code",
   "execution_count": 8,
   "metadata": {},
   "outputs": [
    {
     "data": {
      "text/plain": [
       "13"
      ]
     },
     "execution_count": 8,
     "metadata": {},
     "output_type": "execute_result"
    }
   ],
   "source": [
    "# Input method: used to take input from the user\n",
    "# User input is always converted to a string\n",
    "# Example:\n",
    "name=input() \n",
    "name\n",
    "# Input method with a message\n",
    "# syntex=input('message')\n",
    "# example:\n",
    "num=input('Enter a number: ') # Value received as string\n",
    "num\n",
    "# Type casting the user input\n",
    "# Typecastng: Typecasting is needed to convert a string to an integer.\n",
    "# input() method can be provided as an argument to the int() method\n",
    "num1=int(input(\"enter a number: \"))\n",
    "num1"
   ]
  },
  {
   "cell_type": "code",
   "execution_count": 3,
   "metadata": {},
   "outputs": [
    {
     "data": {
      "text/plain": [
       "[56, 67, 68, 34]"
      ]
     },
     "execution_count": 3,
     "metadata": {},
     "output_type": "execute_result"
    }
   ],
   "source": [
    "# Input a list using loop\n",
    "number=int(input('Enter a number: '))\n",
    "NumList=[]\n",
    "for i in range(number):\n",
    "    x=int(input())\n",
    "    NumList.append(x)\n",
    "NumList"
   ]
  },
  {
   "cell_type": "code",
   "execution_count": 7,
   "metadata": {},
   "outputs": [
    {
     "name": "stdout",
     "output_type": "stream",
     "text": [
      "range(0, 7)\n"
     ]
    },
    {
     "data": {
      "text/plain": [
       "range"
      ]
     },
     "execution_count": 7,
     "metadata": {},
     "output_type": "execute_result"
    }
   ],
   "source": [
    "# Data type\n",
    "num = 2 # Integer\n",
    "name = \"John\" #string\n",
    "age = 56.00 #float\n",
    "isMarried= True # bloon\n",
    "X=1j #Complex\n",
    "L= ['Apple', 'Banana','Mango'] #List\n",
    "T=(\"Apple\", \"Banana\", \"Mango\") #Tuple\n",
    "D={\"Name\": \"Mostafij\", \"Age\": 29}# Dict\n",
    "R=range(7)\n",
    "print(R)\n",
    "\n",
    "\n",
    "type(num)\n",
    "type(name)\n",
    "type(age)\n",
    "type(isMarried)\n",
    "type(L)\n",
    "type(T)\n",
    "type(D)\n",
    "type(R)"
   ]
  },
  {
   "cell_type": "code",
   "execution_count": 8,
   "metadata": {},
   "outputs": [
    {
     "name": "stdout",
     "output_type": "stream",
     "text": [
      "35\n"
     ]
    },
    {
     "data": {
      "text/plain": [
       "'34.0'"
      ]
     },
     "execution_count": 8,
     "metadata": {},
     "output_type": "execute_result"
    }
   ],
   "source": [
    "# Data type conversation\n",
    "num=34\n",
    "num2=float(num)\n",
    "num2\n",
    "num3=complex(num2)\n",
    "num3\n",
    "num4=35.00\n",
    "num5=int(num4)\n",
    "print(num5)\n",
    "num6=str(num2)\n",
    "num6"
   ]
  },
  {
   "cell_type": "code",
   "execution_count": 13,
   "metadata": {},
   "outputs": [
    {
     "data": {
      "text/plain": [
       "int"
      ]
     },
     "execution_count": 13,
     "metadata": {},
     "output_type": "execute_result"
    }
   ],
   "source": [
    "# Python number\n",
    "    # 1. int 2. float 3. complex\n",
    "x,y,z=2,3.6,3j #int,float,complex\n",
    "# To verify the type of any object in Python, use the type() function:\n",
    "type(z)\n",
    "# Integer: is a whole number, positive or negative, without decimals, of unlimited length.\n",
    "a=3\n",
    "b=-9\n",
    "c=990000199991000\n",
    "type(a)\n",
    "type(b)\n",
    "type(c)"
   ]
  },
  {
   "cell_type": "code",
   "execution_count": 15,
   "metadata": {},
   "outputs": [
    {
     "data": {
      "text/plain": [
       "float"
      ]
     },
     "execution_count": 15,
     "metadata": {},
     "output_type": "execute_result"
    }
   ],
   "source": [
    "# Float:Floating point number is a number, positive or negative, containing one or more decimals.\n",
    "#Example\n",
    "a=1.45\n",
    "b=1.0\n",
    "c=-5.69\n",
    "type(a)\n",
    "type(b)\n",
    "type(c)\n",
    "# Note: Float can also be scientific numbers with an \"e\" to indicate the power of 10.\n",
    "d= 45e3\n",
    "type(d)"
   ]
  },
  {
   "cell_type": "code",
   "execution_count": 17,
   "metadata": {},
   "outputs": [
    {
     "data": {
      "text/plain": [
       "complex"
      ]
     },
     "execution_count": 17,
     "metadata": {},
     "output_type": "execute_result"
    }
   ],
   "source": [
    "# Complex: Complex numbers are written with a \"j\" as the imaginary part\n",
    "a=30j\n",
    "b=-34j\n",
    "c=34.999j\n",
    "type(a)\n",
    "type(b)\n",
    "type(c)"
   ]
  },
  {
   "cell_type": "code",
   "execution_count": 19,
   "metadata": {},
   "outputs": [
    {
     "name": "stdout",
     "output_type": "stream",
     "text": [
      "4\n",
      "2.0\n",
      "(2+0j)\n"
     ]
    }
   ],
   "source": [
    "# Data type cnversion\n",
    "x=2\n",
    "y=4.0\n",
    "z=3.4j\n",
    "a=int(y)\n",
    "b=float(x)\n",
    "c=complex(x)\n",
    "print(a)\n",
    "print(b)\n",
    "print(c)\n",
    "# Note: You can not convert complex number to another number type\n"
   ]
  },
  {
   "cell_type": "code",
   "execution_count": 22,
   "metadata": {},
   "outputs": [
    {
     "name": "stdout",
     "output_type": "stream",
     "text": [
      "9\n"
     ]
    }
   ],
   "source": [
    "# Random number: to create random number python contain random module\n",
    "import random\n",
    "print(random.randrange(1,10))"
   ]
  },
  {
   "cell_type": "code",
   "execution_count": 10,
   "metadata": {},
   "outputs": [
    {
     "data": {
      "text/plain": [
       "(4, 6)"
      ]
     },
     "execution_count": 10,
     "metadata": {},
     "output_type": "execute_result"
    }
   ],
   "source": [
    "# Creating storage\n",
    "num_2=3\n",
    "_num4=5\n",
    "num1,num7=4,6\n",
    "num1, num7"
   ]
  },
  {
   "cell_type": "code",
   "execution_count": 18,
   "metadata": {},
   "outputs": [
    {
     "name": "stdout",
     "output_type": "stream",
     "text": [
      "John Your age is 56.0. Your weight is 67.8\n",
      "John Your age is 56. Your weight is  67.80\n",
      "John your age is 56.0. your weight is 67.8\n"
     ]
    }
   ],
   "source": [
    "# String formating\n",
    "name=\"John\"\n",
    "age=56.0\n",
    "weight=67.8\n",
    "print(\"{0} Your age is {1}. Your weight is {2}\".format(name, age, weight))\n",
    "print(\"%s Your age is %d. Your weight is % .2f\" %(name,age,weight))\n",
    "print(f\"{name} your age is {age}. your weight is {weight}\") #Best"
   ]
  },
  {
   "cell_type": "code",
   "execution_count": 19,
   "metadata": {},
   "outputs": [],
   "source": [
    "# Taking input from user\n",
    "name=input(\"Enter your name: \")"
   ]
  },
  {
   "cell_type": "code",
   "execution_count": 20,
   "metadata": {},
   "outputs": [
    {
     "name": "stdout",
     "output_type": "stream",
     "text": [
      "Your name is: Mostafij\n"
     ]
    }
   ],
   "source": [
    "# Providing output for user\n",
    "print(f\"Your name is: {name}\")"
   ]
  },
  {
   "cell_type": "code",
   "execution_count": 28,
   "metadata": {},
   "outputs": [
    {
     "data": {
      "text/plain": [
       "8"
      ]
     },
     "execution_count": 28,
     "metadata": {},
     "output_type": "execute_result"
    }
   ],
   "source": [
    "# Operator\n",
    "2+3 # Addition\n",
    "2-3 # Subtraction\n",
    "2*3 # Multiplication\n",
    "3/2 # Division (Floating point division)\n",
    "3//2 # Integer point divsion\n",
    "3%2 # Reminder\n",
    "2**3 # Power\n"
   ]
  },
  {
   "cell_type": "code",
   "execution_count": 27,
   "metadata": {},
   "outputs": [
    {
     "data": {
      "text/plain": [
       "True"
      ]
     },
     "execution_count": 27,
     "metadata": {},
     "output_type": "execute_result"
    }
   ],
   "source": [
    "# Comparision operator\n",
    "5>3 #Greater than\n",
    "3<6 # Less than\n",
    "3==3 # Equal\n",
    "3!=4 # Not equal\n",
    "3>=4 # Greater than or equal\n",
    "3<=3 # Less than or equal"
   ]
  },
  {
   "cell_type": "code",
   "execution_count": 33,
   "metadata": {},
   "outputs": [
    {
     "data": {
      "text/plain": [
       "True"
      ]
     },
     "execution_count": 33,
     "metadata": {},
     "output_type": "execute_result"
    }
   ],
   "source": [
    "# Logical operator\n",
    "  # And\n",
    "True and True\n",
    "False and True\n",
    "True and False\n",
    "False and False\n",
    "    # or\n",
    "True or True\n",
    "False or True\n",
    "True or False\n",
    "False or False\n",
    "    # not\n",
    "not False\n",
    "not True\n",
    "#Example\n",
    "age=18\n",
    "salary=40000\n",
    "(age>=18) and (salary>=35000)"
   ]
  },
  {
   "cell_type": "code",
   "execution_count": 37,
   "metadata": {},
   "outputs": [
    {
     "name": "stderr",
     "output_type": "stream",
     "text": [
      "<>:4: SyntaxWarning: \"is\" with 'int' literal. Did you mean \"==\"?\n",
      "<>:5: SyntaxWarning: \"is\" with 'float' literal. Did you mean \"==\"?\n",
      "<>:4: SyntaxWarning: \"is\" with 'int' literal. Did you mean \"==\"?\n",
      "<>:5: SyntaxWarning: \"is\" with 'float' literal. Did you mean \"==\"?\n",
      "C:\\Users\\Kamely\\AppData\\Local\\Temp\\ipykernel_8176\\942924556.py:4: SyntaxWarning: \"is\" with 'int' literal. Did you mean \"==\"?\n",
      "  2 is 2.0\n",
      "C:\\Users\\Kamely\\AppData\\Local\\Temp\\ipykernel_8176\\942924556.py:5: SyntaxWarning: \"is\" with 'float' literal. Did you mean \"==\"?\n",
      "  3.0 is 3.0\n"
     ]
    },
    {
     "data": {
      "text/plain": [
       "True"
      ]
     },
     "execution_count": 37,
     "metadata": {},
     "output_type": "execute_result"
    }
   ],
   "source": [
    "# in and is operator\n",
    "\"h\" in 'Happy'\n",
    "\"o\" in \"orange\"\n",
    "2 is 2.0\n",
    "3.0 is 3.0"
   ]
  },
  {
   "cell_type": "code",
   "execution_count": 38,
   "metadata": {},
   "outputs": [
    {
     "name": "stdout",
     "output_type": "stream",
     "text": [
      "24\n"
     ]
    }
   ],
   "source": [
    "# Assignment operator\n",
    "x=3\n",
    "x=x+3\n",
    "x+=2\n",
    "x-=2\n",
    "x*=4\n",
    "print(x)"
   ]
  },
  {
   "cell_type": "code",
   "execution_count": null,
   "metadata": {},
   "outputs": [],
   "source": [
    "# Advanced data types in python\n",
    "    # Python contian four in build advanced data types: \n",
    "    # 1. list 2. tuple 3. dictonary  4. set\n",
    "myList=[1,3,5,True,'rahim', 3.4,3j] # example of list\n"
   ]
  },
  {
   "cell_type": "code",
   "execution_count": 10,
   "metadata": {},
   "outputs": [
    {
     "name": "stdout",
     "output_type": "stream",
     "text": [
      "[3, 5, 6, 9, 0, 22, 33]\n",
      "<class 'list'>\n",
      "11\n"
     ]
    }
   ],
   "source": [
    "            # -----------------------List------------------#\n",
    "# List: Lists are one of 4 built-in data types in Python used to store collections of data          \n",
    "    # A List is created by placing items inside square brackets [] and separated by comma (,)\n",
    "    # A List is a collection of similar or different types of data items\n",
    "    # List items are ordered, changeable, and allow duplicate values\n",
    "    # List items are indexed, the first item has index [0], the second item has index [1] etc\n",
    "\n",
    "        #-----------Features of List-----------#\n",
    "            # A list can have duplicate items\n",
    "            # Items in list are mutable\n",
    "            # List can stores item of various types\n",
    "\n",
    "# List items: List items can be any data types\n",
    "list1=[1,2,3,4,5,6,7] # Integer\n",
    "list2=['CSE', 'Microbiology', 'Bioinformatics'] #String\n",
    "list3=[True, False, True] # Boolean\n",
    "list4=[3.2,4.0,40.33] # Floating \n",
    "\n",
    "# List allow different data types\n",
    "myList=[1,2,4,67,11,34,55,78,'Micro', True, 34.0] \n",
    "\n",
    "# List allow duplicate values\n",
    "myList1=[1,4,4,1,2,3,2] \n",
    "\n",
    "# Use list() constructer to create new lis\n",
    "newList=list((3,5,6,9,0,22,33)) # Use double round brackets\n",
    "print(newList)\n",
    "print(type(newList)) #To know data types\n",
    "\n",
    "# List length: len() use to determine list length\n",
    "print(len(myList))"
   ]
  },
  {
   "cell_type": "code",
   "execution_count": 41,
   "metadata": {},
   "outputs": [
    {
     "data": {
      "text/plain": [
       "[5, 30, 45, 67, 22, 77, 8, 4, 98, 100, 'CSE', True, 34]"
      ]
     },
     "execution_count": 41,
     "metadata": {},
     "output_type": "execute_result"
    }
   ],
   "source": [
    "# List access: List can be access by indexing\n",
    "myList=[5,57,1,4,0,77,8,4,98,100,'CSE', True, 34]\n",
    "# Access\n",
    "myList[4] # 4 index contain item 4\n",
    "myList[2:4] # Here access 2 to 3 index value\n",
    "myList[-1] # Indexing from end called negative indexing\n",
    "len(myList)\n",
    "myList[-13]\n",
    "myList[:] #First to last\n",
    "myList[5:] # From five to last\n",
    "myList[2:12:2] # Indexing increment by 2\n",
    "myList[-1:-13:-1] # Indexing increment by -1\n",
    "myList[::-1]\n",
    "\n",
    "# List Update by using index\n",
    "myList[2]=54\n",
    "myList # index[2] updated by 54\n",
    "myList[2:5]=45,67,22 # Updated multiple values\n",
    "myList\n",
    "\n"
   ]
  },
  {
   "cell_type": "code",
   "execution_count": 32,
   "metadata": {},
   "outputs": [
    {
     "data": {
      "text/plain": [
       "5"
      ]
     },
     "execution_count": 32,
     "metadata": {},
     "output_type": "execute_result"
    }
   ],
   "source": [
    "            # -------Accessing element a list------#\n",
    "# Accessing elements of single dimentional list\n",
    "# A single dimentional list is a list where elements are list one after the other.\n",
    "# Each element is allotted a unique number called index.\n",
    "# Exmaple:\n",
    "myList=[5,10,15,20,25,30]\n",
    "myList[1]\n",
    "# Negative indexing: Accessing element from the last.\n",
    "# First last element has index -1.\n",
    "myList[-1]\n",
    "\n",
    "# Multi-dimentional List: is a list containing another list\n",
    "# Example: \n",
    "MyList=[2,[1,2,3],'Python',[4,5,6]]\n",
    "# Accessing multi-dimentional list\n",
    "MyList[1][2]\n",
    "MyList[3][1]"
   ]
  },
  {
   "cell_type": "code",
   "execution_count": 28,
   "metadata": {},
   "outputs": [
    {
     "data": {
      "text/plain": [
       "['Srilanka',\n",
       " 'Pakistan',\n",
       " 'Nepal',\n",
       " 'Mayanmar',\n",
       " 'India',\n",
       " 'Bhutan',\n",
       " 'Afganistan',\n",
       " 'China',\n",
       " 'Iran',\n",
       " 'Iraq']"
      ]
     },
     "execution_count": 28,
     "metadata": {},
     "output_type": "execute_result"
    }
   ],
   "source": [
    "# List Function\n",
    "saarc=['Bangladesh', 'Pakistan','India','Srilanka', 'Bhutan', 'Nepal']\n",
    "saarc.append('Afganistan') # Add new value at the end\n",
    "saarc\n",
    "saarc.insert(2,'Mayanmar') # Insert new item at 2 index\n",
    "saarc\n",
    "saarc.sort() # It will sort the item\n",
    "saarc\n",
    "saarc.reverse() # Reverse the item\n",
    "saarc\n",
    "saarc.remove('Afganistan') # It will remove element\n",
    "saarc\n",
    "saarc.pop()\n",
    "saarc\n",
    "saarc.extend(['Afganistan','China']) # Add another list\n",
    "saarc\n",
    "saarc.count('China')\n",
    "saarc.index('Afganistan') # print item index\n",
    "saarc\n",
    "saarc.__add__(['Iran','Iraq']) # Add another list\n"
   ]
  },
  {
   "cell_type": "code",
   "execution_count": 8,
   "metadata": {},
   "outputs": [
    {
     "name": "stdout",
     "output_type": "stream",
     "text": [
      "Nepal\n",
      "Bhutan\n",
      "Bangladesh\n",
      "['India', 'Srilanka', 'Bhutan']\n",
      "Yes Bangladesh remain in this lits\n"
     ]
    }
   ],
   "source": [
    "# List Access\n",
    "saarc=['Bangladesh', 'Pakistan','India','Srilanka', 'Bhutan', 'Nepal']\n",
    "# List items are indexed and item can be access by indexing\n",
    "# First item has 0 index\n",
    "# List item also has negative index. Last item has -1.\n",
    "print(saarc[-1])\n",
    "print(saarc[-2])\n",
    "print(saarc[0])\n",
    "# You can mention a range of index\n",
    "print(saarc[2:5]) # The search will start at index 2 (included) and end at index 5 (not included)\n",
    "\n",
    "# To determine if a specified item is present in a list use the in keyword\n",
    "if 'Bangladesh' in saarc:\n",
    "    print('Yes, Bangladesh is in this lits')\n"
   ]
  },
  {
   "cell_type": "code",
   "execution_count": 8,
   "metadata": {},
   "outputs": [
    {
     "data": {
      "text/plain": [
       "['Sakib', 'Tamim', 'Mustafiz', 'Riyad', 'Miraj', 'Shoriful', 'Santo', 'Liton']"
      ]
     },
     "execution_count": 8,
     "metadata": {},
     "output_type": "execute_result"
    }
   ],
   "source": [
    "                #--------------Add element in a list--------------#\n",
    "# Three methods can be used to add element in a list.\n",
    "        # 1. append()\n",
    "        # 2. insert()\n",
    "        # 3. extend()\n",
    "# append() mothed: A build-in method used to add an item at the end of a list.\n",
    "# Syntex: list.append(value)\n",
    "# Example: \n",
    "programing_language=['C', 'C++', 'Java']\n",
    "programing_language\n",
    "programing_language.append('python')  # Add new item\n",
    "programing_language\n",
    "# Duplicate append method to add multiple item\n",
    "programing_language.append('Ruby')\n",
    "programing_language.append('R')\n",
    "programing_language.append('Javascript')\n",
    "programing_language\n",
    "# A list as an item can be added \n",
    "programing_language.append(['C', 'PHP','C#'])\n",
    "programing_language\n",
    "\n",
    "# insert() method: A build-in method to add an item in a list at specific position\n",
    "# Syntex: list.insert(position, value)\n",
    "# Example: \n",
    "Cricket_Team=['Sakib','Tamim', 'Riyad', 'Miraj']\n",
    "Cricket_Team\n",
    "Cricket_Team.insert(2,'Mustafiz')\n",
    "Cricket_Team\n",
    "\n",
    "# extend() method: A build-in method to add all item in one list in another list\n",
    "# Syntex: list1.extend(list2)\n",
    "Cricket_Team2=['Shoriful','Santo','Liton']\n",
    "Cricket_Team.extend(Cricket_Team2)\n",
    "Cricket_Team"
   ]
  },
  {
   "cell_type": "code",
   "execution_count": null,
   "metadata": {},
   "outputs": [
    {
     "name": "stdout",
     "output_type": "stream",
     "text": [
      "Bangladesh\n",
      "Pakistan\n",
      "India\n",
      "Srilanka\n",
      "Bhutan\n",
      "Nepal\n",
      "Bangladesh\n",
      "Pakistan\n",
      "India\n",
      "Srilanka\n",
      "Bhutan\n",
      "Nepal\n",
      "Bangladesh\n",
      "Pakistan\n",
      "India\n",
      "Srilanka\n",
      "Bhutan\n",
      "Nepal\n"
     ]
    }
   ],
   "source": [
    "# Loop of List\n",
    "#  for loop can be used to iterate over a list\n",
    "saarc=['Bangladesh', 'Pakistan','India','Srilanka', 'Bhutan', 'Nepal']\n",
    "for x in saarc:         # Here, x works as variable and item of saarc store at x and print one by one\n",
    "    print(x)\n",
    "# for loop along with range() function can be used to iterate over a list.\n",
    "# range() function return series of number. \n",
    "# range() function return values 0 to (stop values -1).\n",
    "for x in range(len(saarc)):             # Here,len() function give length 6 of the list.\n",
    "    print(saarc[x])                     # So,range() function return values (0 to 5) which work as index\n",
    "# Through itteration\n",
    "saarc=['Bangladesh', 'Pakistan','India','Srilanka', 'Bhutan', 'Nepal']\n",
    "i=0\n",
    "while i <len(saarc):\n",
    "    print(saarc[i])\n",
    "    i=i+1"
   ]
  },
  {
   "cell_type": "code",
   "execution_count": 27,
   "metadata": {},
   "outputs": [
    {
     "name": "stdout",
     "output_type": "stream",
     "text": [
      "Toyota\n",
      "BMW\n",
      "Range Rovers\n"
     ]
    },
    {
     "data": {
      "text/plain": [
       "['Mostafij', 'Mohammad', 'Mahafuj', 'Mahmud']"
      ]
     },
     "execution_count": 27,
     "metadata": {},
     "output_type": "execute_result"
    }
   ],
   "source": [
    "# List comprehension: List comprehension can produce result in less line of codes\n",
    "# Provides a shorter syntex while creating a new list from existing list\n",
    "# Syntex: list=[Expression for item in iterable if condition == True ]\n",
    "        # Expression represent some values store in list\n",
    "        # Condition is optional. It will use when required\n",
    "# Example: \n",
    "Cars=['Toyota', 'BMW', 'Range Rovers']\n",
    "[print(i) for i in Cars]\n",
    "newList= [i for i in Cars]\n",
    "newList\n",
    "# Create a list that will be double from previuos list\n",
    "NumList=[2,3,4,5,6,7]\n",
    "newNum=[]\n",
    "for x in NumList:\n",
    "    newNum.append(2*x)\n",
    "newNum\n",
    "# Do this by list comprehension\n",
    "newNum2=[2*x for x in NumList]\n",
    "newNum2\n",
    "# Create a list with even numbers from previous list\n",
    "num=[1,2,3,4,5,6,7,8,9,10,11,12]\n",
    "evenNum=[]\n",
    "for i in num:\n",
    "    if i % 2==0:\n",
    "        evenNum.append(i)\n",
    "evenNum\n",
    "# Do this by list compreension\n",
    "num=[1,2,3,4,5,6,7,8,9,10,11,12]\n",
    "evenNum=[x for x in num if x % 2==0]\n",
    "evenNum\n",
    "# Create a list whose each item will be square from previous list\n",
    "Number=[1,2,3,4,5,6,7,8,9,12,11,3,8]\n",
    "SquareList=[]\n",
    "for i in Number:\n",
    "        SquareList.append(i**2)\n",
    "SquareList\n",
    "# Do this with the help of list comprehension\n",
    "SquareList=[i**2 for i in Number]\n",
    "SquareList\n",
    "# Another Example\n",
    "names=['Mostafij', 'Jony', 'Mohammad', 'Takbir', 'Mahafuj', 'Ronok', 'Mahmud']\n",
    "M_name=[] # Create another list which contain item with capital 'M'\n",
    "for i in names:\n",
    "     if 'M' in i:\n",
    "          M_name.append(i)\n",
    "M_name\n",
    "# Do it with the help of comprehension\n",
    "M_name=[i for i in names if 'M' in i]\n",
    "M_name\n",
    "\n"
   ]
  },
  {
   "cell_type": "code",
   "execution_count": 16,
   "metadata": {},
   "outputs": [
    {
     "name": "stdout",
     "output_type": "stream",
     "text": [
      "['Bangladesh', 'Pakistan', 'India', 'Srilanka', 'Bhutan', 'Nepal']\n"
     ]
    },
    {
     "data": {
      "text/plain": [
       "['Bangladesh', 'Pakistan', 'India', 'Srilanka', 'Bhutan', 'Nepal']"
      ]
     },
     "execution_count": 16,
     "metadata": {},
     "output_type": "execute_result"
    }
   ],
   "source": [
    "# Copy a List\n",
    "saarc=['Bangladesh', 'Pakistan','India','Srilanka', 'Bhutan', 'Nepal']\n",
    "# Use build in build in copy() function\n",
    "myList=saarc.copy()\n",
    "print(myList)\n",
    "# Use build in list() function\n",
    "myList2=list(saarc)\n",
    "myList2\n",
    "# Use slice operator (:)\n",
    "myList3=saarc[:]\n",
    "myList3"
   ]
  },
  {
   "cell_type": "code",
   "execution_count": 8,
   "metadata": {},
   "outputs": [
    {
     "name": "stdout",
     "output_type": "stream",
     "text": [
      "['France', 'USA', 'Germany', 'England', 'Brazil', 'Rassia', 'India', 'China', 'South Africa']\n"
     ]
    },
    {
     "data": {
      "text/plain": [
       "['France',\n",
       " 'USA',\n",
       " 'Germany',\n",
       " 'England',\n",
       " 'Brazil',\n",
       " 'Rassia',\n",
       " 'India',\n",
       " 'China',\n",
       " 'South Africa',\n",
       " 'Brazil',\n",
       " 'Rassia',\n",
       " 'India',\n",
       " 'China',\n",
       " 'South Africa']"
      ]
     },
     "execution_count": 8,
     "metadata": {},
     "output_type": "execute_result"
    }
   ],
   "source": [
    "# Join List\n",
    "# Join list by using + operator\n",
    "G7=['France', 'USA', 'Germany', 'England']\n",
    "BRICS=['Brazil','Rassia', 'India', 'China', 'South Africa']\n",
    "G8=G7+BRICS\n",
    "G8\n",
    "# Another way to join two lists is by appending all the items one by one.\n",
    "for i in BRICS:\n",
    "    G7.append(i)\n",
    "print(G7)\n",
    "# Using extend() function, join two list\n",
    "G7.extend(BRICS)\n",
    "G7\n",
    "\n"
   ]
  },
  {
   "cell_type": "code",
   "execution_count": 11,
   "metadata": {},
   "outputs": [
    {
     "data": {
      "text/plain": [
       "('item1',)"
      ]
     },
     "execution_count": 11,
     "metadata": {},
     "output_type": "execute_result"
    }
   ],
   "source": [
    "        #----------------Tuples------------#\n",
    "# Tuple: Tuples are used to store multiple items in a single variable and build in data types.\n",
    "\n",
    "        #--------------------Character-------------#\n",
    "# 1. A tuple is a collection which is ordered and unchangeable.\n",
    "# 2. Tuples are written with round brackets/Parenthesis.\n",
    "# 3. Tuple items are ordered, unchangeable/immutable, and allow duplicate values.\n",
    "# 4. Tuple items are indexed, the first item has index [0].\n",
    "# 5. Tuple items can be of any data type.\n",
    "# 6. A tuple can contain different data types\n",
    "# Syntex: tuple=(item1,item2....)\n",
    "\n",
    "# Example\n",
    "myTuple=(1,4,6,66,78,'CSE', True, 34.0, 1,1, False)\n",
    "\n",
    "# Use len() to know length of tuple\n",
    "len(myTuple)\n",
    "# Function of tuple\n",
    "# Python has two build in function which can apply on tuple\n",
    "myTuple.count(66) # return the number of items \n",
    "myTuple.count(True)\n",
    "myTuple.count(False)\n",
    "myTuple.index(1)  # Show index of an item\n",
    "\n",
    "# Tuple() constructor: it is possile to use constructor to create tuple\n",
    "thisTuple=tuple((1,2,3,4,4,7))\n",
    "thisTuple\n",
    "\n",
    "# tuple with one item\n",
    "X=('item1', ) # use coma after the single item to create tuple with one item\n",
    "X"
   ]
  },
  {
   "cell_type": "code",
   "execution_count": 9,
   "metadata": {},
   "outputs": [
    {
     "data": {
      "text/plain": [
       "('cherry', 'orange', 'kiwi', 'melon')"
      ]
     },
     "execution_count": 9,
     "metadata": {},
     "output_type": "execute_result"
    }
   ],
   "source": [
    "# Accessing tuple by indexing\n",
    "myTuple=(4,5,6,'Name')\n",
    "myTuple[1]\n",
    "myTuple[3]\n",
    "# Negative indexing\n",
    "myTuple[-1]\n",
    "# Range of index\n",
    "Fruits = (\"apple\", \"banana\", \"cherry\", \"orange\", \"kiwi\", \"melon\", \"mango\")\n",
    "Fruits[2:6]"
   ]
  },
  {
   "cell_type": "code",
   "execution_count": 10,
   "metadata": {},
   "outputs": [
    {
     "data": {
      "text/plain": [
       "('apple', 'banana', 'banana', 'orange', 'kiwi', 'melon', 'guava')"
      ]
     },
     "execution_count": 10,
     "metadata": {},
     "output_type": "execute_result"
    }
   ],
   "source": [
    "# Change tuple items by converting tuple into list\n",
    "Fruits = (\"apple\", \"banana\", \"cherry\", \"orange\", \"kiwi\", \"melon\", \"mango\")\n",
    "x=list(Fruits) # Convert tuple into list\n",
    "x\n",
    "x[2]=\"banana\"\n",
    "x\n",
    "Fruits=tuple(x)\n",
    "Fruits\n",
    "\n",
    "# Add items\n",
    "x=list(Fruits)\n",
    "x.append('guava')\n",
    "Fruits=tuple(x)\n",
    "Fruits\n",
    "\n",
    "# Remove items\n",
    "x=list(Fruits)\n",
    "x.remove(\"mango\")\n",
    "Fruits=tuple(x)\n",
    "Fruits"
   ]
  },
  {
   "cell_type": "code",
   "execution_count": 17,
   "metadata": {},
   "outputs": [
    {
     "name": "stdout",
     "output_type": "stream",
     "text": [
      "BMW\n",
      "Toyota\n",
      "Hundai\n"
     ]
    },
    {
     "data": {
      "text/plain": [
       "['Hundai', 'range rovers', 'royal enfild']"
      ]
     },
     "execution_count": 17,
     "metadata": {},
     "output_type": "execute_result"
    }
   ],
   "source": [
    "# Unpacking a tuple\n",
    "        # Packing means assigning values to a tuple \n",
    "        # Unpacking means extracting values of a tuple\n",
    "# Example:\n",
    "cars=['BMW', 'Toyota','Hundai']\n",
    "car1,car2,car3=cars\n",
    "print(car1)\n",
    "print(car2)\n",
    "print(car3)\n",
    "\n",
    "# Use asterisk\n",
    "# Asterisk: use when the number of variable are less then the number of item\n",
    "cars=['BMW', 'Toyota','Hundai','range rovers','royal enfild']\n",
    "car1,car2,*car3=cars\n",
    "car1\n",
    "car2\n",
    "car3\n"
   ]
  },
  {
   "cell_type": "code",
   "execution_count": 3,
   "metadata": {},
   "outputs": [
    {
     "data": {
      "text/plain": [
       "('apple',\n",
       " 'banana',\n",
       " 'orange',\n",
       " 'mango',\n",
       " 'pineapple',\n",
       " 'apple',\n",
       " 'banana',\n",
       " 'orange',\n",
       " 'mango',\n",
       " 'pineapple')"
      ]
     },
     "execution_count": 3,
     "metadata": {},
     "output_type": "execute_result"
    }
   ],
   "source": [
    "# To join tuple use + operator\n",
    "tuple1=('apple','banana','orange')\n",
    "tuple2=('mango','pineapple')\n",
    "tuple3=tuple1+tuple2\n",
    "tuple3\n",
    "# To multiply tuple use * simple\n",
    "tuple4=tuple3*2\n",
    "tuple4"
   ]
  },
  {
   "cell_type": "code",
   "execution_count": 10,
   "metadata": {},
   "outputs": [
    {
     "name": "stdout",
     "output_type": "stream",
     "text": [
      "BMW\n",
      "Toyota\n",
      "Hundai\n",
      "range rovers\n",
      "royal enfild\n",
      "BMW\n",
      "Toyota\n",
      "Hundai\n",
      "range rovers\n",
      "royal enfild\n",
      "apple\n",
      "banana\n",
      "cherry\n",
      "orange\n",
      "kiwi\n",
      "melon\n",
      "mango\n"
     ]
    }
   ],
   "source": [
    "# Access tuple by using loop\n",
    "cars=('BMW', 'Toyota','Hundai','range rovers','royal enfild')\n",
    "# For loop\n",
    "for i in cars:\n",
    "    print(i)\n",
    "# Use range() function\n",
    "cars=('BMW', 'Toyota','Hundai','range rovers','royal enfild')\n",
    "for i in range(len(cars)):\n",
    "    print(cars[i])\n",
    "\n",
    "# while loop\n",
    "Fruits = (\"apple\", \"banana\", \"cherry\", \"orange\", \"kiwi\", \"melon\", \"mango\")\n",
    "x=0\n",
    "while x <len(Fruits):\n",
    "    print(Fruits[x])\n",
    "    x=x+1\n"
   ]
  },
  {
   "cell_type": "code",
   "execution_count": 2,
   "metadata": {},
   "outputs": [
    {
     "data": {
      "text/plain": [
       "{1, 56, 89, 'Bioinformatics', 'CSE', False}"
      ]
     },
     "execution_count": 2,
     "metadata": {},
     "output_type": "execute_result"
    }
   ],
   "source": [
    "        # -----------------Sets------------------#\n",
    "# Sets are used to store multiple items in a single variable.\n",
    "# A set is a collection which is unordered, unchangeable, and unindexed.\n",
    "# Set items are unchangeable, but you can remove items and add new items.\n",
    "# Sets are written with curly brackets.\n",
    "# Do not allow duplicate\n",
    "# Unordered means that the items in a set do not have a defined order.\n",
    "# Set items can appear in a different order.\n",
    "\n",
    "myset={1,3,4,True,1,'Micro'} # Use Curly brakets\n",
    "myset\n",
    "\n",
    "# Set items can be any item: integr, float,string, boolean\n",
    "set1={1,2,3,4,5} # Integer\n",
    "set2={'Bacteria', 'Virus', 'Fungus'} # String\n",
    "set3={34.0,3.4,4.5} # Float \n",
    "set4={True, False, True} # Boolean\n",
    "set4\n",
    "\n",
    "# A set can contain different data types\n",
    "myset1={1,3,4,True,1,'Micro', 56.0}\n",
    "myset1\n",
    "\n",
    "# Use the set() constructor to make a set\n",
    "ThisSet=set((1,56,89,'Bioinformatics', 'CSE', True, 1, False)) # Set use True and 1 same, 0 and False same\n",
    "ThisSet\n"
   ]
  },
  {
   "cell_type": "code",
   "execution_count": 1,
   "metadata": {},
   "outputs": [
    {
     "name": "stdout",
     "output_type": "stream",
     "text": [
      "1\n",
      "2\n",
      "3\n",
      "5\n",
      "6\n",
      "7\n",
      "9\n"
     ]
    }
   ],
   "source": [
    "# Set can not be access by indexing \n",
    "# loop can be used to access set\n",
    "mySet={1,2,3,5,6,7,9}\n",
    "for i in mySet:\n",
    "    print(i)"
   ]
  },
  {
   "cell_type": "code",
   "execution_count": 3,
   "metadata": {},
   "outputs": [
    {
     "data": {
      "text/plain": [
       "{'Bioinformatics',\n",
       " 'CSE',\n",
       " 'Cell Biology',\n",
       " 'Ecology',\n",
       " 'Genetics',\n",
       " 'Genomics',\n",
       " 'Molecular Biology'}"
      ]
     },
     "execution_count": 3,
     "metadata": {},
     "output_type": "execute_result"
    }
   ],
   "source": [
    "# Once a set is created, you cannot change its items, but you can add new items.\n",
    "# add items uding add () function\n",
    "myCourse={'Cell Biology', 'Bioinformatics', 'Molecular Biology', 'Genetics'}\n",
    "myCourse\n",
    "myCourse.add('Genomics') \n",
    "\n",
    "# To add items from another set into the current set, use the update() method\n",
    "myCourse2={'Ecology', 'CSE'}\n",
    "myCourse.update(myCourse2)\n",
    "myCourse"
   ]
  },
  {
   "cell_type": "code",
   "execution_count": 6,
   "metadata": {},
   "outputs": [
    {
     "data": {
      "text/plain": [
       "{'Bioinformatics',\n",
       " 'Cancer Biology',\n",
       " 'Ecology',\n",
       " 'Genetics',\n",
       " 'Genomics',\n",
       " 'Immunology',\n",
       " 'Microbiology'}"
      ]
     },
     "execution_count": 6,
     "metadata": {},
     "output_type": "execute_result"
    }
   ],
   "source": [
    "# Set function\n",
    "myCourse={'Cell Biology', 'Bioinformatics', 'Molecular Biology', 'Genetics'}\n",
    "myCourse\n",
    "myCourse.add('Genomics') # Add new item\n",
    "myCourse\n",
    "myCourse.remove('Cell Biology') # Remove item\n",
    "myCourse\n",
    "myCourse.difference(ThisSet) # Return difference item\n",
    "myCourse.intersection(ThisSet) # return common item\n",
    "myCourse.union(ThisSet) # Return unique value\n",
    "myCourse.issubset(ThisSet) # If all value of mycourse remain at thisset return true\n",
    "myCourse.issuperset(ThisSet)\n",
    "myCourse.update({'Ecology'}) # set extesion\n",
    "myCourse\n",
    "myCourse.pop() # First item will be remove\n",
    "myCourse\n",
    "myCourse.update({'Cancer Biology', 'Microbiology', 'Immunology'}) # update work like as extension \n",
    "myCourse"
   ]
  },
  {
   "cell_type": "code",
   "execution_count": 3,
   "metadata": {},
   "outputs": [
    {
     "data": {
      "text/plain": [
       "25"
      ]
     },
     "execution_count": 3,
     "metadata": {},
     "output_type": "execute_result"
    }
   ],
   "source": [
    "#---------------------Dictionary---------------------#\n",
    "# Dict: Dictionaries are used to store data values in key:value pairs\n",
    "\n",
    "          #-----------------Charater-----------#\n",
    "# Dictionaries are written with curly brackets, and have keys and values.\n",
    "# A dictionary is a collection which is ordered*, changeable and do not allow duplicates.\n",
    "# Dictionary items are ordered, changeable, and do not allow duplicates.\n",
    "# The values in dictionary items can be of any data type.\n",
    "# Example\n",
    "SubMarks={'Cell biology': 75,'Immunology': 80, 'Microbiology': 92, 'Genetics': 70 }\n",
    "SubMarks\n",
    "# To determine how many items a dictionary has, use the len() function\n",
    "len(SubMarks)\n",
    "# It is also possible to use the dict() constructor to make a dictionary \n",
    "Student=dict(Name='Faruk', Age= 25, District='Kushtia')\n",
    "Student\n",
    "Student['Age'] # Indexing by Keys\n"
   ]
  },
  {
   "cell_type": "code",
   "execution_count": 15,
   "metadata": {},
   "outputs": [
    {
     "data": {
      "text/plain": [
       "{'Brand': 'Apex', 'Class': 'Casual Man', 'Color': 'Blue', 'Size': 8}"
      ]
     },
     "execution_count": 15,
     "metadata": {},
     "output_type": "execute_result"
    }
   ],
   "source": [
    "# Dictionary Function\n",
    "Shoe={'Brand': 'Apex', 'Class': 'Casual Man', 'Color': 'Blue', 'Size': 8}\n",
    "Shoe\n",
    "Shoe.get('Size')\n",
    "Shoe.items()\n",
    "Shoe.keys()\n",
    "Shoe.values()\n",
    "Shoe.update({'Leather': 'Original'})\n",
    "Shoe\n",
    "Shoe.pop('Leather') # Provide key to remove items\n",
    "Shoe"
   ]
  },
  {
   "cell_type": "code",
   "execution_count": null,
   "metadata": {},
   "outputs": [],
   "source": []
  }
 ],
 "metadata": {
  "kernelspec": {
   "display_name": "Python 3",
   "language": "python",
   "name": "python3"
  },
  "language_info": {
   "codemirror_mode": {
    "name": "ipython",
    "version": 3
   },
   "file_extension": ".py",
   "mimetype": "text/x-python",
   "name": "python",
   "nbconvert_exporter": "python",
   "pygments_lexer": "ipython3",
   "version": "3.13.1"
  }
 },
 "nbformat": 4,
 "nbformat_minor": 2
}
