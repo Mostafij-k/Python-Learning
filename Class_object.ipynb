{
 "cells": [
  {
   "cell_type": "code",
   "execution_count": null,
   "metadata": {},
   "outputs": [
    {
     "name": "stdout",
     "output_type": "stream",
     "text": [
      "<class '__main__.Student'>\n",
      "This is student\n",
      "This is student\n"
     ]
    }
   ],
   "source": [
    "                #-----------Class-------#\n",
    "# Class : It's like an object constructor \n",
    "# It is a blueprint or template for creating Instance(Specific objects).\n",
    "# Python classes a way to create objects with attributes and methods\n",
    "# It has attributes/data and behaviors\n",
    "# Attributes are variable and behaviors are function/method\n",
    "# Function inside class called method\n",
    "# To create class use class keyword\n",
    "# Example:\n",
    "class Student:\n",
    "    def name(self):\n",
    "        print(\"This is student\")\n",
    "Ronok=Student()\n",
    "print(type(Ronok))\n",
    "Student.name(Ronok)     # If you want to call method inside class, you have metion class then call method\n",
    "                        # inside method use which object you want to work.\n",
    "Ronok.name()            # Another way, mention object then method\n"
   ]
  },
  {
   "cell_type": "code",
   "execution_count": 15,
   "metadata": {},
   "outputs": [
    {
     "name": "stdout",
     "output_type": "stream",
     "text": [
      "Mostafijur.Rahman@company.com\n",
      "Sakib.Hassan@company.com\n",
      "Mostafijur Rahman\n"
     ]
    }
   ],
   "source": [
    "# Another Example:\n",
    "# Each method in a class automatically take instance as a first argument\n",
    "class Employee:\n",
    "    def __init__(self,first_name,last_name,pay):\n",
    "        self.first_name=first_name\n",
    "        self.last_name=last_name               # Here, name,pay,email all are attributes\n",
    "        self.pay=pay\n",
    "        self.email=first_name + '.' + last_name + '@company.com'\n",
    "    def fulname(self):\n",
    "        return '{} {}'.format(self.first_name,self.last_name)\n",
    "\n",
    "\n",
    "Emp1=Employee(\"Mostafijur\",\"Rahman\",40000)\n",
    "Emp2=Employee(\"Sakib\",\"Hassan\",37000)\n",
    "print(Emp1.email)\n",
    "print(Emp2.email)\n",
    "Emp1.fulname()\n",
    "print(Employee.fulname(Emp1))\n"
   ]
  },
  {
   "cell_type": "code",
   "execution_count": null,
   "metadata": {},
   "outputs": [
    {
     "name": "stdout",
     "output_type": "stream",
     "text": [
      "Ronok\n",
      "5\n"
     ]
    }
   ],
   "source": [
    "# Class variable and Instance variable\n",
    "class Alien:\n",
    "    legs=5                  # Class variable\n",
    "    def __init__(self,name):\n",
    "        self.name=name      # Instance variable\n",
    "\n",
    "alien1=Alien(\"Ronok\")\n",
    "print(alien1.name)          # Accessing instance variable\n",
    "print(alien1.legs)          # Accessing class variable\n"
   ]
  },
  {
   "cell_type": "code",
   "execution_count": null,
   "metadata": {},
   "outputs": [
    {
     "name": "stdout",
     "output_type": "stream",
     "text": [
      "Config is i5 16\n",
      "Config is Ryzen 3 8\n"
     ]
    }
   ],
   "source": [
    "                         #------__init__ function-----#\n",
    "# The __init__ function in Python is a special method used in classes and is known as a constructor.\n",
    "# The purpose of the __init__ function in Python is to initialize an object's attributes. \n",
    "# It's called automatically every time the class is being used to create a new object.\n",
    "# When we craetemethod within a class they receive the instance as a first argument.\n",
    "# Basic Syntex:\n",
    "class ClassName:\n",
    "    def __init__(self, parameter1, parameter2,):        # Here, object pass into the self as a first argument\n",
    "        self.attribute1 = parameter1\n",
    "        self.attribute2 = parameter2\n",
    "\n",
    "# Example:\n",
    "class computer:\n",
    "    def __init__(self,cpu,ram):\n",
    "        self.cpu=cpu\n",
    "        self.ram=ram\n",
    "        \n",
    "    def config(self):\n",
    "        print(\"Config is\",self.cpu,self.ram)\n",
    "com1=computer('i5',16)\n",
    "com2=computer('Ryzen 3',8)\n",
    "com1.config()\n",
    "com2.config()\n",
    "        "
   ]
  },
  {
   "cell_type": "code",
   "execution_count": null,
   "metadata": {},
   "outputs": [],
   "source": [
    "                    #---------Self and constructer--------#\n",
    "#        "
   ]
  },
  {
   "cell_type": "code",
   "execution_count": null,
   "metadata": {},
   "outputs": [],
   "source": [
    "# Object: An object is a more general term that refers to any entity in Python that has attributes and methods.\n",
    "    # In Python, everything is considered an object example: list , numbers etc\n",
    "\n",
    "# Instance: An instance is a specific object that is created using a class. \n",
    "    # It is an \"instance\" of that particular class. \n",
    "    # All instances are objects, but not all objects are instances of custom-defined classes."
   ]
  },
  {
   "cell_type": "code",
   "execution_count": null,
   "metadata": {},
   "outputs": [],
   "source": [
    "                #---------Object--------#\n",
    "# An object represents an entity/object in the real world\n",
    "# An object has a state, a behavior, and an identity"
   ]
  }
 ],
 "metadata": {
  "kernelspec": {
   "display_name": "Python 3",
   "language": "python",
   "name": "python3"
  },
  "language_info": {
   "codemirror_mode": {
    "name": "ipython",
    "version": 3
   },
   "file_extension": ".py",
   "mimetype": "text/x-python",
   "name": "python",
   "nbconvert_exporter": "python",
   "pygments_lexer": "ipython3",
   "version": "3.13.1"
  }
 },
 "nbformat": 4,
 "nbformat_minor": 2
}
