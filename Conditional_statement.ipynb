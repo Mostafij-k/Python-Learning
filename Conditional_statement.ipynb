{
 "cells": [
  {
   "cell_type": "code",
   "execution_count": 7,
   "metadata": {},
   "outputs": [
    {
     "name": "stdout",
     "output_type": "stream",
     "text": [
      "X is less than 30\n",
      "X is less than 50\n",
      "End of the program\n",
      "X is less than 30\n",
      "End of the program\n",
      "X is equal to 10\n",
      "X is less than 50\n",
      "End of the program\n"
     ]
    }
   ],
   "source": [
    "                #------If statement-------#\n",
    "# If statement allows us to decides whether a particular statement or block of statements will be executed or not based on some conditions.\n",
    "# Syntax: if condition:\n",
    "                # statement 1\n",
    "                # statement 2....\n",
    "# Here, condition an expression that evaluates to a boolean value: True/False.\n",
    "# If condition comes true/satisfied block of code under if statement will be executed.\n",
    "# Example:\n",
    "x=10\n",
    "if x<30:\n",
    "    print('X is less than 30')\n",
    "\n",
    "# Satement outside if block\n",
    "# The statement outside if block will be executed regardless the if statement whether satisfied or not\n",
    "# Syntax: if condition:\n",
    "            # statement inside if block # if condition true it will be executed\n",
    "        # Statement outside if block    # always will be executed\n",
    "# Example:\n",
    "x=30\n",
    "if x <50:\n",
    "    print('X is less than 50')\n",
    "print('End of the program')\n",
    "\n",
    "# Short hand if\n",
    "# When only one statement to execute, put that in the same line as if statement\n",
    "x=20\n",
    "if x<30: print('X is less than 30')\n",
    "print('End of the program')\n",
    "\n",
    "# Nested if statement\n",
    "# The if statement inside another if statement is called nested if statement\n",
    "# Syntax: if condition1:\n",
    "                # Condition1 will execute if true\n",
    "                # if condition2:\n",
    "                    # condition2 will execute if true\n",
    "        # satement outside if block \n",
    "# Example:\n",
    "x=int(input(\"Please enter an integer value: \"))\n",
    "if x<50:\n",
    "    if x==10:\n",
    "        print(\"X is equal to 10\")\n",
    "    print(\"X is less than 50\")\n",
    "print(\"End of the program\")\n",
    "\n"
   ]
  },
  {
   "cell_type": "code",
   "execution_count": null,
   "metadata": {},
   "outputs": [],
   "source": [
    "\n",
    "age=int(input(\"Please enter your age: \"))\n",
    "if age>=18:\n",
    "    print('You are eligible for national ID card')\n",
    "else:\n",
    "    print(\"You are eligible for birth certificate\")"
   ]
  }
 ],
 "metadata": {
  "kernelspec": {
   "display_name": "Python 3",
   "language": "python",
   "name": "python3"
  },
  "language_info": {
   "codemirror_mode": {
    "name": "ipython",
    "version": 3
   },
   "file_extension": ".py",
   "mimetype": "text/x-python",
   "name": "python",
   "nbconvert_exporter": "python",
   "pygments_lexer": "ipython3",
   "version": "3.13.1"
  }
 },
 "nbformat": 4,
 "nbformat_minor": 2
}
