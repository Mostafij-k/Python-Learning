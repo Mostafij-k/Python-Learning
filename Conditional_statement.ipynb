{
 "cells": [
  {
   "cell_type": "code",
   "execution_count": null,
   "metadata": {},
   "outputs": [
    {
     "name": "stdout",
     "output_type": "stream",
     "text": [
      "X is less than 30\n",
      "X is less than 50\n",
      "End of the program\n",
      "X is less than 30\n",
      "End of the program\n",
      "X is equal to 10\n",
      "X is less than 50\n",
      "End of the program\n"
     ]
    }
   ],
   "source": [
    "                #------If statement-------#\n",
    "# If statement allows us to decides whether a particular statement or block of statements will be executed or not based on some conditions.\n",
    "# Syntax: if condition:\n",
    "                # statement 1\n",
    "                # statement 2....\n",
    "# Here, condition an expression that evaluates to a boolean value: True/False.\n",
    "# If condition comes true/satisfied block of code under if statement will be executed.\n",
    "# Example:\n",
    "x=10\n",
    "if x<30:\n",
    "    print('X is less than 30')\n",
    "\n",
    "# Satement outside if block\n",
    "# The statement outside if block will be executed regardless the if statement whether satisfied or not\n",
    "# Syntax: if condition:\n",
    "            # statement inside if block # if condition true it will be executed\n",
    "        # Statement outside if block    # always will be executed\n",
    "# Example:\n",
    "x=30\n",
    "if x <50:\n",
    "    print('X is less than 50')\n",
    "print('End of the program')\n",
    "\n",
    "# Short hand if\n",
    "# When only one statement to execute, put that in the same line as if statement\n",
    "# Example\n",
    "x=20\n",
    "if x<30: print('X is less than 30')\n",
    "print('End of the program')\n",
    "\n",
    "# Nested if statement\n",
    "# The if statement inside another if statement is called nested if statement\n",
    "# Syntax: if condition1:\n",
    "                # Condition1 will execute if true\n",
    "                # if condition2:\n",
    "                    # condition2 will execute if true\n",
    "        # satement outside if block \n",
    "# Example:\n",
    "x=int(input(\"Please enter an integer value: \"))\n",
    "if x<50:\n",
    "    if x==10:\n",
    "        print(\"X is equal to 10\")\n",
    "    print(\"X is less than 50\")\n",
    "print(\"End of the program\")\n",
    "\n"
   ]
  },
  {
   "cell_type": "code",
   "execution_count": null,
   "metadata": {},
   "outputs": [
    {
     "name": "stdout",
     "output_type": "stream",
     "text": [
      "You can vote!\n",
      "Done!\n",
      "You can vote!\n",
      "Done!\n"
     ]
    }
   ],
   "source": [
    "                # ---------The if-else Statement----------#\n",
    "# The else statement can be used with if statement to execute a block of code when if statement is not satisfied\n",
    "# The if-else statement is used when decision has to be made among two alternatives \n",
    "# syntax: \n",
    "           # if condition:\n",
    "                # Statement inside if block\n",
    "           # else:\n",
    "                # Statement inside else block\n",
    "           # Statement outside block\n",
    "# Example\n",
    "age=20\n",
    "if age<18:\n",
    "    print(\"You can not vote!\")\n",
    "else: \n",
    "    print(\"You can vote!\")\n",
    "print(\"Done!\")\n",
    "\n",
    "# Short hand if-else satement\n",
    "# Used when only one statement for if and one statement for else need to be executed\n",
    "# Syntax:   # if statement if condition # else # else statement\n",
    "age=24\n",
    "print(\"You can vote!\") if age>18 else print(\"You can not vote!\")\n",
    "print(\"Done!\")"
   ]
  },
  {
   "cell_type": "code",
   "execution_count": 12,
   "metadata": {},
   "outputs": [
    {
     "name": "stdout",
     "output_type": "stream",
     "text": [
      "x is greater than 5\n",
      "Done!\n"
     ]
    }
   ],
   "source": [
    "                #-------if-elif-else statement-----#\n",
    "# The if-else statement is used when decision has to be made between more than two alternatives\n",
    "# Syntax: if condition1:\n",
    "                # statement inside if block\n",
    "          # elif condition2:\n",
    "                # statement inside elif block\n",
    "          # else:\n",
    "                # statement inside else block\n",
    "# Example:\n",
    "x=10\n",
    "if x==5:\n",
    "    print('x equal to 5')\n",
    "elif x<5:\n",
    "    print('x is less than 5')\n",
    "else:\n",
    "    print('x is greater than 5')\n",
    "print('Done!')"
   ]
  },
  {
   "cell_type": "code",
   "execution_count": 14,
   "metadata": {},
   "outputs": [
    {
     "name": "stdout",
     "output_type": "stream",
     "text": [
      "x is divisible by 3\n",
      "Done!\n"
     ]
    }
   ],
   "source": [
    "# Divisibility Test\n",
    "# WAP to test whether a number is divisible by 2 or 3\n",
    "x=15\n",
    "if x%2==0:\n",
    "    print('x is divisible by 2')\n",
    "elif x%3==0:\n",
    "    print('x is divisible by 3')\n",
    "else: \n",
    "    print('x is not divisble neither 2 nor 3')\n",
    "print('Done!')"
   ]
  },
  {
   "cell_type": "code",
   "execution_count": 18,
   "metadata": {},
   "outputs": [
    {
     "name": "stdout",
     "output_type": "stream",
     "text": [
      "You are eligible for this exam\n",
      "You are not eligible for this exam\n",
      "You are eligible for this exam. Exam fee is 1500 Taka\n"
     ]
    }
   ],
   "source": [
    "                #------Logical AND with conditions-------#\n",
    "# Logical AND wit if statement\n",
    "# Used to combine multple conditions into a single expression\n",
    "# Helps in avoiding nested if statement\n",
    "# Example:\n",
    "age=23\n",
    "nationality='Bangladeshi'\n",
    "if age>18 and age<30 and nationality=='Bangladeshi':\n",
    "    print(\"You are eligible for this exam\")\n",
    "\n",
    "# Logical AND with if-else statement\n",
    "# if any one condition is not satisfied else block will be executed\n",
    "age=32\n",
    "nationality='Bangladeshi'\n",
    "if age>18 and age<30 and nationality=='Bangladeshi':\n",
    "    print(\"You are eligible for this exam\")\n",
    "else:\n",
    "    print(\"You are not eligible for this exam\")\n",
    "\n",
    "# Logical AND with if-elif-else statement\n",
    "age=23\n",
    "nationality='Bangladeshi'\n",
    "if age>18 and age<30 and nationality=='Bangladeshi':\n",
    "    print(\"You are eligible for this exam. Exam fee is 1500 Taka\")\n",
    "elif age>18 and age<30 and nationality=='America':\n",
    "    print(\"You are eligible for this exam. Exam fee is 50$\")\n",
    "else:\n",
    "    print(\"You are not eligible for this exam\")"
   ]
  },
  {
   "cell_type": "code",
   "execution_count": 21,
   "metadata": {},
   "outputs": [
    {
     "name": "stdout",
     "output_type": "stream",
     "text": [
      "Today is weekend!\n",
      "Today is weekday!\n",
      "Work extra 2 hours\n"
     ]
    }
   ],
   "source": [
    "                    #-----Logical OR with conditions----#\n",
    "# Logical or with if statement\n",
    "# If any of the conditions are satisfied statement inside the if block will be executed\n",
    "# Eaxmple:\n",
    "Today='Friday'\n",
    "if Today=='Friday' or Today=='Saturday':\n",
    "    print('Today is weekend!')\n",
    "\n",
    "# Logical or with if-else statement\n",
    "Today='Monday'\n",
    "if Today=='Friday' or Today=='Saturday':\n",
    "    print('Today is weekend!')\n",
    "else:\n",
    "    print('Today is weekday!')\n",
    "\n",
    "# Logical or with if-elif-else statement\n",
    "Today='Monday'\n",
    "if Today=='Friday' or Today=='Saturday':\n",
    "    print('Today is weekend!')\n",
    "elif Today=='Monday' or Today=='Thursday':\n",
    "    print('Work extra 2 hours')\n",
    "else:\n",
    "    print('Today is normal weekday!')"
   ]
  },
  {
   "cell_type": "code",
   "execution_count": null,
   "metadata": {},
   "outputs": [],
   "source": [
    "\n",
    "age=int(input(\"Please enter your age: \"))\n",
    "if age>=18:\n",
    "    print('You are eligible for national ID card')\n",
    "else:\n",
    "    print(\"You are eligible for birth certificate\")"
   ]
  }
 ],
 "metadata": {
  "kernelspec": {
   "display_name": "Python 3",
   "language": "python",
   "name": "python3"
  },
  "language_info": {
   "codemirror_mode": {
    "name": "ipython",
    "version": 3
   },
   "file_extension": ".py",
   "mimetype": "text/x-python",
   "name": "python",
   "nbconvert_exporter": "python",
   "pygments_lexer": "ipython3",
   "version": "3.13.1"
  }
 },
 "nbformat": 4,
 "nbformat_minor": 2
}
