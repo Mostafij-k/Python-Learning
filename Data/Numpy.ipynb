{
 "cells": [
  {
   "cell_type": "code",
   "execution_count": 2,
   "id": "11b9436f",
   "metadata": {},
   "outputs": [
    {
     "name": "stdout",
     "output_type": "stream",
     "text": [
      "Numpy version: 2.2.4\n"
     ]
    }
   ],
   "source": [
    "# Numpy is a python library for numerical computations.\n",
    "# It is used for working with arrays and matrices.\n",
    "# NumPy is short for \"Numerical Python\".\n",
    "# The array object in NumPy is called ndarray\n",
    "import numpy as np\n",
    "version =np.__version__\n",
    "print(f\"Numpy version: {version}\")"
   ]
  },
  {
   "cell_type": "code",
   "execution_count": 5,
   "id": "65d57680",
   "metadata": {},
   "outputs": [
    {
     "name": "stdout",
     "output_type": "stream",
     "text": [
      "Array: [1 2 3 4 5]\n",
      "Type of the array: <class 'numpy.ndarray'>\n",
      "Shape of the array: (5,)\n",
      "Data type of the array: int64\n",
      "Size of the array: 5\n",
      "Number of dimensions of the array: 1\n",
      "Item size of the array: 8\n",
      "Total bytes consumed by the array: 40\n"
     ]
    }
   ],
   "source": [
    "        # -------Creating a NumPy array------#\n",
    "# The array object in NumPy is called ndarray\n",
    "# An ndarray is a multidimensional array object\n",
    "# Create a NumPy ndarray object by using the array() function\n",
    "import numpy as np\n",
    "# Create a NumPy array from a list\n",
    "arry=np.array([1, 2, 3, 4, 5])\n",
    "# Print the array   \n",
    "print(\"Array:\", arry)\n",
    "# Print the type of the array   \n",
    "print(\"Type of the array:\", type(arry))\n",
    "# Print the shape of the array  \n",
    "print(\"Shape of the array:\", arry.shape)\n",
    "# Print the data type of the array      \n",
    "print(\"Data type of the array:\", arry.dtype)\n",
    "# Print the size of the array\n",
    "print(\"Size of the array:\", arry.size)\n",
    "# Print the number of dimensions of the array   \n",
    "print(\"Number of dimensions of the array:\", arry.ndim)\n",
    "# Print the item size of the array\n",
    "print(\"Item size of the array:\", arry.itemsize)\n",
    "# Print the total bytes consumed by the array   \n",
    "print(\"Total bytes consumed by the array:\", arry.nbytes)\n"
   ]
  },
  {
   "cell_type": "code",
   "execution_count": 16,
   "id": "2a80d201",
   "metadata": {},
   "outputs": [
    {
     "name": "stdout",
     "output_type": "stream",
     "text": [
      "1D Array: [ 1  2  3  4  5  6  7  8  9 10]\n",
      "2D Array:\n",
      " [[ 1  2  3  4  5]\n",
      " [ 6  7  8  9 10]]\n",
      "3D Array:\n",
      " [[[ 1  2  3]\n",
      "  [ 4  5  6]]\n",
      "\n",
      " [[ 7  8  9]\n",
      "  [10 11 12]]]\n",
      "Number of dimensions of 1D array: 1\n",
      "Number of dimensions of 2D array: 2\n",
      "Number of dimensions of 3D array: 3\n"
     ]
    }
   ],
   "source": [
    "        # -----Dimensions of a NumPy array----\n",
    "# A NumPy array can have multiple dimensions    \n",
    "# A 1D array is a one-dimensional array\n",
    "# A 2D array is a two-dimensional array \n",
    "# A 3D array is a three-dimensional array\n",
    "# A 4D array is a four-dimensional array\n",
    "# Create a 1D array\n",
    "array_1d = np.array([1,2,3,4,5,6,7,8,9,10])\n",
    "# Print the 1D array\n",
    "print(\"1D Array:\", array_1d)\n",
    "# Create a 2D array\n",
    "array_2d = np.array([[1,2,3,4,5],[6,7,8,9,10]])\n",
    "# Print the 2D array\n",
    "print('2D Array:\\n', array_2d)\n",
    "# Create a 3D array\n",
    "array_3d = np.array([[[1,2,3],[4,5,6]],[[7,8,9],[10,11,12]]])\n",
    "# Print the 3D array\n",
    "print('3D Array:\\n', array_3d)\n",
    "# Check the number of dimensions of the arrays\n",
    "print(\"Number of dimensions of 1D array:\", array_1d.ndim) \n",
    "print(\"Number of dimensions of 2D array:\", array_2d.ndim)\n",
    "print(\"Number of dimensions of 3D array:\", array_3d.ndim)  "
   ]
  },
  {
   "cell_type": "code",
   "execution_count": 20,
   "id": "263481a8",
   "metadata": {},
   "outputs": [
    {
     "name": "stdout",
     "output_type": "stream",
     "text": [
      "Array filled with zeros:\n",
      " [[0. 0. 0. 0.]\n",
      " [0. 0. 0. 0.]\n",
      " [0. 0. 0. 0.]]\n",
      "Array filled with zeros of int type:\n",
      " [[0 0 0]\n",
      " [0 0 0]]\n",
      "Array filled with ones:\n",
      " [[1. 1. 1.]\n",
      " [1. 1. 1.]]\n"
     ]
    }
   ],
   "source": [
    "# -------Creating a NumPy array with zeros------#\n",
    "# Create a NumPy array filled with zeros    \n",
    "array_zeros = np.zeros((3, 4))  # 3 rows and 4 columns\n",
    "# Print the array filled with zeros\n",
    "print(\"Array filled with zeros:\\n\", array_zeros)\n",
    "# Create a NumPy array filled with zeros of a specific data type\n",
    "array_zeros_int = np.zeros((2, 3), dtype=int)  # 2 rows and 3 columns\n",
    "# Print the array filled with zeros of a specific data type\n",
    "print(\"Array filled with zeros of int type:\\n\", array_zeros_int)\n",
    "# Create a numpy array with ones\n",
    "array_ones = np.ones((2, 3))  # 2 rows and 3 columns\n",
    "# Print the array filled with ones  \n",
    "print(\"Array filled with ones:\\n\", array_ones)\n"
   ]
  },
  {
   "cell_type": "code",
   "execution_count": null,
   "id": "ce8c122d",
   "metadata": {},
   "outputs": [
    {
     "name": "stdout",
     "output_type": "stream",
     "text": [
      "Original Array: [ 1  2  3  4  5  6  7  8  9 10]\n",
      "First element: 1\n",
      "Last element: 10\n",
      "Elements from index 2 to 5: [3 4 5 6]\n",
      "Elements from start to index 4: [1 2 3 4 5]\n",
      "2D Array:\n",
      " [[1 2 3]\n",
      " [4 5 6]\n",
      " [7 8 9]]\n",
      "Element at row 1, column 2: 3\n",
      "First row of the 2D array: [1 2 3]\n",
      "Second column of the 2D array: [2 5 8]\n",
      "Sub-array from row 0 to 1 and column 0 to 1:\n",
      " [[1 2]\n",
      " [4 5]]\n",
      "3D Array:\n",
      " [[[ 1  2  3]\n",
      "  [ 4  5  6]]\n",
      "\n",
      " [[ 7  8  9]\n",
      "  [10 11 12]]]\n",
      "Element at index [1, 0, 2]: 9\n",
      "Third element of the second array of the first array: 6\n",
      "First array of the 3D array:\n",
      " [[1 2 3]\n",
      " [4 5 6]]\n"
     ]
    }
   ],
   "source": [
    "        # ---Indexing of NumPy arrays---#\n",
    "# Indexing and slicing are used to access elements of a NumPy array\n",
    "# Create a NumPy array\n",
    "import numpy as np\n",
    "array = np.array([1, 2, 3, 4, 5, 6, 7, 8, 9, 10])\n",
    "# Print the original array \n",
    "print(\"Original Array:\", array)\n",
    "# Access the first element of the array \n",
    "# Indexing starts from 0  \n",
    "print(\"First element:\", array[0])               \n",
    "# Access the last element of the array\n",
    "print(\"Last element:\", array[-1]) \n",
    "# Access a range of elements from the array\n",
    "print(\"Elements from index 2 to 5:\", array[2:6])\n",
    "# Access elements from the start to index 4             \n",
    "print(\"Elements from start to index 4:\", array[:5])\n",
    "\n",
    "# Indexing 2 D arrays\n",
    "# Create a 2D NumPy array\n",
    "array_2d = np.array([[1, 2, 3], [4, 5, 6], [7, 8, 9]])\n",
    "# Print the 2D array\n",
    "print(\"2D Array:\\n\", array_2d)\n",
    "# Access the element at row 1, column 2\n",
    "print(\"Element at row 1, column 2:\", array_2d[0, 2])\n",
    "# Access the first row of the 2D array\n",
    "print(\"First row of the 2D array:\", array_2d[0])\n",
    "# Access the second column of the 2D array\n",
    "print(\"Second column of the 2D array:\", array_2d[:, 1])\n",
    "\n",
    "# Slicing 2D arrays\n",
    "# Access a sub-array from the 2D array  \n",
    "print(\"Sub-array from row 0 to 1 and column 0 to 1:\\n\", array_2d[0:2, 0:2])\n",
    "\n",
    "# 3D array indexing\n",
    "# Create a 3D NumPy array       \n",
    "array_3d = np.array([[[1, 2, 3], [4, 5, 6]], [[7, 8, 9], [10, 11, 12]]])\n",
    "# Print the 3D array\n",
    "print(\"3D Array:\\n\", array_3d)\n",
    "# Access the element at index [1, 0, 2] in the 3D array\n",
    "print(\"Element at index [1, 0, 2]:\", array_3d[1, 0, 2])\n",
    "# Access the third element of the second array of the first array\n",
    "print(\"Third element of the second array of the first array:\", array_3d[0, 1, 2])\n",
    "# Access the first array of the 3D array\n",
    "print(\"First array of the 3D array:\\n\", array_3d[0])\n",
    "\n",
    "\n"
   ]
  },
  {
   "cell_type": "code",
   "execution_count": 30,
   "id": "2e6af893",
   "metadata": {},
   "outputs": [
    {
     "name": "stdout",
     "output_type": "stream",
     "text": [
      "Original Array: [ 1  2  3  4  5  6  7  8  9 10]\n",
      "Sliced Array from index 2 to 5: [3 4 5 6]\n",
      "Sliced Array from start to index 4: [1 2 3 4 5]\n",
      "Sliced Array from index 5 to the end: [ 6  7  8  9 10]\n",
      "Sliced Array with a step of 2: [1 3 5 7 9]\n",
      "2D Array:\n",
      " [[1 2 3]\n",
      " [4 5 6]\n",
      " [7 8 9]]\n",
      "Sliced 2D Array (first two rows and first two columns):\n",
      " [[1 2]\n",
      " [4 5]]\n",
      "Sliced 2D Array (first two rows and all columns):\n",
      " [[1 2 3]\n",
      " [4 5 6]]\n",
      "Sliced 2D Array (second row and all columns):\n",
      " [4 5 6]\n",
      "3D Array:\n",
      " [[[ 1  2  3]\n",
      "  [ 4  5  6]]\n",
      "\n",
      " [[ 7  8  9]\n",
      "  [10 11 12]]]\n",
      "Sliced 3D Array (first array, first two rows and all columns):\n",
      " [[1 2 3]\n",
      " [4 5 6]]\n",
      "Sliced 3D Array (second array, all rows and first two columns):\n",
      " [[ 7  8]\n",
      " [10 11]]\n"
     ]
    }
   ],
   "source": [
    "         # --- Slicing of NumPy arrays---# \n",
    "# Slicing is used to access a range of elements in a NumPy array\n",
    "# Slicing is similar to indexing, but it allows you to access multiple elements at once  \n",
    "# Taking elements from one given index to another given index    \n",
    "# We pass slice instead of index like this: [start:end].\n",
    "# We can also define the step, like this: [start:end:step].\n",
    "# If we don't pass start its considered 0\n",
    "# If we don't pass end its considered length of array in that dimension\n",
    "# If we don't pass step its considered 1\n",
    "\n",
    "# Create a NumPy array\n",
    "import numpy as np\n",
    "array = np.array([1, 2, 3, 4, 5, 6, 7, 8, 9, 10])\n",
    "# Print the original array\n",
    "print(\"Original Array:\", array)\n",
    "# Slicing the array from index 2 to 5\n",
    "print(\"Sliced Array from index 2 to 5:\", array[2:6])\n",
    "# Slicing the array from start to index 4\n",
    "print(\"Sliced Array from start to index 4:\", array[:5])\n",
    "# Slicing the array from index 5 to the end\n",
    "print(\"Sliced Array from index 5 to the end:\", array[5:])\n",
    "# Slicing the array with a step of 2\n",
    "print(\"Sliced Array with a step of 2:\", array[::2])\n",
    "\n",
    "# Slicing a 2D array\n",
    "# Create a 2D NumPy array\n",
    "array_2d = np.array([[1, 2, 3], [4, 5, 6], [7, 8, 9]])\n",
    "# Print the 2D array\n",
    "print(\"2D Array:\\n\", array_2d)\n",
    "# Slicing the first two rows and first two columns\n",
    "print(\"Sliced 2D Array (first two rows and first two columns):\\n\", array_2d[:2, :2])\n",
    "# Slicing the first two rows and all columns\n",
    "print(\"Sliced 2D Array (first two rows and all columns):\\n\", array_2d[:2, :])\n",
    "# Slicing the second row and all columns\n",
    "print(\"Sliced 2D Array (second row and all columns):\\n\", array_2d[1, :])\n",
    "\n",
    "# 3D array slicing\n",
    "# Create a 3D NumPy array\n",
    "array_3d = np.array([[[1, 2, 3], [4, 5, 6]], [[7, 8, 9], [10, 11, 12]]])\n",
    "# Print the 3D array\n",
    "print(\"3D Array:\\n\", array_3d)\n",
    "# Slicing the first array and first two rows and all columns\n",
    "print(\"Sliced 3D Array (first array, first two rows and all columns):\\n\", array_3d[0, :2, :])\n",
    "# Slicing the second array and all rows and first two columns\n",
    "print(\"Sliced 3D Array (second array, all rows and first two columns):\\n\", array_3d[1, :, :2])"
   ]
  },
  {
   "cell_type": "code",
   "execution_count": 38,
   "id": "f7b03f1a",
   "metadata": {},
   "outputs": [
    {
     "name": "stdout",
     "output_type": "stream",
     "text": [
      "Original Array: [ 1  2  3  4  5  6  7  8  9 10]\n",
      "Shape of the array: (10,)\n",
      "Reshaped Array (2 rows and 5 columns):\n",
      " [[ 1  2  3  4  5]\n",
      " [ 6  7  8  9 10]]\n"
     ]
    }
   ],
   "source": [
    "        # ---------Array Shape------\n",
    "# The shape of a NumPy array is the number of elements in each dimension\n",
    "# The shape of a NumPy array can be changed using the reshape() function\n",
    "# Create a NumPy array\n",
    "import numpy as np\n",
    "array = np.array([1, 2, 3, 4, 5, 6, 7, 8, 9, 10])\n",
    "# Print the original array\n",
    "print(\"Original Array:\", array)\n",
    "# Print the shape of the array\n",
    "print(\"Shape of the array:\", array.shape)   \n",
    "# Reshape the array to a 2D array with 2 rows and 5 columns\n",
    "reshaped_array = array.reshape(2, 5)    \n",
    "# Print the reshaped array\n",
    "print(\"Reshaped Array (2 rows and 5 columns):\\n\", reshaped_array) \n"
   ]
  }
 ],
 "metadata": {
  "kernelspec": {
   "display_name": "Python 3",
   "language": "python",
   "name": "python3"
  },
  "language_info": {
   "codemirror_mode": {
    "name": "ipython",
    "version": 3
   },
   "file_extension": ".py",
   "mimetype": "text/x-python",
   "name": "python",
   "nbconvert_exporter": "python",
   "pygments_lexer": "ipython3",
   "version": "3.13.1"
  }
 },
 "nbformat": 4,
 "nbformat_minor": 5
}
