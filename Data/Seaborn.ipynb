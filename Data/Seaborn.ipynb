{
 "cells": [
  {
   "cell_type": "code",
   "execution_count": null,
   "id": "2fc941e2",
   "metadata": {},
   "outputs": [
    {
     "name": "stdout",
     "output_type": "stream",
     "text": [
      "Collecting openpyxl\n",
      "  Downloading openpyxl-3.1.5-py2.py3-none-any.whl.metadata (2.5 kB)\n",
      "Collecting et-xmlfile (from openpyxl)\n",
      "  Downloading et_xmlfile-2.0.0-py3-none-any.whl.metadata (2.7 kB)\n",
      "Downloading openpyxl-3.1.5-py2.py3-none-any.whl (250 kB)\n",
      "Downloading et_xmlfile-2.0.0-py3-none-any.whl (18 kB)\n",
      "Installing collected packages: et-xmlfile, openpyxl\n",
      "Successfully installed et-xmlfile-2.0.0 openpyxl-3.1.5\n"
     ]
    },
    {
     "name": "stderr",
     "output_type": "stream",
     "text": [
      "\n",
      "[notice] A new release of pip is available: 25.0.1 -> 25.2\n",
      "[notice] To update, run: python.exe -m pip install --upgrade pip\n"
     ]
    }
   ],
   "source": [
    "                #---------Seaborn--------#\n",
    "# Seaborn is a Python library for data visualization based on matplotlib.\n",
    "# Seaborn helps you quickly see patterns, correlations, and distributions in datasets.\n",
    "\n",
    "# Installing seaborn\n",
    "# ! pip install seaborn\n",
    "! pip install openpyxl\n",
    "\n",
    "                # ------Seaborn Plot-----#\n",
    "# 1. Categorial\n",
    "# 2. Distribution\n",
    "# 3. Relational \n",
    "# 4. Regression \n",
    "# 5. Matrix\n",
    "# 6. Multiplot\n",
    "\n",
    "                # -------Categorial-----#\n",
    "# 1. CountPlot\n",
    "# 2. Barplot\n",
    "# 4. Boxplot\n",
    "# 5. Violinplot \n",
    "# 6. Stripplot \n",
    "# 7. Swarmplot\n",
    "# 8. Factorplot\n",
    "\n",
    "                #-----Distribution------#\n",
    "# 1. Displot\n",
    "# 2. Jointplot\n",
    "# 4. Pairplot\n",
    "# 5. Rugplot\n",
    "\n",
    "                #--------Regression------#\n",
    "# 1. Simple linear Plot\n",
    "# 2. Linear plot with additional parameters\n",
    "# 3. Setting the size and color of the plot\n",
    "# 4. Displying multiple plots\n",
    "# 5. Size and aspect ratio of the plots\n",
    "\n",
    "                #-------Matrix-----------#\n",
    "# 1. Heatmaps\n",
    "# 2. Cluster maps\n"
   ]
  },
  {
   "cell_type": "code",
   "execution_count": null,
   "id": "82338129",
   "metadata": {},
   "outputs": [
    {
     "data": {
      "text/plain": [
       "<bound method NDFrame.head of       Invoice ID Branch      City Customer type  Gender  \\\n",
       "0    692-92-5582      B  Mandalay        Member  Female   \n",
       "1    351-62-0822      B  Mandalay        Member  Female   \n",
       "2    529-56-3974      B  Mandalay        Member    Male   \n",
       "3    299-46-1805      B  Mandalay        Member  Female   \n",
       "4    319-50-3348      B  Mandalay        Normal  Female   \n",
       "..           ...    ...       ...           ...     ...   \n",
       "995  886-18-2897      A    Yangon        Normal  Female   \n",
       "996  745-74-0715      A    Yangon        Normal    Male   \n",
       "997  727-02-1313      A    Yangon        Member    Male   \n",
       "998  347-56-2442      A    Yangon        Normal    Male   \n",
       "999  849-09-3807      A    Yangon        Member  Female   \n",
       "\n",
       "               Product line  Unit price  Quantity  Tax 5%    Total  \\\n",
       "0        Food_and_beverages       54.84         3   8.226  172.746   \n",
       "1       Fashion_accessories       14.48         4   2.896   60.816   \n",
       "2    Electronic_accessories       25.51         4   5.102  107.142   \n",
       "3         Sports_and_travel       93.72         6  28.116  590.436   \n",
       "4        Home_and_lifestyle       40.30         2   4.030   84.630   \n",
       "..                      ...         ...       ...     ...      ...   \n",
       "995      Food_and_beverages       56.56         5  14.140  296.940   \n",
       "996  Electronic_accessories       58.03         2   5.803  121.863   \n",
       "997      Food_and_beverages       31.84         1   1.592   33.432   \n",
       "998      Home_and_lifestyle       65.82         1   3.291   69.111   \n",
       "999     Fashion_accessories       88.34         7  30.919  649.299   \n",
       "\n",
       "                    Date      Time      Payment    cogs  \\\n",
       "0              2/20/2019  13:27:00  Credit card  164.52   \n",
       "1    2019-06-02 00:00:00  18:07:00      Ewallet   57.92   \n",
       "2    2019-09-03 00:00:00  17:03:00         Cash  102.04   \n",
       "3              1/15/2019  16:19:00         Cash  562.32   \n",
       "4    2019-11-03 00:00:00  15:30:00      Ewallet   80.60   \n",
       "..                   ...       ...          ...     ...   \n",
       "995            3/22/2019  19:06:00  Credit card  282.80   \n",
       "996  2019-10-03 00:00:00  20:46:00      Ewallet  116.06   \n",
       "997  2019-09-02 00:00:00  13:22:00         Cash   31.84   \n",
       "998            2/22/2019  15:33:00         Cash   65.82   \n",
       "999            2/18/2019  13:28:00         Cash  618.38   \n",
       "\n",
       "     gross margin percentage  gross income  Rating  \n",
       "0                   4.761905         8.226     5.9  \n",
       "1                   4.761905         2.896     4.5  \n",
       "2                   4.761905         5.102     6.8  \n",
       "3                   4.761905        28.116     4.5  \n",
       "4                   4.761905         4.030     4.4  \n",
       "..                       ...           ...     ...  \n",
       "995                 4.761905        14.140     4.5  \n",
       "996                 4.761905         5.803     8.8  \n",
       "997                 4.761905         1.592     7.7  \n",
       "998                 4.761905         3.291     4.1  \n",
       "999                 4.761905        30.919     6.6  \n",
       "\n",
       "[1000 rows x 17 columns]>"
      ]
     },
     "execution_count": 15,
     "metadata": {},
     "output_type": "execute_result"
    }
   ],
   "source": [
    "# Importing all the required Library\n",
    "import pandas as pd\n",
    "import numpy as np\n",
    "from matplotlib import pyplot as plt\n",
    "import seaborn as sns\n",
    "import openpyxl\n",
    "\n",
    "# Import the data\n",
    "mart=pd.read_excel(\"supermarket_sales.xlsx\")\n",
    "mart\n",
    "mart.shape\n",
    "mart.columns\n",
    "mart.head"
   ]
  },
  {
   "cell_type": "code",
   "execution_count": 21,
   "id": "4117587e",
   "metadata": {},
   "outputs": [
    {
     "data": {
      "text/plain": [
       "<Axes: xlabel='Gender', ylabel='count'>"
      ]
     },
     "execution_count": 21,
     "metadata": {},
     "output_type": "execute_result"
    },
    {
     "data": {
      "image/png": "[encoded data removed]",
      "text/plain": [
       "<Figure size 640x480 with 1 Axes>"
      ]
     },
     "metadata": {},
     "output_type": "display_data"
    }
   ],
   "source": [
    "# Create a simple countplot\n",
    "sns.countplot(x='Gender', color='green', data=mart)"
   ]
  }
 ],
 "metadata": {
  "kernelspec": {
   "display_name": "Python 3",
   "language": "python",
   "name": "python3"
  },
  "language_info": {
   "codemirror_mode": {
    "name": "ipython",
    "version": 3
   },
   "file_extension": ".py",
   "mimetype": "text/x-python",
   "name": "python",
   "nbconvert_exporter": "python",
   "pygments_lexer": "ipython3",
   "version": "3.13.1"
  }
 },
 "nbformat": 4,
 "nbformat_minor": 5
}
