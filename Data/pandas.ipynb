{
 "cells": [
  {
   "cell_type": "code",
   "execution_count": 5,
   "id": "5b5eb2c8",
   "metadata": {},
   "outputs": [
    {
     "name": "stdout",
     "output_type": "stream",
     "text": [
      "2.2.3\n",
      "       Name  Age               Job  Salary        City\n",
      "0  Mostafij   31    Microbiologist   40000       Dhaka\n",
      "1     Rahim   30  Bioinformatician  100000  Chittagong\n",
      "2     Sakib   40    Data Scientist   75000    Rajshahi\n"
     ]
    }
   ],
   "source": [
    "                    # -----Pandas------ #\n",
    "# It is powerful Python library used to work with structured data. \n",
    "# Especially tables like Excel sheets or database tables.\n",
    "\n",
    "# Importing pandas library\n",
    "import pandas as pd\n",
    "\n",
    "# Check version of pandas\n",
    "print(pd.__version__)\n",
    "\n",
    "# Create a simple DataFrame\n",
    "data={\n",
    "    'Name':['Mostafij', 'Rahim', 'Sakib'],\n",
    "    'Age': [31,30,40],\n",
    "    'Job':['Microbiologist','Bioinformatician','Data Scientist'],\n",
    "    'Salary': [40000, 100000,75000],\n",
    "    'City':['Dhaka','Chittagong','Rajshahi']\n",
    "}\n",
    "df=pd.DataFrame(data)\n",
    "print(df)\n"
   ]
  },
  {
   "cell_type": "code",
   "execution_count": 14,
   "id": "8abe8972",
   "metadata": {},
   "outputs": [
    {
     "name": "stdout",
     "output_type": "stream",
     "text": [
      "0     1\n",
      "1     4\n",
      "2     5\n",
      "3     6\n",
      "4     7\n",
      "5     8\n",
      "6     9\n",
      "7    10\n",
      "dtype: int64\n",
      "A     1\n",
      "B     4\n",
      "C     6\n",
      "D     7\n",
      "E     8\n",
      "F    90\n",
      "G    10\n",
      "dtype: int64\n",
      "1\n",
      "1\n",
      "A    1\n",
      "B    4\n",
      "C    6\n",
      "D    7\n",
      "dtype: int64\n",
      "A    1\n",
      "B    4\n",
      "C    6\n",
      "dtype: int64\n",
      "Day         3\n",
      "Month      10\n",
      "Year     1994\n",
      "dtype: int64\n",
      "3\n"
     ]
    },
    {
     "name": "stderr",
     "output_type": "stream",
     "text": [
      "C:\\Users\\Kamely\\AppData\\Local\\Temp\\ipykernel_3504\\3247750870.py:12: FutureWarning: Series.__getitem__ treating keys as positions is deprecated. In a future version, integer keys will always be treated as labels (consistent with DataFrame behavior). To access a value by position, use `ser.iloc[pos]`\n",
      "  print(S[0])     # Accessing a value by position\n"
     ]
    }
   ],
   "source": [
    "# Pandas series\n",
    "# A series is a one-dimensional array-like object that can hold any data type.  \n",
    "# It is similar to a column in a table.\n",
    "import pandas as pd\n",
    "# Create a simple series\n",
    "S=pd.Series([1,4,5,6,7,8,9,10 ])\n",
    "print(S)\n",
    "# Create a series with custom index\n",
    "S=pd.Series([1,4,6,7,8,90,10], index=['A', 'B', 'C', 'D', 'E', 'F', 'G'])\n",
    "print(S)\n",
    "print(S['A'])   # Accessing a value by index\n",
    "print(S[0])     # Accessing a value by position\n",
    "print(S[0:4])  # Slicing the series\n",
    "print(S[['A', 'B', 'C']])  # Accessing multiple values by index\n",
    "\n",
    "# Key value object as a series\n",
    "P=pd.Series({\"Day\": 3, \"Month\": 10, \"Year\": 1994})\n",
    "print(P)\n",
    "print(P['Day'])  # Accessing a value by key"
   ]
  },
  {
   "cell_type": "code",
   "execution_count": 30,
   "id": "639f70d2",
   "metadata": {},
   "outputs": [
    {
     "name": "stdout",
     "output_type": "stream",
     "text": [
      "       Name  Age               Job  Salary        City\n",
      "0  Mostafij   31    Microbiologist   40000       Dhaka\n",
      "1     Rahim   30  Bioinformatician  100000  Chittagong\n",
      "2     Sakib   40    Data Scientist   75000    Rajshahi\n",
      "(3, 5)\n",
      "Index(['Name', 'Age', 'Job', 'Salary', 'City'], dtype='object')\n",
      "       Name  Age               Job  Salary        City\n",
      "0  Mostafij   31    Microbiologist   40000       Dhaka\n",
      "1     Rahim   30  Bioinformatician  100000  Chittagong\n",
      "0    Mostafij\n",
      "1       Rahim\n",
      "2       Sakib\n",
      "Name: Name, dtype: object\n",
      "       Name  Age\n",
      "0  Mostafij   31\n",
      "1     Rahim   30\n",
      "2     Sakib   40\n",
      "       Name  Age               Job  Salary        City\n",
      "0  Mostafij   31    Microbiologist   40000       Dhaka\n",
      "1     Rahim   30  Bioinformatician  100000  Chittagong\n",
      "    Name  Age               Job  Salary        City\n",
      "1  Rahim   30  Bioinformatician  100000  Chittagong\n",
      "2  Sakib   40    Data Scientist   75000    Rajshahi\n",
      "<class 'pandas.core.frame.DataFrame'>\n",
      "RangeIndex: 3 entries, 0 to 2\n",
      "Data columns (total 5 columns):\n",
      " #   Column  Non-Null Count  Dtype \n",
      "---  ------  --------------  ----- \n",
      " 0   Name    3 non-null      object\n",
      " 1   Age     3 non-null      int64 \n",
      " 2   Job     3 non-null      object\n",
      " 3   Salary  3 non-null      int64 \n",
      " 4   City    3 non-null      object\n",
      "dtypes: int64(2), object(3)\n",
      "memory usage: 252.0+ bytes\n",
      "None\n"
     ]
    }
   ],
   "source": [
    "# Pandas Dataframe\n",
    "# A Pandas DataFrame is a 2 dimensional data structure, like a 2 dimensional array, \n",
    "# or a table with rows and columns.\n",
    "# It is similar to a spreadsheet or SQL table, or a dictionary of Series objects.\n",
    "\n",
    "# import pandas as pd\n",
    "import pandas as pd\n",
    "# Create a simple DataFrame\n",
    "data = {\n",
    "    'Name': ['Mostafij', 'Rahim', 'Sakib'],\n",
    "    'Age': [31, 30, 40],\n",
    "    'Job': ['Microbiologist', 'Bioinformatician', 'Data Scientist'],\n",
    "    'Salary': [40000, 100000, 75000],\n",
    "    'City': ['Dhaka', 'Chittagong', 'Rajshahi']\n",
    "}\n",
    "df = pd.DataFrame(data)\n",
    "print(df)\n",
    "print(df.shape)  # Get the shape of the DataFrame (rows, columns)\n",
    "print(df.columns)  # Get the column names\n",
    "print(df.loc[0:1])  # Access rows by index\n",
    "print(df['Name']) # Access a column by name\n",
    "print(df[['Name', 'Age']])  # Access multiple columns by name\n",
    "print(df.head(2))  # Get the first 2 rows of the DataFrame\n",
    "print(df.tail(2))  # Get the last 2 rows of the DataFrame\n",
    "print(df.info())  # Get information about the DataFrame"
   ]
  },
  {
   "cell_type": "code",
   "execution_count": null,
   "id": "c70c238b",
   "metadata": {},
   "outputs": [],
   "source": []
  },
  {
   "cell_type": "code",
   "execution_count": 46,
   "id": "0c6b0363",
   "metadata": {},
   "outputs": [
    {
     "name": "stdout",
     "output_type": "stream",
     "text": [
      "<bound method DataFrame.to_string of      Duration  Pulse  Maxpulse  Calories\n",
      "0          60    110       130     409.1\n",
      "1          60    117       145     479.0\n",
      "2          60    103       135     340.0\n",
      "3          45    109       175     282.4\n",
      "4          45    117       148     406.0\n",
      "..        ...    ...       ...       ...\n",
      "164        60    105       140     290.8\n",
      "165        60    110       145     300.0\n",
      "166        60    115       145     310.2\n",
      "167        75    120       150     320.4\n",
      "168        75    125       150     330.4\n",
      "\n",
      "[169 rows x 4 columns]>\n",
      "   Duration  Pulse  Maxpulse  Calories\n",
      "0        60    110       130     409.1\n",
      "1        60    117       145     479.0\n",
      "2        60    103       135     340.0\n",
      "3        45    109       175     282.4\n",
      "4        45    117       148     406.0\n",
      "<class 'pandas.core.frame.DataFrame'>\n",
      "RangeIndex: 169 entries, 0 to 168\n",
      "Data columns (total 4 columns):\n",
      " #   Column    Non-Null Count  Dtype  \n",
      "---  ------    --------------  -----  \n",
      " 0   Duration  169 non-null    int64  \n",
      " 1   Pulse     169 non-null    int64  \n",
      " 2   Maxpulse  169 non-null    int64  \n",
      " 3   Calories  164 non-null    float64\n",
      "dtypes: float64(1), int64(3)\n",
      "memory usage: 5.4 KB\n",
      "None\n",
      "20\n",
      "60\n",
      "(169, 4)\n"
     ]
    }
   ],
   "source": [
    "# Read CSV file into a DataFrame\n",
    "import pandas as pd\n",
    "# Read a CSV file into a DataFrame\n",
    "data=pd.read_csv('Data.csv')\n",
    "print(data.to_string)\n",
    "print(data.head())  # Display the first 5 rows of the DataFrame\n",
    "print(data.info())  # Get information about the DataFrame\n",
    "print(pd.options.display.max_columns)  # Get the maximum number of column\n",
    "print(pd.options.display.max_rows)  \n",
    "print(data.shape)  # Get the shape of the DataFrame (rows, columns)\n",
    "\n"
   ]
  },
  {
   "cell_type": "code",
   "execution_count": null,
   "id": "0a662a0b",
   "metadata": {},
   "outputs": [],
   "source": []
  }
 ],
 "metadata": {
  "kernelspec": {
   "display_name": "Python 3",
   "language": "python",
   "name": "python3"
  },
  "language_info": {
   "codemirror_mode": {
    "name": "ipython",
    "version": 3
   },
   "file_extension": ".py",
   "mimetype": "text/x-python",
   "name": "python",
   "nbconvert_exporter": "python",
   "pygments_lexer": "ipython3",
   "version": "3.13.1"
  }
 },
 "nbformat": 4,
 "nbformat_minor": 5
}
