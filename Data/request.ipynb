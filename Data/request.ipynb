{
 "cells": [
  {
   "cell_type": "code",
   "execution_count": null,
   "id": "60238956",
   "metadata": {},
   "outputs": [
    {
     "name": "stdout",
     "output_type": "stream",
     "text": [
      "Requirement already satisfied: requests in c:\\python3.13.1\\lib\\site-packages (2.32.3)\n",
      "Requirement already satisfied: charset-normalizer<4,>=2 in c:\\python3.13.1\\lib\\site-packages (from requests) (3.4.2)\n",
      "Requirement already satisfied: idna<4,>=2.5 in c:\\python3.13.1\\lib\\site-packages (from requests) (3.10)\n",
      "Requirement already satisfied: urllib3<3,>=1.21.1 in c:\\python3.13.1\\lib\\site-packages (from requests) (2.4.0)\n",
      "Requirement already satisfied: certifi>=2017.4.17 in c:\\python3.13.1\\lib\\site-packages (from requests) (2025.4.26)\n"
     ]
    },
    {
     "name": "stderr",
     "output_type": "stream",
     "text": [
      "\n",
      "[notice] A new release of pip is available: 25.0.1 -> 25.1.1\n",
      "[notice] To update, run: python.exe -m pip install --upgrade pip\n"
     ]
    },
    {
     "data": {
      "text/plain": [
       "'2.32.3'"
      ]
     },
     "execution_count": 3,
     "metadata": {},
     "output_type": "execute_result"
    }
   ],
   "source": [
    "# The requests package in Python is a powerful and user-friendly HTTP library.\n",
    "# It allows you to send HTTP requests easily.\n",
    "# Supports HTTP methods like GET, POST, PUT, DELETE, etc.\n",
    "# Install requests packages\n",
    "! pip install requests\n",
    "import requests\n",
    "requests.__version__"
   ]
  },
  {
   "cell_type": "code",
   "execution_count": 11,
   "id": "1d1b760e",
   "metadata": {},
   "outputs": [
    {
     "data": {
      "text/plain": [
       "{'date': 'Wed, 14 May 2025 07:19:00 GMT', 'server': 'mw-web.codfw.main-c9784494b-9mckg', 'x-content-type-options': 'nosniff', 'content-language': 'en', 'accept-ch': '', 'vary': 'Accept-Encoding,Cookie,Authorization', 'last-modified': 'Tue, 13 May 2025 12:53:07 GMT', 'content-type': 'text/html; charset=UTF-8', 'content-encoding': 'gzip', 'age': '25224', 'accept-ranges': 'bytes', 'x-cache': 'cp5020 miss, cp5020 hit/10', 'x-cache-status': 'hit-front', 'server-timing': 'cache;desc=\"hit-front\", host;desc=\"cp5020\"', 'strict-transport-security': 'max-age=106384710; includeSubDomains; preload', 'report-to': '{ \"group\": \"wm_nel\", \"max_age\": 604800, \"endpoints\": [{ \"url\": \"https://intake-logging.wikimedia.org/v1/events?stream=w3c.reportingapi.network_error&schema_uri=/w3c/reportingapi/network_error/1.0.0\" }] }', 'nel': '{ \"report_to\": \"wm_nel\", \"max_age\": 604800, \"failure_fraction\": 0.05, \"success_fraction\": 0.0}', 'set-cookie': 'WMF-Last-Access=14-May-2025;Path=/;HttpOnly;secure;Expires=Sun, 15 Jun 2025 12:00:00 GMT, WMF-Last-Access-Global=14-May-2025;Path=/;Domain=.wikipedia.org;HttpOnly;secure;Expires=Sun, 15 Jun 2025 12:00:00 GMT, WMF-DP=d26;Path=/;HttpOnly;secure;Expires=Thu, 15 May 2025 00:00:00 GMT, GeoIP=BD:C:Dhaka:23.73:90.41:v4; Path=/; secure; Domain=.wikipedia.org, NetworkProbeLimit=0.001;Path=/;Secure;SameSite=None;Max-Age=3600', 'x-client-ip': '103.126.149.119', 'cache-control': 'private, s-maxage=0, max-age=0, must-revalidate, no-transform', 'content-length': '34402'}"
      ]
     },
     "execution_count": 11,
     "metadata": {},
     "output_type": "execute_result"
    }
   ],
   "source": [
    "url=r\"https://en.wikipedia.org/wiki/Kushtia_District\"\n",
    "response=requests.get(url=url)\n",
    "response\n",
    "response.text\n",
    "response.encoding\n",
    "response.cookies\n",
    "response.headers"
   ]
  }
 ],
 "metadata": {
  "kernelspec": {
   "display_name": "Python 3",
   "language": "python",
   "name": "python3"
  },
  "language_info": {
   "codemirror_mode": {
    "name": "ipython",
    "version": 3
   },
   "file_extension": ".py",
   "mimetype": "text/x-python",
   "name": "python",
   "nbconvert_exporter": "python",
   "pygments_lexer": "ipython3",
   "version": "3.13.1"
  }
 },
 "nbformat": 4,
 "nbformat_minor": 5
}
