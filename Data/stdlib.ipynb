{
 "cells": [
  {
   "cell_type": "code",
   "execution_count": 2,
   "id": "f91d1945",
   "metadata": {},
   "outputs": [
    {
     "data": {
      "text/plain": [
       "5"
      ]
     },
     "execution_count": 2,
     "metadata": {},
     "output_type": "execute_result"
    }
   ],
   "source": [
    "# Math module\n",
    "import math\n",
    "\n",
    "# constant\n",
    "math.pi\n",
    "math.e\n",
    "\n",
    "# numeriacal value\n",
    "math.floor(6.7)\n",
    "math.factorial(5)\n",
    "math.pow(5,6)\n",
    "math.ceil(4.9)\n"
   ]
  },
  {
   "cell_type": "code",
   "execution_count": 11,
   "id": "a49e2de5",
   "metadata": {},
   "outputs": [
    {
     "data": {
      "text/plain": [
       "1.6197751905438615"
      ]
     },
     "execution_count": 11,
     "metadata": {},
     "output_type": "execute_result"
    }
   ],
   "source": [
    "\n",
    "# trigonometric\n",
    "math.sin(34)\n",
    "math.cos(90)\n",
    "math.tan(45)"
   ]
  },
  {
   "cell_type": "code",
   "execution_count": 4,
   "id": "efb3d13b",
   "metadata": {},
   "outputs": [
    {
     "data": {
      "text/plain": [
       "2.0"
      ]
     },
     "execution_count": 4,
     "metadata": {},
     "output_type": "execute_result"
    }
   ],
   "source": [
    "# Logarithmatic\n",
    "math.log10(3)\n",
    "math.log2(4)"
   ]
  },
  {
   "cell_type": "code",
   "execution_count": 2,
   "id": "94c52c81",
   "metadata": {},
   "outputs": [
    {
     "data": {
      "text/plain": [
       "4.0"
      ]
     },
     "execution_count": 2,
     "metadata": {},
     "output_type": "execute_result"
    }
   ],
   "source": [
    "import mymod\n",
    "mymod.Division().div(8,2)\n",
    "\n"
   ]
  }
 ],
 "metadata": {
  "kernelspec": {
   "display_name": "Python 3",
   "language": "python",
   "name": "python3"
  },
  "language_info": {
   "codemirror_mode": {
    "name": "ipython",
    "version": 3
   },
   "file_extension": ".py",
   "mimetype": "text/x-python",
   "name": "python",
   "nbconvert_exporter": "python",
   "pygments_lexer": "ipython3",
   "version": "3.13.1"
  }
 },
 "nbformat": 4,
 "nbformat_minor": 5
}
