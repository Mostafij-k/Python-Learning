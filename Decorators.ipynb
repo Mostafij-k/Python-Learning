{
 "cells": [
  {
   "cell_type": "code",
   "execution_count": 5,
   "metadata": {},
   "outputs": [
    {
     "name": "stdout",
     "output_type": "stream",
     "text": [
      "Hello Python Decorators\n"
     ]
    }
   ],
   "source": [
    "# Assign one function to another function\n",
    "def fun():\n",
    "    print(\"Hello Python Decorators\")\n",
    "fun2=fun\n",
    "del fun\n",
    "fun2()"
   ]
  },
  {
   "cell_type": "code",
   "execution_count": 10,
   "metadata": {},
   "outputs": [
    {
     "name": "stdout",
     "output_type": "stream",
     "text": [
      "<built-in function sum>\n"
     ]
    }
   ],
   "source": [
    "# Return function inside another function\n",
    "def num(x):\n",
    "    if x==0:\n",
    "        return print\n",
    "    if x==1:\n",
    "        return sum\n",
    "fun=num(1)\n",
    "print(fun)"
   ]
  },
  {
   "cell_type": "code",
   "execution_count": 16,
   "metadata": {},
   "outputs": [
    {
     "name": "stdout",
     "output_type": "stream",
     "text": [
      "Hello python decorators\n"
     ]
    }
   ],
   "source": [
    "# Pass a function as an argument\n",
    "def test(func):\n",
    "    func(\"Hello python decorators\")\n",
    "   \n",
    "test(print)\n"
   ]
  },
  {
   "cell_type": "code",
   "execution_count": null,
   "metadata": {},
   "outputs": [
    {
     "name": "stdout",
     "output_type": "stream",
     "text": [
      "Print First line of code\n",
      "Hello world\n",
      "Print 2nd line of code\n"
     ]
    }
   ],
   "source": [
    "            #---------Decorators-----------#\n",
    "# In Python, function decorators are a way to modify or enhance the behavior of functions or methods without changing their actual code.\n",
    "# A function that extends the behavior of another function or modifying the base function\n",
    "# Pass the base function as an argument to the decorator\n",
    "# Syntax:\n",
    "\n",
    "# @decorator_function\n",
    "def target_function():\n",
    "    # Function code\n",
    "    pass\n",
    "\n",
    "# Example:\n",
    "def my_decorator(func):             # Pass base function as an argument\n",
    "    def wrapper():                  # Inner function \n",
    "        print(\"Print First line of code\")\n",
    "        func()                      # within inner function we call base function\n",
    "        print(\"Print 2nd line of code\")\n",
    "    return wrapper                  # Return inner function\n",
    "# Use the decorator\n",
    "@my_decorator   \n",
    "def my_func():\n",
    "    print(\"Hello world\")\n",
    "\n",
    "# Call base function\n",
    "my_func()"
   ]
  },
  {
   "cell_type": "code",
   "execution_count": 31,
   "metadata": {},
   "outputs": [
    {
     "name": "stdout",
     "output_type": "stream",
     "text": [
      "You add sprincles\n",
      "You add fudge\n",
      "Here is your Vanilla icecream\n"
     ]
    }
   ],
   "source": [
    "# Use more than one decorators\n",
    "def add_sprincles(func):\n",
    "    def wrapper(*args,**kwards):\n",
    "        print(\"You add sprincles\")\n",
    "        func(*args,**kwards)\n",
    "    return wrapper\n",
    "def add_fudge(func):\n",
    "    def wrapper(*args,**kwards):\n",
    "        print(\"You add fudge\")\n",
    "        func(*args,**kwards)\n",
    "    return wrapper\n",
    "@add_sprincles\n",
    "@add_fudge\n",
    "def get_icecream(flavour):\n",
    "    print(f\"Here is your {flavour} icecream\")\n",
    "# Call ice cream\n",
    "get_icecream(\"Vanilla\")"
   ]
  }
 ],
 "metadata": {
  "kernelspec": {
   "display_name": "Python 3",
   "language": "python",
   "name": "python3"
  },
  "language_info": {
   "codemirror_mode": {
    "name": "ipython",
    "version": 3
   },
   "file_extension": ".py",
   "mimetype": "text/x-python",
   "name": "python",
   "nbconvert_exporter": "python",
   "pygments_lexer": "ipython3",
   "version": "3.13.1"
  }
 },
 "nbformat": 4,
 "nbformat_minor": 2
}
