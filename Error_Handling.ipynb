{
 "cells": [
  {
   "cell_type": "code",
   "execution_count": 6,
   "id": "86b6bb5d",
   "metadata": {},
   "outputs": [
    {
     "name": "stdout",
     "output_type": "stream",
     "text": [
      "You can not divide by zero\n",
      "Execution completed\n"
     ]
    }
   ],
   "source": [
    "                    #------ Error Handling-----#\n",
    "# Error handling is a technique that ensures a program continues running smoothly even when unexpected issues arise.\n",
    "# There are three time of error \n",
    "    # 1. Compile error\n",
    "        # Syntax error: wrong spelling, missing colon (:)\n",
    "\n",
    "    # 2. Logical error\n",
    "        # Wrong output\n",
    "\n",
    "    # 3. Run time\n",
    "        # devide by zero\n",
    "# Error handling in Python is managed using the try, except, else, and finally blocks.\n",
    "    # try block: Contains the code that might raise an error.\n",
    "    # except block: Handles the error if it occurs.\n",
    "    # else block (optional): Runs if no exception occurs.\n",
    "    # finally block (optional): Executes no matter what, useful for cleanup.\n",
    "# Example:\n",
    "try:\n",
    "    x=int(input(\"Enter a number: \"))\n",
    "    result=10/x\n",
    "except ValueError:\n",
    "    print(\"Opps! please enter a valid number\")\n",
    "except ZeroDivisionError:\n",
    "    print(\"You can not divide by zero\")\n",
    "else:\n",
    "    print(f\"Great! the result is {result}\")\n",
    "finally:\n",
    "    print(\"Execution completed\")\n",
    "\n",
    "\n"
   ]
  }
 ],
 "metadata": {
  "kernelspec": {
   "display_name": "Python 3",
   "language": "python",
   "name": "python3"
  },
  "language_info": {
   "codemirror_mode": {
    "name": "ipython",
    "version": 3
   },
   "file_extension": ".py",
   "mimetype": "text/x-python",
   "name": "python",
   "nbconvert_exporter": "python",
   "pygments_lexer": "ipython3",
   "version": "3.13.1"
  }
 },
 "nbformat": 4,
 "nbformat_minor": 5
}
