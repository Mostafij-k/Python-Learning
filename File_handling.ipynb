{
 "cells": [
  {
   "cell_type": "code",
   "execution_count": 28,
   "id": "b46c8856",
   "metadata": {},
   "outputs": [
    {
     "name": "stdout",
     "output_type": "stream",
     "text": [
      "Hello!\n",
      "Python\n",
      "I am learning python language\n",
      "Hello!\n",
      "P\n"
     ]
    }
   ],
   "source": [
    "# Python can be used to perform operations on file.\n",
    "# Types of all files\n",
    "    # 1. Text files: .txt, .docs, .log etc\n",
    "    # 2. Binary files: .mp4, .png, .mov, .jpeg\n",
    "\n",
    "# Opening a file\n",
    "# Python uses the open() function to open files. The basic syntax is:\n",
    "    # file = open(\"filename.txt\", \"mode\")\n",
    "\n",
    "# The mode determines what you can do with the file:\n",
    "# \"r\" → Read mode (default)\n",
    "# \"w\" → Write mode (creates a new file or overwrites an existing one)\n",
    "# \"a\" → Append mode (adds content without overwriting)\n",
    "# \"rb\" or \"wb\" → Read/Write in binary mode\n",
    "# \"x\" → create a new file and open for write\n",
    "# \"t\" → text mode (defualt)\n",
    "\n",
    "# Example:\n",
    "file=open('Example.txt', 'r')\n",
    "data= file.read()\n",
    "print(data)\n",
    "# Pass argument into read function\n",
    "file=open('Example.txt', 'r')\n",
    "data1= file.read(8)\n",
    "print(data1)"
   ]
  },
  {
   "cell_type": "code",
   "execution_count": 29,
   "id": "9bbea468",
   "metadata": {},
   "outputs": [
    {
     "name": "stdout",
     "output_type": "stream",
     "text": [
      "Hello!\n",
      "\n",
      "Python\n",
      "\n"
     ]
    }
   ],
   "source": [
    "# Read line by line\n",
    "file=open('Example.txt', 'r')\n",
    "line1=file.readline()\n",
    "print(line1)\n",
    "line2=file.readline()\n",
    "print(line2)\n",
    "file.close()"
   ]
  },
  {
   "cell_type": "code",
   "execution_count": null,
   "id": "66e1ddf8",
   "metadata": {},
   "outputs": [],
   "source": [
    "# Write to file\n",
    "# Overwrites the entire file\n",
    "f=open('Example.txt', 'w')\n",
    "f.write(\"This is python programming.\") \n",
    "f.writelines([\"\\n Mostafij\", \"\\n Ronok\", \"\\n Sajib\\n\"]) # Write multiple line\n",
    "f.close()\n",
    " \n",
    "\n",
    "# Adds to the file\n",
    "f=open('Example.txt', 'a')      # append mode\n",
    "f.write(\"I want learn python programming for machine learning.\")\n",
    "f.close()\n"
   ]
  },
  {
   "cell_type": "code",
   "execution_count": null,
   "id": "d0293fe5",
   "metadata": {},
   "outputs": [],
   "source": [
    "# New file creation using w mode\n",
    "f=open(\"Demo.txt\", \"w\")\n",
    "f.write(\"Hi! Python\")\n",
    "f.close()\n",
    "\n",
    "        # -------Key features of w mode-------#\n",
    "# Creates a new file if it doesn't exist.\n",
    "# If the file already exists, its contents are completely erased and replaced with new data.\n",
    "# You can write data to the file, but you cannot read from it while in w mode.\n",
    "# The file is opened in write mode, and a file object is returned.\n",
    "# Allowing you to write data using methods like .write() or .writelines().\n",
    "# It's good practice to use .close() or the with open() statement to ensure the file is properly closed after writing."
   ]
  },
  {
   "cell_type": "code",
   "execution_count": null,
   "id": "d7d9f0d5",
   "metadata": {},
   "outputs": [],
   "source": [
    "# Write a file in a folder\n",
    "with open(r\"C:\\Users\\Kamely\\Desktop\\Python-Learning\\Python-Learning\\Data\\F1.txt\", \"w\") as file:\n",
    "    file.write(\"Hi Mostafij, How are you?\")  # Here r means raw string\n",
    "\n",
    "# Another way to create a file\n",
    "Folder_path=\"C:/Users/Kamely/Desktop/Python-Learning/Python-Learning/Data/\"  # Use forward slash\n",
    "File_name=\"Example.txt\"\n",
    "# Full path of the file\n",
    "File_Path=Folder_path+File_name\n",
    "# Create a file in a folder\n",
    "with open(File_Path, \"w\") as file:\n",
    "    file.write(\"Hello Python!\")\n"
   ]
  },
  {
   "cell_type": "code",
   "execution_count": null,
   "id": "0eb52d84",
   "metadata": {},
   "outputs": [
    {
     "name": "stdout",
     "output_type": "stream",
     "text": [
      "Python is the best language to learn machine learning\n"
     ]
    }
   ],
   "source": [
    "# with statement to open a file\n",
    "    # with statement is commonly used for file handling\n",
    "    # it automatically closes the file once the block of code is executed\n",
    "\n",
    "# Write the file\n",
    "with open(\"Demo.txt\", \"w\") as file:\n",
    "    file.write(\"Python is the best language to learn machine learning\")\n",
    "\n",
    "# Read the file\n",
    "with open(\"Demo.taxt\", \"r\") as file:\n",
    "    data=file.read()\n",
    "print(data)"
   ]
  },
  {
   "cell_type": "code",
   "execution_count": null,
   "id": "3f84b636",
   "metadata": {},
   "outputs": [
    {
     "name": "stdout",
     "output_type": "stream",
     "text": [
      "My name is Mostafijur rahman. I want to be Researcher. I want to learn python\n"
     ]
    }
   ],
   "source": [
    "                    #----- w+ mode -----# \n",
    "# \"w+\" mode is used to open a file for both writing and reading\n",
    "# Creates a new file if it doesn’t exist: If the specified file doesn’t already exist, \"w+\" will create it.\n",
    "# Overwrites an existing file: If the file does exist, \"w+\" will erase its contents before writing new data.\n",
    "# Allows both reading and writing: Unlike \"w\" mode (which only writes), \"w+\" lets you both write and then read from the file.\n",
    "\n",
    "# # Open file in 'w+' mode\n",
    "with open(\"MyData.txt\", \"w+\") as file:\n",
    "    file.write(\"My name is Mostafijur rahman.\" \\\n",
    "    \" I want to be Researcher.\"\\\n",
    "        \" I want to learn python\")\n",
    "# Move cursor to the beginning\n",
    "    file.seek(0)\n",
    "# Read the content\n",
    "    content=file.read()\n",
    "    print(content)"
   ]
  },
  {
   "cell_type": "code",
   "execution_count": null,
   "id": "0c62a187",
   "metadata": {},
   "outputs": [],
   "source": [
    "                # ------ r+ mode--------#\n",
    "# \"r+\" mode is used when opening a file for both reading and writing.\n",
    "# Read the file's existing content.\n",
    "# Write new content to the file without truncating it.\n",
    "# Move the file cursor around for modifying data at specific positions.\n",
    "with open(\"Demo.txt\", \"r+\") as file:\n",
    "    file.write(\"Hello python!\")     # Overwrite at first position\n",
    "# The file must exist before opening in \"r+\" mode, or else an error will occur\n",
    "# Writing operations don't automatically erase the existing content\n",
    "# File pointer starts at the beginning, so immediate writing overwrites existing characters."
   ]
  },
  {
   "cell_type": "code",
   "execution_count": null,
   "id": "43bd075b",
   "metadata": {},
   "outputs": [
    {
     "name": "stdout",
     "output_type": "stream",
     "text": [
      "Hello python! best language to learn machine learning/New line added\n",
      "New line added\n"
     ]
    }
   ],
   "source": [
    "                    #------ a+ mode -----#\n",
    "# \"a+\" mode is used to open a file for appending and reading.\n",
    "# Read the file's existing content.\n",
    "# Append new content to the end without erasing the original data.\n",
    "# If the file does not exist, it is created automatically.\n",
    "\n",
    "with open(\"Demo.txt\", '+a') as file:\n",
    "    file.write(\"\\nNew line added\")\n",
    "# move cursor at first position\n",
    "    file.seek(0)\n",
    "# Read content\n",
    "    content=file.read()\n",
    "print(content)\n",
    "\n",
    "# Doesn't erase existing content—only appends new data at the end.\n",
    "# Allows reading, but remember that the file pointer starts at the end\n",
    "# need seek(0) to read from the beginning.\n",
    "# If the file doesn't exist, it will be created automatically."
   ]
  },
  {
   "cell_type": "code",
   "execution_count": 3,
   "id": "2d8b61a7",
   "metadata": {},
   "outputs": [],
   "source": [
    "# Deleting file\n",
    "# Import os module\n",
    "import os\n",
    "# Delete a file\n",
    "os.remove(\"Demo.txt\")\n"
   ]
  }
 ],
 "metadata": {
  "kernelspec": {
   "display_name": "Python 3",
   "language": "python",
   "name": "python3"
  },
  "language_info": {
   "codemirror_mode": {
    "name": "ipython",
    "version": 3
   },
   "file_extension": ".py",
   "mimetype": "text/x-python",
   "name": "python",
   "nbconvert_exporter": "python",
   "pygments_lexer": "ipython3",
   "version": "3.13.1"
  }
 },
 "nbformat": 4,
 "nbformat_minor": 5
}
