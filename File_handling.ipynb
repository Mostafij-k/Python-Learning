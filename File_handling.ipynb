{
 "cells": [
  {
   "cell_type": "code",
   "execution_count": 28,
   "id": "b46c8856",
   "metadata": {},
   "outputs": [
    {
     "name": "stdout",
     "output_type": "stream",
     "text": [
      "Hello!\n",
      "Python\n",
      "I am learning python language\n",
      "Hello!\n",
      "P\n"
     ]
    }
   ],
   "source": [
    "# Python can be used to perform operations on file.\n",
    "# Types of all files\n",
    "    # 1. Text files: .txt, .docs, .log etc\n",
    "    # 2. Binary files: .mp4, .png, .mov, .jpeg\n",
    "\n",
    "# Opening a file\n",
    "# Python uses the open() function to open files. The basic syntax is:\n",
    "    # file = open(\"filename.txt\", \"mode\")\n",
    "\n",
    "# The mode determines what you can do with the file:\n",
    "# \"r\" → Read mode (default)\n",
    "# \"w\" → Write mode (creates a new file or overwrites an existing one)\n",
    "# \"a\" → Append mode (adds content without overwriting)\n",
    "# \"rb\" or \"wb\" → Read/Write in binary mode\n",
    "# \"x\" → create a new file and open for write\n",
    "# \"t\" → text mode (defualt)\n",
    "\n",
    "# Example:\n",
    "file=open('Example.txt', 'r')\n",
    "data= file.read()\n",
    "print(data)\n",
    "# Pass argument into read function\n",
    "file=open('Example.txt', 'r')\n",
    "data1= file.read(8)\n",
    "print(data1)"
   ]
  },
  {
   "cell_type": "code",
   "execution_count": 29,
   "id": "9bbea468",
   "metadata": {},
   "outputs": [
    {
     "name": "stdout",
     "output_type": "stream",
     "text": [
      "Hello!\n",
      "\n",
      "Python\n",
      "\n"
     ]
    }
   ],
   "source": [
    "# Read line by line\n",
    "file=open('Example.txt', 'r')\n",
    "line1=file.readline()\n",
    "print(line1)\n",
    "line2=file.readline()\n",
    "print(line2)\n",
    "file.close()"
   ]
  },
  {
   "cell_type": "code",
   "execution_count": 40,
   "id": "66e1ddf8",
   "metadata": {},
   "outputs": [],
   "source": [
    "# Write to file\n",
    "# Overwrites the entire file\n",
    "f=open('Example.txt', 'w')\n",
    "f.write(\"This is python programming.\\n\") \n",
    "f.close()\n",
    " \n",
    "\n",
    "# Adds to the file\n",
    "f=open('Example.txt', 'a')      # append mode\n",
    "f.write(\"I want learn python programming for machine learning.\")\n",
    "f.close()\n"
   ]
  },
  {
   "cell_type": "code",
   "execution_count": 42,
   "id": "d0293fe5",
   "metadata": {},
   "outputs": [],
   "source": [
    "# New file creation using w mode\n",
    "f=open(\"Demo.txt\", \"w\")\n",
    "f.write(\"Hi! Python\")\n",
    "f.close()"
   ]
  },
  {
   "cell_type": "code",
   "execution_count": null,
   "id": "0eb52d84",
   "metadata": {},
   "outputs": [
    {
     "name": "stdout",
     "output_type": "stream",
     "text": [
      "Python is the best language to learn machine learning\n"
     ]
    }
   ],
   "source": [
    "# with statement to open a file\n",
    "# with statement is commonly used for file handling\n",
    "# it automatically closes the file once the block of code is executed\n",
    "\n",
    "# Write the file\n",
    "with open(\"Demo.taxt\", \"w\") as file:\n",
    "    file.write(\"Python is the best language to learn machine learning\")\n",
    "\n",
    "# Read the file\n",
    "with open(\"Demo.taxt\", \"r\") as file:\n",
    "    data=file.read()\n",
    "print(data)"
   ]
  },
  {
   "cell_type": "code",
   "execution_count": null,
   "id": "3f84b636",
   "metadata": {},
   "outputs": [
    {
     "name": "stdout",
     "output_type": "stream",
     "text": [
      "My name is Mostafijur rahman. I want to be Researcher. I want to learn python\n"
     ]
    }
   ],
   "source": [
    "# w+ mode \n",
    "# \"w+\" mode is used to open a file for both writing and reading\n",
    "# Creates a new file if it doesn’t exist: If the specified file doesn’t already exist, \"w+\" will create it.\n",
    "# Overwrites an existing file: If the file does exist, \"w+\" will erase its contents before writing new data.\n",
    "# Allows both reading and writing: Unlike \"w\" mode (which only writes), \"w+\" lets you both write and then read from the file.\n",
    "\n",
    "# # Open file in 'w+' mode\n",
    "with open(\"MyData.txt\", \"w+\") as file:\n",
    "    file.write(\"My name is Mostafijur rahman.\" \\\n",
    "    \" I want to be Researcher.\"\\\n",
    "        \" I want to learn python\")\n",
    "# Move cursor to the beginning\n",
    "    file.seek(0)\n",
    "# Read the content\n",
    "    content=file.read()\n",
    "    print(content)"
   ]
  }
 ],
 "metadata": {
  "kernelspec": {
   "display_name": "Python 3",
   "language": "python",
   "name": "python3"
  },
  "language_info": {
   "codemirror_mode": {
    "name": "ipython",
    "version": 3
   },
   "file_extension": ".py",
   "mimetype": "text/x-python",
   "name": "python",
   "nbconvert_exporter": "python",
   "pygments_lexer": "ipython3",
   "version": "3.13.1"
  }
 },
 "nbformat": 4,
 "nbformat_minor": 5
}
