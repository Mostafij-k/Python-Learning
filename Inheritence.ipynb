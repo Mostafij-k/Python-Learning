{
 "cells": [
  {
   "cell_type": "code",
   "execution_count": null,
   "id": "3ef2935c",
   "metadata": {},
   "outputs": [
    {
     "name": "stdout",
     "output_type": "stream",
     "text": [
      "Feature 1 is working\n",
      "Feature 2 is working\n",
      "Feature 1 is working\n",
      "Feature 2 is working\n"
     ]
    }
   ],
   "source": [
    "# In Python, inheritance is a feature of object-oriented programming that allows one class (the child or subclass) to derive properties and behaviors from another class.\n",
    "# Types of Inheritence\n",
    "    # Single Inheritance – A child class inherits from one parent class.\n",
    "    # Multiple Inheritance – A child class inherits from multiple parent classes.\n",
    "    # Multilevel Inheritance – A class inherits from another class, which itself inherits from another class.\n",
    "    # Hierarchical Inheritance – Multiple child classes inherit from a single parent class.\n",
    "    # Hybrid Inheritance – A combination of different types of inheritance. \n",
    "\n",
    "# Example: \n",
    "class A:\n",
    "    def feature1(self):\n",
    "        print(\"Feature 1 is working\")\n",
    "    def feature2(self):\n",
    "        print(\"Feature 2 is working\")\n",
    "class B(A):                                 # Single level inheritence\n",
    "    def feature3(self):\n",
    "        print(\"Feature 3 is working\")\n",
    "    def feature4(self):\n",
    "        print(\"Feature 4 is working\")\n",
    "class C(B):                                 # Multi level inheritence\n",
    "    def feature5(self):\n",
    "        print(\"Feature 5 is working\")\n",
    "a1=A()\n",
    "a1.feature1()\n",
    "a1.feature2()\n",
    "b1=B()\n",
    "b1.feature1()\n",
    "c1=C()\n",
    "c1.feature2()"
   ]
  }
 ],
 "metadata": {
  "kernelspec": {
   "display_name": "Python 3",
   "language": "python",
   "name": "python3"
  },
  "language_info": {
   "codemirror_mode": {
    "name": "ipython",
    "version": 3
   },
   "file_extension": ".py",
   "mimetype": "text/x-python",
   "name": "python",
   "nbconvert_exporter": "python",
   "pygments_lexer": "ipython3",
   "version": "3.13.1"
  }
 },
 "nbformat": 4,
 "nbformat_minor": 5
}
