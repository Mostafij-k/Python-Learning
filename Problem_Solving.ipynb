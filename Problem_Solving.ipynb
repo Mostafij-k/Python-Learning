{
 "cells": [
  {
   "cell_type": "code",
   "execution_count": null,
   "metadata": {},
   "outputs": [
    {
     "name": "stdout",
     "output_type": "stream",
     "text": [
      "Incorrect password and please try again\n",
      "Incorrect password and please try again\n",
      "Incorrect password and please try again\n",
      "Maximum attempts reached and access denied\n"
     ]
    }
   ],
   "source": [
    "\n",
    "# Set a predefined password\n",
    "Password='Dooropen'\n",
    "# Set a flag whether the door is unloacked\n",
    "unloacked=False\n",
    "# Set maximum attempts\n",
    "max_attempts=3\n",
    "attempts=0\n",
    "# Check user passowrd\n",
    "while not unloacked and attempts<max_attempts:\n",
    "# Get a password from user input\n",
    "        UserPassword=input('Please enter a password: ')\n",
    "        attempts+=1\n",
    "        if UserPassword==Password:\n",
    "            print('Door unloacked and welcome!')\n",
    "            unloacked=True\n",
    "        else:\n",
    "            print('Incorrect password and please try again')\n",
    "if not unloacked:# Write a program to open smart door\n",
    "     print(\"Maximum attempts reached and access denied\")"
   ]
  },
  {
   "cell_type": "code",
   "execution_count": null,
   "metadata": {},
   "outputs": [
    {
     "name": "stdout",
     "output_type": "stream",
     "text": [
      "Access granted!. Door Unloacked\n"
     ]
    }
   ],
   "source": [
    "# Write a program to open smart door\n",
    "# First import a get pass module\n",
    "import getpass  # It ask the user for password without echoing, which means without displaying what the user typing \n",
    "import time\n",
    "# Set a passowrd\n",
    "Correct_password='1234'\n",
    "# Set maximum attempts\n",
    "max_attempts=3\n",
    "attempts=0\n",
    "timeout_seconds=10\n",
    "while attempts<max_attempts:\n",
    "    Password=getpass.getpass(\"Please Enter Password to unlock the door: \") # Take password without echoing\n",
    "    if Password==Correct_password:\n",
    "        print(\"Access granted!. Door Unloacked\")\n",
    "        break\n",
    "    else:\n",
    "        attempts+=1\n",
    "        print(f'Dear you enter incorrect password! Attempts left:{max_attempts-attempts}')\n",
    "        \n",
    "        if attempts==max_attempts:\n",
    "            print(\"Too many failed attempts! Door remains unlocked. Please try later\")\n",
    "            print(f\"Locking system for {timeout_seconds} seconds...\")\n",
    "            time.sleep(timeout_seconds)\n",
    "            attempts=0\n"
   ]
  },
  {
   "cell_type": "code",
   "execution_count": null,
   "metadata": {},
   "outputs": [
    {
     "name": "stdout",
     "output_type": "stream",
     "text": [
      "Sorted list using sorted() function: [2, 3, 5, 6, 7, 8]\n"
     ]
    }
   ],
   "source": [
    "# Sort a list in asending order and return a new list\n",
    "numbers = [5, 3, 8, 6, 7, 2]\n",
    "\n",
    "# Sort the list in ascending order and return a new list\n",
    "sorted_numbers = sorted(numbers)\n",
    "\n",
    "# Print the sorted list\n",
    "print(\"Sorted list using sorted() function:\", sorted_numbers)"
   ]
  },
  {
   "cell_type": "code",
   "execution_count": 5,
   "metadata": {},
   "outputs": [
    {
     "name": "stdout",
     "output_type": "stream",
     "text": [
      "Sorted list using sort() function: [90, 89, 56, 34, 12, 8, 6, 5, 4, 4, 3, 2, 2]\n"
     ]
    }
   ],
   "source": [
    "# Sort a list in desending order and return a new list\n",
    "numbers=[5,2,3,8,4,90,2,4,6,89,12,34,56]\n",
    "# sort the list in desending order\n",
    "numbers.sort(reverse=True)\n",
    "# Print the sorted list\n",
    "print(\"Sorted list using sort() function:\", numbers)\n"
   ]
  },
  {
   "cell_type": "code",
   "execution_count": null,
   "metadata": {},
   "outputs": [],
   "source": []
  }
 ],
 "metadata": {
  "kernelspec": {
   "display_name": "Python 3",
   "language": "python",
   "name": "python3"
  },
  "language_info": {
   "codemirror_mode": {
    "name": "ipython",
    "version": 3
   },
   "file_extension": ".py",
   "mimetype": "text/x-python",
   "name": "python",
   "nbconvert_exporter": "python",
   "pygments_lexer": "ipython3",
   "version": "3.13.1"
  }
 },
 "nbformat": 4,
 "nbformat_minor": 2
}
