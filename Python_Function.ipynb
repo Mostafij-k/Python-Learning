{
 "cells": [
  {
   "cell_type": "code",
   "execution_count": null,
   "metadata": {},
   "outputs": [
    {
     "name": "stdout",
     "output_type": "stream",
     "text": [
      "Hi, Jak\n",
      "How are you\n"
     ]
    }
   ],
   "source": [
    "                    #-----------Functions---------# \n",
    "# A function is a block of code which only runs when it is called.\n",
    "# You can pass data, known as parameters/argument, into a function.\n",
    "# In Python a function is defined using the def keyword\n",
    "# syntax: \n",
    "def hello():\n",
    "    print('Hi, Jak')\n",
    "    print('How are you')\n",
    "hello() # To call a function, use the function name followed by parenthesis"
   ]
  },
  {
   "cell_type": "code",
   "execution_count": null,
   "metadata": {},
   "outputs": [
    {
     "name": "stdout",
     "output_type": "stream",
     "text": [
      "Hello Rahim\n",
      "How are you?\n"
     ]
    }
   ],
   "source": [
    "# Pass argument to a function\n",
    "# Information can be passed into functions as arguments\n",
    "# From a function's perspective:\n",
    "# A parameter is the variable listed inside the parentheses in the function definition.\n",
    "# An argument is the value that is sent to the function when it is called.\n",
    "\n",
    "def greet(name):   # Here, name work as a variable which called parameters\n",
    "    print('Hello', name)\n",
    "    print('How are you?')\n",
    "greet('Rahim')     # Here, rahim is an argument which pass to name variable when call the function"
   ]
  },
  {
   "cell_type": "code",
   "execution_count": 5,
   "metadata": {},
   "outputs": [
    {
     "name": "stdout",
     "output_type": "stream",
     "text": [
      "Happy Birthday to John\n",
      "You are 20 years old\n"
     ]
    }
   ],
   "source": [
    "# Multiple argument can be passed\n",
    "# Number of arguments and parameter must be same.\n",
    "def happy_birthday(name,age):\n",
    "    print(f'Happy Birthday to {name}')\n",
    "    print(f'You are {age} years old')    \n",
    "happy_birthday('John', 20)       "
   ]
  },
  {
   "cell_type": "code",
   "execution_count": 7,
   "metadata": {},
   "outputs": [
    {
     "name": "stdout",
     "output_type": "stream",
     "text": [
      "Hello John\n",
      "Your bill of $45.00 is due: 09/25\n"
     ]
    }
   ],
   "source": [
    "# Display a invoice\n",
    "def invoice(username, amount, due_date):\n",
    "    print(f'Hello {username}')\n",
    "    print(f'Your bill of ${amount:.2f} is due: {due_date}')\n",
    "invoice('John', 45.00, '09/25')"
   ]
  },
  {
   "cell_type": "code",
   "execution_count": 1,
   "metadata": {},
   "outputs": [
    {
     "name": "stdout",
     "output_type": "stream",
     "text": [
      "Babar Virat\n"
     ]
    }
   ],
   "source": [
    "                # --------Return statement--------#\n",
    "# return statement used to end a function and send a result back to the caller\n",
    "def create_name(first,last):\n",
    "    x=first.capitalize()\n",
    "    y=last.capitalize()\n",
    "    return x+' '+y\n",
    "name=create_name('babar','virat')\n",
    "print(name)"
   ]
  },
  {
   "cell_type": "code",
   "execution_count": 11,
   "metadata": {},
   "outputs": [
    {
     "name": "stdout",
     "output_type": "stream",
     "text": [
      "The old child is Hasan\n"
     ]
    }
   ],
   "source": [
    "# arbitary arguments\n",
    "# If you do not know how many arguments that will be passed into your function, \n",
    "#                   add a * before the parameter\n",
    "def old_kids(*kids):\n",
    "    print(f'The old child is {kids[2]}')\n",
    "old_kids('Rshim','Junayed','Hasan')"
   ]
  },
  {
   "cell_type": "code",
   "execution_count": null,
   "metadata": {},
   "outputs": [
    {
     "name": "stdout",
     "output_type": "stream",
     "text": [
      "90\n"
     ]
    }
   ],
   "source": [
    "# Function to find maximum of three numbers\n",
    "def maximum(x,y,z):\n",
    "    return max(x,y,z)\n",
    "Maximum=maximum(78,90,34)\n",
    "print(Maximum)"
   ]
  },
  {
   "cell_type": "code",
   "execution_count": 14,
   "metadata": {},
   "outputs": [
    {
     "name": "stdout",
     "output_type": "stream",
     "text": [
      "67 is Odd number\n"
     ]
    }
   ],
   "source": [
    "# Find a number even or odd\n",
    "def is_num_even_odd(x):\n",
    "    if x%2==0:\n",
    "        return f'{x} is Even number'\n",
    "    else:\n",
    "        return f'{x} is Odd number'\n",
    "result=is_num_even_odd(67)\n",
    "print(result)"
   ]
  },
  {
   "cell_type": "code",
   "execution_count": null,
   "metadata": {},
   "outputs": [],
   "source": []
  }
 ],
 "metadata": {
  "kernelspec": {
   "display_name": "Python 3",
   "language": "python",
   "name": "python3"
  },
  "language_info": {
   "codemirror_mode": {
    "name": "ipython",
    "version": 3
   },
   "file_extension": ".py",
   "mimetype": "text/x-python",
   "name": "python",
   "nbconvert_exporter": "python",
   "pygments_lexer": "ipython3",
   "version": "3.13.1"
  }
 },
 "nbformat": 4,
 "nbformat_minor": 2
}
