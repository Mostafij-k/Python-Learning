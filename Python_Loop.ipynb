{
 "cells": [
  {
   "cell_type": "code",
   "execution_count": null,
   "metadata": {},
   "outputs": [
    {
     "name": "stdout",
     "output_type": "stream",
     "text": [
      "1\n",
      "2\n",
      "3\n"
     ]
    }
   ],
   "source": [
    "                    # -----------While loop----------# \n",
    "# While loop repeats a piece of code until the conditions becomes false.\n",
    "# Example: \n",
    "n=1\n",
    "while n<=3:\n",
    "    print(n)\n",
    "    n+=1"
   ]
  },
  {
   "cell_type": "code",
   "execution_count": null,
   "metadata": {},
   "outputs": [
    {
     "name": "stdout",
     "output_type": "stream",
     "text": [
      "21\n"
     ]
    }
   ],
   "source": [
    "# Problem:1 Sum of first n natural numbers using while loop\n",
    "# Solution:\n",
    "n=int(input(\"Enter a natural number please: \"))\n",
    "sum=0\n",
    "while n>0:\n",
    "    sum=sum+n\n",
    "    n=n-1\n",
    "print(sum)"
   ]
  },
  {
   "cell_type": "code",
   "execution_count": null,
   "metadata": {},
   "outputs": [
    {
     "name": "stdout",
     "output_type": "stream",
     "text": [
      "Hello mostafij\n"
     ]
    }
   ],
   "source": [
    "# Infinite while loop: A while lopp can run infinitely if the condition never becomes false\n",
    "# Example:\n",
    "        #n=100\n",
    "        #while True:\n",
    "        #    print(n)\n",
    "        #    n-=1\n",
    "\n",
    "# Breaking the infinite while loop\n",
    "# Use break keyword\n",
    "# Example:\n",
    "while True:\n",
    "    line=input(\"Enter the line (type 'q' to quit: )\")\n",
    "    if line=='q':\n",
    "        break\n",
    "    print(line)\n",
    "    "
   ]
  },
  {
   "cell_type": "code",
   "execution_count": 3,
   "metadata": {},
   "outputs": [
    {
     "name": "stdout",
     "output_type": "stream",
     "text": [
      "Hello world!\n",
      "Hello world!\n",
      "Hello world!\n",
      "Hello world!\n"
     ]
    }
   ],
   "source": [
    "# break statement\n",
    "# With the break statement we can stop the loop even if the while condition is true\n",
    "i=1\n",
    "while i<6:\n",
    "    print('Hello world!')\n",
    "    if i==4:\n",
    "        break\n",
    "    i+=1"
   ]
  },
  {
   "cell_type": "code",
   "execution_count": null,
   "metadata": {},
   "outputs": [
    {
     "name": "stdout",
     "output_type": "stream",
     "text": [
      "S. abony is not available!\n"
     ]
    }
   ],
   "source": [
    "# While loop with else statement\n",
    "# When the while condition is false, and the loop runs normally then the else bolck will be executed\n",
    "# Example: \n",
    "Microorganisms=['E. coli', 'S. aureus', 'C. albicans', 'B. subtilis', 'A. brasiliensis']\n",
    "Micro_len=len(Microorganisms)\n",
    "index=0\n",
    "while index<Micro_len:\n",
    "    if Microorganisms[index]=='S. abony':\n",
    "        print(\"S. abony is available!\")\n",
    "        break   # Here, occur abnormal break\n",
    "    index+=1    # Note: remember to increment index, or else the loop will continue forever.\n",
    "else:\n",
    "    print('S. abony is not available!')"
   ]
  },
  {
   "cell_type": "code",
   "execution_count": null,
   "metadata": {},
   "outputs": [
    {
     "name": "stdout",
     "output_type": "stream",
     "text": [
      "apple\n",
      "banana\n",
      "orange\n",
      "mango\n"
     ]
    }
   ],
   "source": [
    "                    # ---------For Loop---------#\n",
    "# A for loop is used for iterating over a sequence (that is either a list, a tuple, a dictionary, a set, or a string).\n",
    "# for loop repeats certain number of codes in certain number of time based on the providing value.\n",
    "# Example:\n",
    "Fruits=['apple', 'banana','orange', 'mango']\n",
    "for i in Fruits:\n",
    "    print(i)"
   ]
  },
  {
   "cell_type": "code",
   "execution_count": null,
   "metadata": {},
   "outputs": [
    {
     "name": "stdout",
     "output_type": "stream",
     "text": [
      "0\n",
      "1\n",
      "2\n",
      "3\n",
      "4\n",
      "Done!\n"
     ]
    }
   ],
   "source": [
    "                # -------for loop with range function--------#\n",
    "# range() function returns series of numbers based on arguments\n",
    "# Syntex: range(start, stop, step)\n",
    "# Here, start= starting position of the sequence and default value is 0.\n",
    "# stop= Stoping position of the sequence. Not included in the result of range ()\n",
    "# sequence end = stop-1\n",
    "# step= specifies the increment value and default value is 1\n",
    "\n",
    "# for loop with range(stop)\n",
    "# Generate a sequence of integers starting from 0 to stop-1\n",
    "# Example:\n",
    "for i in range(5):\n",
    "    print(i)\n",
    "print('Done!')\n",
    "\n",
    "# range() function only work with integer argument\n",
    "# All three arguments can be positive or negtaive \n",
    "# Step value can not be zero\n"
   ]
  },
  {
   "cell_type": "code",
   "execution_count": 6,
   "metadata": {},
   "outputs": [
    {
     "name": "stdout",
     "output_type": "stream",
     "text": [
      "2\n",
      "3\n",
      "4\n",
      "5\n",
      "6\n",
      "7\n",
      "8\n",
      "9\n",
      "Done!\n"
     ]
    }
   ],
   "source": [
    "# for loop with range(start, stop)\n",
    "# Generate a sequence of integers starting from start to stop-1\n",
    "# Example:\n",
    "for i in range(2, 10):\n",
    "    print(i)\n",
    "print('Done!')"
   ]
  },
  {
   "cell_type": "code",
   "execution_count": 7,
   "metadata": {},
   "outputs": [
    {
     "name": "stdout",
     "output_type": "stream",
     "text": [
      "2\n",
      "4\n",
      "6\n",
      "8\n",
      "Done!\n"
     ]
    }
   ],
   "source": [
    "# for loop with range(start, stop, step)\n",
    "# Generate a sequence of integers starting from start, increment by step and stopped st stop-1\n",
    "# Example:\n",
    "for i in range(2, 10, 2):\n",
    "    print(i)\n",
    "print('Done!')"
   ]
  },
  {
   "cell_type": "code",
   "execution_count": 7,
   "metadata": {},
   "outputs": [
    {
     "name": "stdout",
     "output_type": "stream",
     "text": [
      "1275\n"
     ]
    }
   ],
   "source": [
    "# Find substration 1 to 50\n",
    "result=0\n",
    "for num in range(1, 51):\n",
    "    result=result+num\n",
    "print(result)"
   ]
  },
  {
   "cell_type": "code",
   "execution_count": 1,
   "metadata": {},
   "outputs": [
    {
     "name": "stdout",
     "output_type": "stream",
     "text": [
      "Sum of first 50 natural number is 1275\n"
     ]
    }
   ],
   "source": [
    "# Problem:1 Sum of first n natural numbers using for loop\n",
    "# Solution:\n",
    "Number=int(input(\"Enter a natutal number: \"))\n",
    "sum=0\n",
    "for i in range(1,Number+1):\n",
    "    sum+=i\n",
    "print(f\"Sum of first {Number} natural number is {sum}\")"
   ]
  },
  {
   "cell_type": "code",
   "execution_count": 8,
   "metadata": {},
   "outputs": [
    {
     "name": "stdout",
     "output_type": "stream",
     "text": [
      "5\n",
      "4\n",
      "3\n",
      "2\n",
      "1\n",
      "Done!\n"
     ]
    }
   ],
   "source": [
    "# Reversing a range using negative step value\n",
    "for i in range(5,0,-1):\n",
    "    print(i)\n",
    "print('Done!')"
   ]
  },
  {
   "cell_type": "code",
   "execution_count": null,
   "metadata": {},
   "outputs": [
    {
     "name": "stdout",
     "output_type": "stream",
     "text": [
      "5\n",
      "4\n",
      "3\n",
      "2\n",
      "1\n",
      "Done! "
     ]
    }
   ],
   "source": [
    "# Reverging a raange using reversed() function\n",
    "for i in reversed(range(1,6,1)):\n",
    "        print(i)\n",
    "print('Done!')"
   ]
  },
  {
   "cell_type": "code",
   "execution_count": null,
   "metadata": {},
   "outputs": [
    {
     "name": "stdout",
     "output_type": "stream",
     "text": [
      "A b d u l l a h "
     ]
    }
   ],
   "source": [
    "# Accessing character of a string\n",
    "# for loop can be used to access all characters of a string\n",
    "Name='Abdullah'\n",
    "for i in Name:\n",
    "    print(i,end=' ')    # Here, end='' helps to show all character at same line"
   ]
  },
  {
   "cell_type": "code",
   "execution_count": 11,
   "metadata": {},
   "outputs": [
    {
     "name": "stdout",
     "output_type": "stream",
     "text": [
      "n h o J "
     ]
    }
   ],
   "source": [
    "# Iterating a string with reverse order\n",
    "# Slicing can be used to reverse string\n",
    "# Example:\n",
    "name=\"John\"\n",
    "for i in name[::-1]:\n",
    "    print(i, end=' ')"
   ]
  },
  {
   "cell_type": "code",
   "execution_count": 12,
   "metadata": {},
   "outputs": [
    {
     "name": "stdout",
     "output_type": "stream",
     "text": [
      "There are 6 word in this string\n"
     ]
    }
   ],
   "source": [
    "# Accessing word of a string\n",
    "# split() function can be used to split a string into words\n",
    "# Example:\n",
    "String='I love my country very much'\n",
    "count=0\n",
    "for word in String.split():\n",
    "    count=count+1\n",
    "print(f\"There are {count} word in this string\")"
   ]
  },
  {
   "cell_type": "code",
   "execution_count": null,
   "metadata": {},
   "outputs": [
    {
     "name": "stdout",
     "output_type": "stream",
     "text": [
      "Name\n",
      "Instructor\n"
     ]
    }
   ],
   "source": [
    "                    # -------For loop with dictionaries------#      \n",
    "# for loop can be used to iterate over a dictionaries\n",
    "# Example: \n",
    "course={'Name': 'Python', 'Instructor':'Jahid'}\n",
    "for i in course:        # Here, this statement allows to access each keys of this dictionary.\n",
    "    print(i)            # Keys are assign to variable i one at a time. print only keys not value.               "
   ]
  },
  {
   "cell_type": "code",
   "execution_count": 2,
   "metadata": {},
   "outputs": [
    {
     "name": "stdout",
     "output_type": "stream",
     "text": [
      "Python\n",
      "Jahid\n"
     ]
    }
   ],
   "source": [
    "# Accessing values of a dictionary\n",
    "# Values can be access using squire braket notation\n",
    "# Example: \n",
    "course={'Name': 'Python', 'Instructor':'Jahid'}\n",
    "for i in course:        # Here, this statement allows to access each keys of this dictionary.\n",
    "    print(course[i])    # Here, i replace by keys and print associted value"
   ]
  },
  {
   "cell_type": "code",
   "execution_count": 3,
   "metadata": {},
   "outputs": [
    {
     "name": "stdout",
     "output_type": "stream",
     "text": [
      "Python\n",
      "Jahid\n"
     ]
    }
   ],
   "source": [
    "# Accessing values of a dictionary\n",
    "# Values can be access using values() method\n",
    "# Example: \n",
    "course={'Name': 'Python', 'Instructor':'Jahid'}\n",
    "for x in course.values():   # Here, course.values() allows to access values of this dictionary and assign to the x variable.\n",
    "    print(x)"
   ]
  },
  {
   "cell_type": "code",
   "execution_count": null,
   "metadata": {},
   "outputs": [
    {
     "name": "stdout",
     "output_type": "stream",
     "text": [
      "Name\n",
      "Instructor\n"
     ]
    }
   ],
   "source": [
    "# Accessing keys of a dictionary\n",
    "# keys can be access using keys() method\n",
    "# Example: \n",
    "course={'Name': 'Python', 'Instructor':'Jahid'}\n",
    "for x in course.keys():   # Here, course.keys() allows to access values of this dictionary and assign to the x variable.\n",
    "    print(x)"
   ]
  },
  {
   "cell_type": "code",
   "execution_count": null,
   "metadata": {},
   "outputs": [
    {
     "name": "stdout",
     "output_type": "stream",
     "text": [
      "Name: Python\n",
      "Instructor: Jahid\n"
     ]
    }
   ],
   "source": [
    "# Accessing keys and values of a dictionary\n",
    "# keys and values can be access using items() method\n",
    "# Example: \n",
    "course={'Name': 'Python', 'Instructor':'Jahid'}\n",
    "for x,y in course.items():   # Here, course.items() allows to access keys and values of this dictionary\n",
    "     print(f'{x}: {y}')      # keys assign to the x variableand values assign to the y variable.\n"
   ]
  },
  {
   "cell_type": "code",
   "execution_count": null,
   "metadata": {},
   "outputs": [
    {
     "name": "stdout",
     "output_type": "stream",
     "text": [
      "Python R PHP JAVA C++ C "
     ]
    }
   ],
   "source": [
    "                    #------for loop with dictionary---------#\n",
    "# for loop can be used to iterate over a list\n",
    "# Example: \n",
    "programming=['Python','R','PHP','JAVA','C++','C']\n",
    "for i in programming:           # This statement allows us to access each item one at a time \n",
    "    print(i, end=' ')           # Each item aasign to variable i."
   ]
  },
  {
   "cell_type": "code",
   "execution_count": null,
   "metadata": {},
   "outputs": [
    {
     "name": "stdout",
     "output_type": "stream",
     "text": [
      "Python R PHP JAVA C++ C "
     ]
    }
   ],
   "source": [
    "# Iterating over a list using \n",
    "# for loop along with range() function can be used to iterate over a list\n",
    "# Example: \n",
    "programming=['Python','R','PHP','JAVA','C++','C']\n",
    "for i in range(len(programming)):      # This statement allows us to generate integer number o to 5 (length of list-1).\n",
    "    print(programming[i], end=' ')     # Here, number of i work as a index of list"
   ]
  },
  {
   "cell_type": "code",
   "execution_count": null,
   "metadata": {},
   "outputs": [
    {
     "name": "stdout",
     "output_type": "stream",
     "text": [
      "I do not like Ruby\n"
     ]
    }
   ],
   "source": [
    "                    #------- For loop with else keyword---------#\n",
    "# Else block will be executed only when the loop is not terminated abruptly by the break keyword\n",
    "# Syanrax:  \n",
    "# for var in X:\n",
    "    # Statement inside for\n",
    "# else:\n",
    "    # Satement inside else\n",
    "Favourite_programming=['Python','R','PHP','JAVA','C++','C']\n",
    "for x in Favourite_programming:\n",
    "    if 'Ruby'==x:\n",
    "        print('I like Ruby')\n",
    "        break                       # Here, Loop terminates abnormally\n",
    "else: \n",
    "    print('I do not like Ruby')     # here, Loop terminates normally"
   ]
  },
  {
   "cell_type": "code",
   "execution_count": null,
   "metadata": {},
   "outputs": [
    {
     "name": "stdout",
     "output_type": "stream",
     "text": [
      "0 1 2 3 4 5 6 7 8 9 10 11 12 13 14 15 16 17 18 19 20 "
     ]
    }
   ],
   "source": [
    "                #---------Break statement-------#\n",
    "# Break statement used to terminate the running loop\n",
    "# Example:\n",
    "# break with for loop\n",
    "numbers=list(range(0,100))\n",
    "for x in numbers:\n",
    "    if x>20:\n",
    "        break\n",
    "    print(x,end=' ') # Here, second argument end='' allows us to print number in the same line with space.\n",
    "   "
   ]
  },
  {
   "cell_type": "code",
   "execution_count": null,
   "metadata": {},
   "outputs": [
    {
     "name": "stdout",
     "output_type": "stream",
     "text": [
      "I love Python\n"
     ]
    }
   ],
   "source": [
    "# Break with while loop\n",
    "while True:\n",
    "    line=input(\"Enter the line (type 'q' to quit: )\")\n",
    "    if line=='q':\n",
    "        break\n",
    "    print(line)"
   ]
  },
  {
   "cell_type": "code",
   "execution_count": null,
   "metadata": {},
   "outputs": [
    {
     "name": "stdout",
     "output_type": "stream",
     "text": [
      "0 1 3 5 7 "
     ]
    }
   ],
   "source": [
    "                    #---------Continue statement--------#\n",
    "# Continue statement used to continue the current iteration\n",
    "# Example:\n",
    "# for loop and continue keyword\n",
    "# print 1,3,5,7\n",
    "for x in range(9):\n",
    "   \n",
    "    if x==2 or x==4 or x==6 or x==8:\n",
    "        continue\n",
    "    print(x,end=' ')"
   ]
  },
  {
   "cell_type": "code",
   "execution_count": null,
   "metadata": {},
   "outputs": [
    {
     "name": "stdout",
     "output_type": "stream",
     "text": [
      "2 4 6 8 10 "
     ]
    }
   ],
   "source": [
    "# Example of while loop and continue keyword\n",
    "n=0\n",
    "while n<=10:\n",
    "    n+=1\n",
    "    if n%2!=0:\n",
    "        continue\n",
    "    print(n, end=' ')"
   ]
  },
  {
   "cell_type": "code",
   "execution_count": null,
   "metadata": {},
   "outputs": [
    {
     "name": "stdout",
     "output_type": "stream",
     "text": [
      "1 2\n",
      "1 4\n",
      "1 6\n",
      "\n",
      "2 2\n",
      "2 4\n",
      "2 6\n",
      "\n",
      "3 2\n",
      "3 4\n",
      "3 6\n",
      "\n"
     ]
    }
   ],
   "source": [
    "                    #--------Nested loop--------#\n",
    "# Nested loop refers to a loop within a loop\n",
    "# syntax:  outer loop:\n",
    "#                inner loop\n",
    "#                   # statement under inner_loop\n",
    "#                # Statemnet under outer loop\n",
    "\n",
    "# Nested for loop\n",
    "# Refers to a for loop within a for loop\n",
    "list1=[1,2,3]\n",
    "list2=[2,4,6]\n",
    "for x in list1:\n",
    "    for y in list2:\n",
    "        print(x,y)\n",
    "    print()         # Create a new line"
   ]
  },
  {
   "cell_type": "code",
   "execution_count": 4,
   "metadata": {},
   "outputs": [
    {
     "name": "stdout",
     "output_type": "stream",
     "text": [
      "1 3\n",
      "1 4\n",
      "1 5\n",
      "\n",
      "3 3\n",
      "3 4\n",
      "3 5\n",
      "\n",
      "5 3\n",
      "5 4\n",
      "5 5\n",
      "\n"
     ]
    }
   ],
   "source": [
    "# Nested while loop\n",
    "# Is a while loop within a while loop\n",
    "# Example:\n",
    "list1=[1,3,5]\n",
    "list2=[3,4,5]\n",
    "i=0\n",
    "while i<len(list1):\n",
    "    j=0\n",
    "    while j<len(list2):\n",
    "        print(list1[i],list2[j])\n",
    "        j=j+1\n",
    "    print()\n",
    "    i=i+1"
   ]
  },
  {
   "cell_type": "code",
   "execution_count": null,
   "metadata": {},
   "outputs": [],
   "source": [
    "                #-------For loop vs while loop--------#\n",
    "# 1.\n",
    "# for loop needs a iterable objects to iterate\n",
    "# while loop executes based on some condition\n",
    "# Syantax of for loop:\n",
    " #for var in iterable:      # while loop condition:\n",
    "        # do something              # do something\n",
    "\n",
    "# 2.\n",
    "# for loop is used when number of iteration is known in advance\n",
    "# while loop is uded when number of iteration is not known in advance\n",
    "\n",
    "# 3. Both loop can run for infinite time\n",
    "\n"
   ]
  }
 ],
 "metadata": {
  "kernelspec": {
   "display_name": "Python 3",
   "language": "python",
   "name": "python3"
  },
  "language_info": {
   "codemirror_mode": {
    "name": "ipython",
    "version": 3
   },
   "file_extension": ".py",
   "mimetype": "text/x-python",
   "name": "python",
   "nbconvert_exporter": "python",
   "pygments_lexer": "ipython3",
   "version": "3.13.1"
  }
 },
 "nbformat": 4,
 "nbformat_minor": 2
}
