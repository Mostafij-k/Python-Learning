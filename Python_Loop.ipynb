{
 "cells": [
  {
   "cell_type": "code",
   "execution_count": null,
   "metadata": {},
   "outputs": [
    {
     "name": "stdout",
     "output_type": "stream",
     "text": [
      "1\n",
      "2\n",
      "3\n"
     ]
    }
   ],
   "source": [
    "                    # -----------While loop----------# \n",
    "# While loop repeats a piece of code until the conditions becomes false.\n",
    "# Example: \n",
    "n=1\n",
    "while n<=3:\n",
    "    print(n)\n",
    "    n+=1"
   ]
  },
  {
   "cell_type": "code",
   "execution_count": 2,
   "metadata": {},
   "outputs": [
    {
     "name": "stdout",
     "output_type": "stream",
     "text": [
      "21\n"
     ]
    }
   ],
   "source": [
    "# Problem:1 Sum of first n natural numbers\n",
    "# Solution:\n",
    "n=int(input(\"Enter a natural number please: \"))\n",
    "sum=0\n",
    "while n>0:\n",
    "    sum=sum+n\n",
    "    n=n-1\n",
    "print(sum)"
   ]
  },
  {
   "cell_type": "code",
   "execution_count": null,
   "metadata": {},
   "outputs": [
    {
     "name": "stdout",
     "output_type": "stream",
     "text": [
      "Hello mostafij\n"
     ]
    }
   ],
   "source": [
    "# Infinite while loop: A while lopp can run infinitely if the condition never becomes false\n",
    "# Example:\n",
    "        #n=100\n",
    "        #while True:\n",
    "        #    print(n)\n",
    "        #    n-=1\n",
    "\n",
    "# Breaking the infinite while loop\n",
    "# Use break keyword\n",
    "# Example:\n",
    "while True:\n",
    "    line=input(\"Enter the line (type 'q' to quit: )\")\n",
    "    if line=='q':\n",
    "        break\n",
    "    print(line)\n",
    "    "
   ]
  },
  {
   "cell_type": "code",
   "execution_count": 3,
   "metadata": {},
   "outputs": [
    {
     "name": "stdout",
     "output_type": "stream",
     "text": [
      "Hello world!\n",
      "Hello world!\n",
      "Hello world!\n",
      "Hello world!\n"
     ]
    }
   ],
   "source": [
    "# break statement\n",
    "# With the break statement we can stop the loop even if the while condition is true\n",
    "i=1\n",
    "while i<6:\n",
    "    print('Hello world!')\n",
    "    if i==4:\n",
    "        break\n",
    "    i+=1"
   ]
  },
  {
   "cell_type": "code",
   "execution_count": null,
   "metadata": {},
   "outputs": [
    {
     "name": "stdout",
     "output_type": "stream",
     "text": [
      "S. abony is not available!\n"
     ]
    }
   ],
   "source": [
    "# While loop with else statement\n",
    "# When the while condition is false, and the loop runs normally then the else bolck will be executed\n",
    "# Example: \n",
    "Microorganisms=['E. coli', 'S. aureus', 'C. albicans', 'B. subtilis', 'A. brasiliensis']\n",
    "Micro_len=len(Microorganisms)\n",
    "index=0\n",
    "while index<Micro_len:\n",
    "    if Microorganisms[index]=='S. abony':\n",
    "        print(\"S. abony is available!\")\n",
    "        break   # Here, occur abnormal break\n",
    "    index+=1    # Note: remember to increment index, or else the loop will continue forever.\n",
    "else:\n",
    "    print('S. abony is not available!')"
   ]
  },
  {
   "cell_type": "code",
   "execution_count": null,
   "metadata": {},
   "outputs": [
    {
     "name": "stdout",
     "output_type": "stream",
     "text": [
      "apple\n",
      "banana\n",
      "orange\n",
      "mango\n"
     ]
    }
   ],
   "source": [
    "                    # ---------For Loop---------#\n",
    "# A for loop is used for iterating over a sequence (that is either a list, a tuple, a dictionary, a set, or a string).\n",
    "# for loop repeats certain number of codes in certain number of time based on the providing value.\n",
    "# Example:\n",
    "Fruits=['apple', 'banana','orange', 'mango']\n",
    "for i in Fruits:\n",
    "    print(i)"
   ]
  },
  {
   "cell_type": "code",
   "execution_count": null,
   "metadata": {},
   "outputs": [
    {
     "name": "stdout",
     "output_type": "stream",
     "text": [
      "0\n",
      "1\n",
      "2\n",
      "3\n",
      "4\n",
      "Done!\n"
     ]
    }
   ],
   "source": [
    "                # -------for loop with range function--------#\n",
    "# range() function returns series of numbers based on arguments\n",
    "# Syntex: range(start, stop, step)\n",
    "# Here, start= starting position of the sequence and default value is 0.\n",
    "# stop= Stoping position of the sequence. Not included in the result of range ()\n",
    "# sequence end = stop-1\n",
    "# step= specifies the increment value and default value is 1\n",
    "\n",
    "# for loop with range(stop)\n",
    "# Generate a sequence of integers starting from 0 to stop-1\n",
    "# Example:\n",
    "for i in range(5):\n",
    "    print(i)\n",
    "print('Done!')\n",
    "\n",
    "# range() function only work with integer argument\n",
    "# All three arguments can be positive or negtaive \n",
    "# Step value can not be zero\n"
   ]
  },
  {
   "cell_type": "code",
   "execution_count": 6,
   "metadata": {},
   "outputs": [
    {
     "name": "stdout",
     "output_type": "stream",
     "text": [
      "2\n",
      "3\n",
      "4\n",
      "5\n",
      "6\n",
      "7\n",
      "8\n",
      "9\n",
      "Done!\n"
     ]
    }
   ],
   "source": [
    "# for loop with range(start, stop)\n",
    "# Generate a sequence of integers starting from start to stop-1\n",
    "# Example:\n",
    "for i in range(2, 10):\n",
    "    print(i)\n",
    "print('Done!')"
   ]
  },
  {
   "cell_type": "code",
   "execution_count": 7,
   "metadata": {},
   "outputs": [
    {
     "name": "stdout",
     "output_type": "stream",
     "text": [
      "2\n",
      "4\n",
      "6\n",
      "8\n",
      "Done!\n"
     ]
    }
   ],
   "source": [
    "# for loop with range(start, stop, step)\n",
    "# Generate a sequence of integers starting from start, increment by step and stopped st stop-1\n",
    "# Example:\n",
    "for i in range(2, 10, 2):\n",
    "    print(i)\n",
    "print('Done!')"
   ]
  },
  {
   "cell_type": "code",
   "execution_count": null,
   "metadata": {},
   "outputs": [],
   "source": []
  }
 ],
 "metadata": {
  "kernelspec": {
   "display_name": "Python 3",
   "language": "python",
   "name": "python3"
  },
  "language_info": {
   "codemirror_mode": {
    "name": "ipython",
    "version": 3
   },
   "file_extension": ".py",
   "mimetype": "text/x-python",
   "name": "python",
   "nbconvert_exporter": "python",
   "pygments_lexer": "ipython3",
   "version": "3.13.1"
  }
 },
 "nbformat": 4,
 "nbformat_minor": 2
}
