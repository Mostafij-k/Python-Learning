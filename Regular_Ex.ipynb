{
 "cells": [
  {
   "cell_type": "code",
   "execution_count": 1,
   "metadata": {},
   "outputs": [],
   "source": [
    "# A regular expression (regex) in Python is a sequence of characters that defines a search pattern for matching text.\n",
    "# It is used for string searching, manipulation, and validation.\n",
    "# Python's re module provides support for working with regular expressions.\n",
    "\n",
    "# Import Regular expression\n",
    "import re"
   ]
  },
  {
   "cell_type": "code",
   "execution_count": null,
   "metadata": {},
   "outputs": [],
   "source": [
    "# re module offers a set of functions\n",
    "    # re.search() – Finds a match anywhere in a string.\n",
    "    # re.match() – Checks if the pattern matches at the beginning of a string.\n",
    "    # re.findall() – Finds all occurrences of the pattern in a string.\n",
    "    # re.sub() – Replaces matches with something else.\n",
    "    # re.split() – Splits a string at matches.\n",
    "    # re.compile() – Helps store a pattern for reuse."
   ]
  }
 ],
 "metadata": {
  "kernelspec": {
   "display_name": "Python 3",
   "language": "python",
   "name": "python3"
  },
  "language_info": {
   "codemirror_mode": {
    "name": "ipython",
    "version": 3
   },
   "file_extension": ".py",
   "mimetype": "text/x-python",
   "name": "python",
   "nbconvert_exporter": "python",
   "pygments_lexer": "ipython3",
   "version": "3.13.1"
  }
 },
 "nbformat": 4,
 "nbformat_minor": 2
}
