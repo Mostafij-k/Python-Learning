{
 "cells": [
  {
   "cell_type": "code",
   "execution_count": null,
   "metadata": {},
   "outputs": [
    {
     "name": "stdout",
     "output_type": "stream",
     "text": [
      "[1, 3, 5, 9, 9, 12, 14, 56, 67]\n"
     ]
    }
   ],
   "source": [
    "# Sorting is basically arrenging a data in particular order  \n",
    "# It may be asending or desending order.\n",
    "# Example: Data=564189, Desending order=145689, Asending order=9876541\n",
    "x=[5,9,1,3,67,9,12,14,56]\n",
    "x.sort()        # Sort by Dsending order\n",
    "print(x)"
   ]
  },
  {
   "cell_type": "code",
   "execution_count": 2,
   "metadata": {},
   "outputs": [
    {
     "name": "stdout",
     "output_type": "stream",
     "text": [
      "Sorted List: [2, 4, 5, 7, 8, 9, 10, 10, 12, 23]\n"
     ]
    }
   ],
   "source": [
    "                    #--------Bubble Short--------#\n",
    "# Bubble Sort repeatedly steps through the list, compares adjacent elements, and swaps them if they are in the wrong order.\n",
    "\n",
    "                    # -------Features of Bubble Short------#\n",
    "# It compare one pair at a time\n",
    "# In Bubble Sort, the number of iterations or passes depends on the length of the list, denoted as 𝑛\n",
    "# The algorithm requires 𝑛−1 passes to ensure the list is sorted.\n",
    "# In each pass, the algorithm compares adjacent elements and swaps them if they are in the wrong order.\n",
    "# For example, if we have a list of 5 elements:\n",
    "        # Number of elements, 𝑛=5\n",
    "        # Number of passes required, 𝑛−1=5−1=4\n",
    "\n",
    "# Example:\n",
    "def bubble_sort(list):\n",
    "    for i in range(0,len(list)-1):\n",
    "        for j in range(0,len(list)-i-1):\n",
    "            if list[j]>list[j+1]:\n",
    "                list[j],list[j+1]=list[j+1],list[j]\n",
    "    return list\n",
    "# Unsorted list\n",
    "Unsorted_list=[5,2,4,12,10,9,7,10,8,23]\n",
    "Sorted_List=bubble_sort(Unsorted_list)\n",
    "print(f\"Sorted List: {Sorted_List}\")\n"
   ]
  },
  {
   "cell_type": "code",
   "execution_count": null,
   "metadata": {},
   "outputs": [
    {
     "name": "stdout",
     "output_type": "stream",
     "text": [
      "Sorted List: [1, 2, 4, 6, 7, 11, 12, 15, 20, 21, 23, 34, 87, 9]\n"
     ]
    }
   ],
   "source": [
    "                    #----------Insertion---------#\n",
    "# Insertion sort is a simple and intuitive sorting algorithm used to arrange elements in a list in a specific order(typically ascending or descending).\n",
    "\n",
    "        #-------Features of insertion------#\n",
    "    # outer loop of the insertion sort algorithm runs from the second element (index 1) to the last element (Index n-1)\n",
    "    # This means that if you have a list of 𝑛 elements, you will iterate through 𝑛−1 key elements.\n",
    "    # For exaample if you have list contain 5 element. \n",
    "    # The outer loop will run 4 times (iterations) because 5−1=4.\n",
    "# For example: Assending order\n",
    "def insertion_sort(arr):\n",
    "    n=len(arr)\n",
    "    for i in range(1, n-1):     # Outer loop control iteration\n",
    "        item=arr[i]\n",
    "        j=i-1\n",
    "        while j>=0 and item<arr[j]:\n",
    "            arr[j+1]=arr[j]\n",
    "            j-=1\n",
    "        arr[j+1]=item\n",
    "    return arr\n",
    "# Sample list\n",
    "Unsorted_list=[34,4,6,2,1,87,23,12,7,11,21,15,20,9]\n",
    "Sorted_list=insertion_sort(Unsorted_list)\n",
    "print(f\"Sorted List: {Sorted_list}\")\n"
   ]
  },
  {
   "cell_type": "code",
   "execution_count": 3,
   "metadata": {},
   "outputs": [
    {
     "name": "stdout",
     "output_type": "stream",
     "text": [
      "Sorted List: [87, 34, 23, 21, 20, 15, 12, 11, 7, 6, 4, 2, 1, 9]\n"
     ]
    }
   ],
   "source": [
    "# Sort by desending order\n",
    "def insertion_sort(arr):\n",
    "    n=len(arr)\n",
    "    for i in range(1, n-1):     # Outer loop control iteration\n",
    "        item=arr[i]\n",
    "        j=i-1\n",
    "        while j>=0 and item>arr[j]:\n",
    "            arr[j+1]=arr[j]\n",
    "            j-=1\n",
    "        arr[j+1]=item\n",
    "    return arr\n",
    "# Sample list\n",
    "Unsorted_list=[34,4,6,2,1,87,23,12,7,11,21,15,20,9]\n",
    "Sorted_list=insertion_sort(Unsorted_list)\n",
    "print(f\"Sorted List: {Sorted_list}\")"
   ]
  },
  {
   "cell_type": "code",
   "execution_count": null,
   "metadata": {},
   "outputs": [],
   "source": []
  }
 ],
 "metadata": {
  "kernelspec": {
   "display_name": "Python 3",
   "language": "python",
   "name": "python3"
  },
  "language_info": {
   "codemirror_mode": {
    "name": "ipython",
    "version": 3
   },
   "file_extension": ".py",
   "mimetype": "text/x-python",
   "name": "python",
   "nbconvert_exporter": "python",
   "pygments_lexer": "ipython3",
   "version": "3.13.1"
  }
 },
 "nbformat": 4,
 "nbformat_minor": 2
}
