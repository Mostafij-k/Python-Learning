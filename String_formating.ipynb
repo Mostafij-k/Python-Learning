{
 "cells": [
  {
   "cell_type": "code",
   "execution_count": null,
   "metadata": {},
   "outputs": [
    {
     "name": "stdout",
     "output_type": "stream",
     "text": [
      "My name is Mostafij\n",
      "My name is Mostafij and I came from Kushtia district. My postalcode is 7001.\n"
     ]
    }
   ],
   "source": [
    "# String formating/String interpolation\n",
    "# The process of inserting an object into predefined string is called string interpolation or string formating\n",
    "\n",
    "# %formating\n",
    "# The oldest technique used to insert an object into string.\n",
    "# Example:\n",
    "name='Mostafij'\n",
    "print('My name is %s' %name)        # %s called place holder of external object\n",
    "\n",
    "# Multiple variable are allowed\n",
    "name=\"Mostafij\"\n",
    "District='Kushtia'\n",
    "PostCode=7001       # Use %d for integer/floating \n",
    "print('My name is %s and I came from %s district. My postalcode is %d.'%(name, District, PostCode))\n"
   ]
  },
  {
   "cell_type": "code",
   "execution_count": null,
   "metadata": {},
   "outputs": [
    {
     "name": "stdout",
     "output_type": "stream",
     "text": [
      "My name is Mostafij and I came from Kushtia district. My postalcode is 7001.\n",
      "My name is Mostafij and I came from Kushtia district. My postalcode is 7001.\n",
      "My name is Ronok and I came from Jashore.\n",
      "I got 78.00% marks in Math\n"
     ]
    }
   ],
   "source": [
    "# str.format() function\n",
    "# The placeholder are replaced by curly braces in this techniques\n",
    "name=\"Mostafij\"\n",
    "District='Kushtia'\n",
    "PostCode=7001      \n",
    "print('My name is {} and I came from {} district. My postalcode is {}.'.format(name, District, PostCode))\n",
    "\n",
    "# Referencing variable through indexing is possible\n",
    "name=\"Mostafij\"\n",
    "District='Kushtia'\n",
    "PostCode=7001      \n",
    "print('My name is {0} and I came from {1} district. My postalcode is {2}.'.format(name, District, PostCode))\n",
    "# Here idexing start from 0 to total variable-1\n",
    "\n",
    "# To improve the readability, keywords can also be used\n",
    "n='Ronok'\n",
    "d='Jashore'\n",
    "print('My name is {name} and I came from {District}.'.format(name=n,District=d))\n",
    "\n",
    "# format specifier like f for float, b for binary, d for integer can be used\n",
    "print('I got {0:.2f}% marks in Math'.format(78)) # Here, 0: means the index of a variable."
   ]
  },
  {
   "cell_type": "code",
   "execution_count": null,
   "metadata": {},
   "outputs": [
    {
     "data": {
      "text/plain": [
       "'My name is JOHN and I live in DHAMRAI.'"
      ]
     },
     "execution_count": 11,
     "metadata": {},
     "output_type": "execute_result"
    }
   ],
   "source": [
    "# f string\n",
    "# Used to format a string\n",
    "# Any type of quotation mark can be used\n",
    "# Syntax: f\"string {object}\"\n",
    "name='John'\n",
    "city='Dhamrai'\n",
    "f\"My name is {name} and I live in {city}.\"\n",
    "\n",
    "# Call to method of the string is possible\n",
    "f\"My name is {name.upper()} and I live in {city.upper()}.\""
   ]
  },
  {
   "cell_type": "code",
   "execution_count": 1,
   "metadata": {},
   "outputs": [
    {
     "name": "stdout",
     "output_type": "stream",
     "text": [
      "My name is John. I came from Dhamrai. My age is 21.\n",
      "My name is John. I came from Dhamrai.My age is 21.\n"
     ]
    }
   ],
   "source": [
    "# for better readability multiline f-string can be used\n",
    "name='John'\n",
    "city='Dhamrai'\n",
    "age=21\n",
    "M_string=f\"My name is {name}. \" \\\n",
    "        f'I came from {city}. ' \\\n",
    "        f'My age is {age}.'\n",
    "print(M_string)\n",
    "# We can use round braket for multiline f-string\n",
    "M_string=(f\"My name is {name}. \"\n",
    "        f'I came from {city}.'\n",
    "        f'My age is {age}.')\n",
    "print(M_string)\n"
   ]
  },
  {
   "cell_type": "code",
   "execution_count": null,
   "metadata": {},
   "outputs": [],
   "source": []
  }
 ],
 "metadata": {
  "kernelspec": {
   "display_name": "Python 3",
   "language": "python",
   "name": "python3"
  },
  "language_info": {
   "codemirror_mode": {
    "name": "ipython",
    "version": 3
   },
   "file_extension": ".py",
   "mimetype": "text/x-python",
   "name": "python",
   "nbconvert_exporter": "python",
   "pygments_lexer": "ipython3",
   "version": "3.13.1"
  }
 },
 "nbformat": 4,
 "nbformat_minor": 2
}
