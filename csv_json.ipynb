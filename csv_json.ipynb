{
 "cells": [
  {
   "cell_type": "code",
   "execution_count": 5,
   "id": "ddb98b42",
   "metadata": {},
   "outputs": [],
   "source": [
    "# The csv module in Python is used for reading and writing CSV (Comma-Separated Values) files.\n",
    "# Key features \n",
    "    # Reading CSV Files: You can read CSV files using the csv.reader() function.\n",
    "    # Writing to CSV Files: You can write data to CSV files using the csv.writer() function. \n",
    "import csv\n",
    "data=[\n",
    "    [1,\"Mostafij\",'CSE'],\n",
    "    [2,\"Shawon\",'MB'],\n",
    "    [3,\"Tushar\",'GEBT'],\n",
    "    [4,\"Sagor\",'FMB'],\n",
    "    ]\n",
    "with open('Data.csv', mode='w', newline=\"\") as Data_CSV:\n",
    "    csv_writer=csv.writer(Data_CSV, delimiter='\\t')\n",
    "    csv_writer.writerow(['Roll', 'Name', 'Branch'])\n",
    "    csv_writer.writerows(data)"
   ]
  },
  {
   "cell_type": "code",
   "execution_count": 9,
   "id": "86c73e06",
   "metadata": {},
   "outputs": [
    {
     "name": "stdout",
     "output_type": "stream",
     "text": [
      "Roll\tName\tBranch\t\n",
      "1\tMostafij\tCSE\t\n",
      "2\tShawon\tMB\t\n",
      "3\tTushar\tGEBT\t\n",
      "4\tSagor\tFMB\t\n"
     ]
    }
   ],
   "source": [
    "import csv\n",
    "with open(\"Data.csv\", 'r', newline=\"\") as csv_file:\n",
    "    csv_reader=csv.reader(csv_file, delimiter=\"\\t\")\n",
    "    for row in csv_reader:\n",
    "        for col in row:\n",
    "            print(col,end='\\t')\n",
    "        print()"
   ]
  },
  {
   "cell_type": "code",
   "execution_count": null,
   "id": "db57ddf1",
   "metadata": {},
   "outputs": [
    {
     "name": "stdout",
     "output_type": "stream",
     "text": [
      "Branch\n",
      "CSE\n",
      "MB\n",
      "GEBT\n",
      "FMB\n"
     ]
    }
   ],
   "source": [
    "import csv\n",
    "with open(\"Data.csv\", 'r') as csv_file:\n",
    "    csv_reader=csv.reader(csv_file)\n",
    "    for line in csv_reader:\n",
    "        print(line[2])          # Print index value"
   ]
  }
 ],
 "metadata": {
  "kernelspec": {
   "display_name": "Python 3",
   "language": "python",
   "name": "python3"
  },
  "language_info": {
   "codemirror_mode": {
    "name": "ipython",
    "version": 3
   },
   "file_extension": ".py",
   "mimetype": "text/x-python",
   "name": "python",
   "nbconvert_exporter": "python",
   "pygments_lexer": "ipython3",
   "version": "3.13.1"
  }
 },
 "nbformat": 4,
 "nbformat_minor": 5
}
