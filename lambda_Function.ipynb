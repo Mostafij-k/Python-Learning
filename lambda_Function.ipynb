{
 "cells": [
  {
   "cell_type": "code",
   "execution_count": null,
   "metadata": {},
   "outputs": [
    {
     "name": "stdout",
     "output_type": "stream",
     "text": [
      "6\n",
      "8\n",
      "5\n",
      "Mostafijur Rahman\n",
      "False\n"
     ]
    }
   ],
   "source": [
    "# A lambda function in Python is simply a short, anonymous (nameless) function.\n",
    "# You can create in just one line.\n",
    "# Also called anonymous function\n",
    "# Lambda functions are called \"anonymous functions\" because they are defined without a name.\n",
    "# Syntax:\n",
    "# lambda arguments: expression\n",
    "# Example:\n",
    "add= lambda x,y: x*y            # lambda function take any arguments, have one expression\n",
    "print(add(2,3))\n",
    "\n",
    "# Max Value\n",
    "max_value=lambda x,y: x if x>y else y\n",
    "print(max_value(8,5))\n",
    "\n",
    "# Min value\n",
    "min_value=lambda x,y: x if x<y else y\n",
    "print(min_value(8,5))\n",
    "\n",
    "# Make full name\n",
    "Fullname=lambda first, last: first + \" \" +last\n",
    "print(Fullname('Mostafijur', \"Rahman\")) \n",
    "\n",
    "# Even number findings\n",
    "is_even=lambda x: x%2==0\n",
    "print(is_even(7))"
   ]
  },
  {
   "cell_type": "code",
   "execution_count": null,
   "metadata": {},
   "outputs": [
    {
     "name": "stdout",
     "output_type": "stream",
     "text": [
      "[2, 4, 6, 8, 10, 12]\n",
      "[2, 6, 8, 2, 4, 8, 10, 22, 34]\n",
      "[2, 6, 8, 2, 4, 8, 10, 22, 34]\n"
     ]
    }
   ],
   "source": [
    "# Usage of lambda function\n",
    "\n",
    "# In map function\n",
    "# The map function in Python applies a given function to each item in an iterable\n",
    "# example:\n",
    "numbers=[1,2,3,4,5,6]\n",
    "squred_numbers=list(map(lambda x:x*2,numbers)) # map take two arguments function and iterable\n",
    "print(squred_numbers)\n",
    "\n",
    "# In filter function\n",
    "# The filter function is used to filter elements from an iterable based on a condition provided by a function\n",
    "# It returns only the elements for which the function evaluates to True.\n",
    "# Example:\n",
    "def is_even(n):\n",
    "    return n%2==0\n",
    "num=[2,3,5,6,7,8,9,1,2,3,4,8,10,1,22,34]\n",
    "Even_nums=list(filter(is_even,num))    # Take two arguments function and iterable\n",
    "print(Even_nums)\n",
    "\n",
    "# Use lambda function instead of def function\n",
    "num=[2,3,5,6,7,8,9,1,2,3,4,8,10,1,22,34]\n",
    "even_nums=list(filter(lambda x: x%2==0,num))    # Take two arguments function and iterable\n",
    "print(even_nums)"
   ]
  }
 ],
 "metadata": {
  "kernelspec": {
   "display_name": "Python 3",
   "language": "python",
   "name": "python3"
  },
  "language_info": {
   "codemirror_mode": {
    "name": "ipython",
    "version": 3
   },
   "file_extension": ".py",
   "mimetype": "text/x-python",
   "name": "python",
   "nbconvert_exporter": "python",
   "pygments_lexer": "ipython3",
   "version": "3.13.1"
  }
 },
 "nbformat": 4,
 "nbformat_minor": 2
}
