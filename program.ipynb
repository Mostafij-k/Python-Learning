{
 "cells": [
  {
   "cell_type": "code",
   "execution_count": 10,
   "metadata": {},
   "outputs": [
    {
     "name": "stdout",
     "output_type": "stream",
     "text": [
      "3.13.1 (tags/v3.13.1:0671451, Dec  3 2024, 19:06:28) [MSC v.1942 64 bit (AMD64)]\n",
      "Hello, World!\n"
     ]
    }
   ],
   "source": [
    "# Python: Python is a popular programmimg lanagguage. It was created by Guido Van Russum. It was released in 1991.\n",
    "    # It is widely used in web development, machine learning, software development, Bioinformatics etc. \n",
    "    # Python relies on indentation, with whitespaces.\n",
    "    # Check the installed python version: \n",
    "import sys\n",
    "print(sys.version)\n",
    "# File extension for python is .py for examaple Basic.py\n",
    "# Comments can be used to explain Python code. Comments starts with a #.\n",
    "print(\"Hello, World!\") # Print Hello, World!\n"
   ]
  },
  {
   "cell_type": "code",
   "execution_count": 11,
   "metadata": {},
   "outputs": [
    {
     "name": "stdout",
     "output_type": "stream",
     "text": [
      "5\n",
      "Mostafij\n",
      "Mostafij\n",
      "3 3 3.0\n",
      "<class 'float'>\n",
      "Orange\n",
      "Banana\n",
      "Mango\n",
      "Orange\n",
      "Orange\n",
      "Orange\n",
      "apple\n",
      "banana\n",
      "orange\n"
     ]
    }
   ],
   "source": [
    "# Python Variables:\n",
    "    # Variables are containers for storing data values.\n",
    "    # Example\n",
    "x=5\n",
    "y=\"Mostafij\"\n",
    "print(x)\n",
    "print(y)\n",
    "# Variables do not need to be declared with any particular type\n",
    "x=3 #Integer\n",
    "x=\"Mostafij\" # Now String\n",
    "print(x)\n",
    "# If you want to specify the data type of a variable, this can be done with casting.\n",
    "x=int(3) #Integer\n",
    "y=str(3) #String\n",
    "z=float(3) #Float\n",
    "print(x,y,z)\n",
    "# You can get the data type of a variable with the type() function\n",
    "type(z) # type is float\n",
    "print(type(z))\n",
    "# A variable can have a short name (like x and y) or a more descriptive name (age, carname, total_volume). Rules for Python variables:\n",
    "    # A variable name must start with a letter or the underscore character\n",
    "    # A variable name cannot start with a number\n",
    "    # A variable name can only contain alpha-numeric characters and underscores (A-z, 0-9, and _ )\n",
    "    # Variable names are case-sensitive (age, Age and AGE are three different variables)\n",
    "    # A variable name cannot be any of the Python keywords.\n",
    "# Example \n",
    "myvar = \"John\"\n",
    "my_var = \"John\"\n",
    "_my_var = \"John\"\n",
    "myVar = \"John\"\n",
    "MYVAR = \"John\"\n",
    "myvar2 = \"John\"\n",
    "myVariableName = \"John\" # Camel Case (Except first word start with Capital)\n",
    "MyVariableName = \"John\" # Pascal Case (Each word start with Capital)\n",
    "my_variable_name = \"John\" # Snake Case (Each word seperated with underscore)\n",
    "\n",
    "# Assign values to multiple variables\n",
    "x,y,z=\"Orange\", \"Banana\", \"Mango\"\n",
    "print(x)\n",
    "print(y)\n",
    "print(z)\n",
    "# Assign one valu to multiple variables\n",
    "x=y=z=\"Orange\"\n",
    "print(x)\n",
    "print(y)\n",
    "print(z)\n",
    "# Unpacking: Python allows you to extract the values into variables from list and  tuple. This is called unpacking.\n",
    "fruits=[\"apple\", \"banana\", \"orange\"] # Unpacking from list\n",
    "x,y,z=fruits\n",
    "print(x)\n",
    "print(y)\n",
    "print(z)"
   ]
  },
  {
   "cell_type": "code",
   "execution_count": 12,
   "metadata": {},
   "outputs": [
    {
     "name": "stdout",
     "output_type": "stream",
     "text": [
      "I want to learn python for machine learning and Bioinformatics\n",
      "I want to learn python for Machine Learning and Bioinformatics\n",
      "I want to learn python programming for  Cancer Research\n",
      "I want to learn python programming for  Cancer Research\n",
      "Python is fantastic\n"
     ]
    }
   ],
   "source": [
    "# Output Variable: Python print() function is often used to output variables.\n",
    "X=\"I want to learn python for machine learning and Bioinformatics\"\n",
    "print(X) # Output\n",
    "\n",
    "# Global Variable: Variables that are created outside of a function are known as global variables.\n",
    "    # Global variables can be used by everyone, both inside of functions and outside.\n",
    "# Create a function inside a function and use it in global and inside function\n",
    "x=\"Machine Learning and Bioinformatics\"\n",
    "def myfunction():\n",
    "    print(\"I want to learn python for \"+ x)\n",
    "myfunction()\n",
    "# If you create a variable with the same name inside a function, this variable will be local\n",
    "# The global variable with the same name will remain as it was, global and with the original value.\n",
    "x=\"Cancer Research\"\n",
    "def my_function():\n",
    "    print(\"I want to learn python programming for \", x)\n",
    "my_function()\n",
    "print(\"I want to learn python programming for \", x)\n",
    "\n",
    "x = \"awesome\"\n",
    "\n",
    "def myfunc():\n",
    "  global x\n",
    "  x = \"fantastic\"\n",
    "  print(\"Python is \" + x)\n",
    "\n",
    "myfunc()"
   ]
  },
  {
   "cell_type": "code",
   "execution_count": 3,
   "metadata": {},
   "outputs": [
    {
     "name": "stdout",
     "output_type": "stream",
     "text": [
      "I want to learn python programming for  Bioinformatics\n",
      "I want to learn python programming for  Cancer Research\n"
     ]
    }
   ],
   "source": [
    "x=\"Cancer Research\"\n",
    "def my_function():\n",
    "    x=\"Bioinformatics\"\n",
    "    print(\"I want to learn python programming for \", x)\n",
    "my_function()\n",
    "print(\"I want to learn python programming for \", x)"
   ]
  },
  {
   "cell_type": "code",
   "execution_count": 4,
   "metadata": {},
   "outputs": [
    {
     "name": "stdout",
     "output_type": "stream",
     "text": [
      "Python is fantastic\n",
      "Python is awesome\n"
     ]
    }
   ],
   "source": [
    "x = \"awesome\"\n",
    "\n",
    "def myfunc():\n",
    "  x = \"fantastic\"\n",
    "  print(\"Python is \" + x)\n",
    "\n",
    "myfunc()\n",
    "\n",
    "print(\"Python is \" + x)"
   ]
  },
  {
   "cell_type": "code",
   "execution_count": 6,
   "metadata": {},
   "outputs": [
    {
     "name": "stdout",
     "output_type": "stream",
     "text": [
      "Python is fantastic\n",
      "Python is awesome\n"
     ]
    }
   ],
   "source": [
    "x = \"awesome\"\n",
    "\n",
    "def myfunc():\n",
    "    x = \"fantastic\"\n",
    "    print(\"Python is \" + x)\n",
    "\n",
    "myfunc()\n",
    "print(\"Python is \" + x)"
   ]
  },
  {
   "cell_type": "code",
   "execution_count": 7,
   "metadata": {},
   "outputs": [
    {
     "name": "stdout",
     "output_type": "stream",
     "text": [
      "Python is fantastic\n"
     ]
    }
   ],
   "source": [
    "x = \"awesome\"\n",
    "\n",
    "def myfunc():\n",
    "  x = \"fantastic\"\n",
    "  print(\"Python is \" + x)\n",
    "\n",
    "myfunc()"
   ]
  },
  {
   "cell_type": "code",
   "execution_count": 8,
   "metadata": {},
   "outputs": [
    {
     "name": "stdout",
     "output_type": "stream",
     "text": [
      "Python is fantastic\n"
     ]
    }
   ],
   "source": [
    "x = \"awesome\"\n",
    "\n",
    "def myfunc():\n",
    "  global x\n",
    "  x = \"fantastic\"\n",
    "  print(\"Python is \" + x)\n",
    "\n",
    "myfunc()"
   ]
  },
  {
   "cell_type": "code",
   "execution_count": null,
   "metadata": {},
   "outputs": [],
   "source": []
  }
 ],
 "metadata": {
  "kernelspec": {
   "display_name": "Python 3",
   "language": "python",
   "name": "python3"
  },
  "language_info": {
   "codemirror_mode": {
    "name": "ipython",
    "version": 3
   },
   "file_extension": ".py",
   "mimetype": "text/x-python",
   "name": "python",
   "nbconvert_exporter": "python",
   "pygments_lexer": "ipython3",
   "version": "3.13.1"
  }
 },
 "nbformat": 4,
 "nbformat_minor": 2
}
