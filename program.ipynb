{
 "cells": [
  {
   "cell_type": "code",
   "execution_count": 1,
   "metadata": {},
   "outputs": [
    {
     "name": "stdout",
     "output_type": "stream",
     "text": [
      "3.13.1 (tags/v3.13.1:0671451, Dec  3 2024, 19:06:28) [MSC v.1942 64 bit (AMD64)]\n",
      "Hello, World!\n"
     ]
    }
   ],
   "source": [
    "# Python: Python is a popular programmimg lanagguage. It was created by Guido Van Russum. It was released in 1991.\n",
    "    # It is widely used in web development, machine learning, software development, Bioinformatics etc. \n",
    "    # Python relies on indentation, with whitespaces.\n",
    "    # Check the installed python version: \n",
    "import sys\n",
    "print(sys.version)\n",
    "# File extension for python is .py for examaple Basic.py\n",
    "# Comments can be used to explain Python code. Comments starts with a #.\n",
    "print(\"Hello, World!\") # Print Hello, World!\n"
   ]
  },
  {
   "cell_type": "code",
   "execution_count": 2,
   "metadata": {},
   "outputs": [
    {
     "name": "stdout",
     "output_type": "stream",
     "text": [
      "5\n",
      "Mostafij\n",
      "Mostafij\n",
      "3 3 3.0\n",
      "<class 'float'>\n",
      "Orange\n",
      "Banana\n",
      "Mango\n",
      "Orange\n",
      "Orange\n",
      "Orange\n",
      "apple\n",
      "banana\n",
      "orange\n"
     ]
    }
   ],
   "source": [
    "# Python Variables:\n",
    "    # Variables are containers for storing data values.\n",
    "    # Example\n",
    "x=5\n",
    "y=\"Mostafij\"\n",
    "print(x)\n",
    "print(y)\n",
    "# Variables do not need to be declared with any particular type\n",
    "x=3 #Integer\n",
    "x=\"Mostafij\" # Now String\n",
    "print(x)\n",
    "# If you want to specify the data type of a variable, this can be done with casting.\n",
    "x=int(3) #Integer\n",
    "y=str(3) #String\n",
    "z=float(3) #Float\n",
    "print(x,y,z)\n",
    "# You can get the data type of a variable with the type() function\n",
    "type(z) # type is float\n",
    "print(type(z))\n",
    "# A variable can have a short name (like x and y) or a more descriptive name (age, carname, total_volume). Rules for Python variables:\n",
    "    # A variable name must start with a letter or the underscore character\n",
    "    # A variable name cannot start with a number\n",
    "    # A variable name can only contain alpha-numeric characters and underscores (A-z, 0-9, and _ )\n",
    "    # Variable names are case-sensitive (age, Age and AGE are three different variables)\n",
    "    # A variable name cannot be any of the Python keywords.\n",
    "# Example \n",
    "myvar = \"John\"\n",
    "my_var = \"John\"\n",
    "_my_var = \"John\"\n",
    "myVar = \"John\"\n",
    "MYVAR = \"John\"\n",
    "myvar2 = \"John\"\n",
    "myVariableName = \"John\" # Camel Case (Except first word start with Capital)\n",
    "MyVariableName = \"John\" # Pascal Case (Each word start with Capital)\n",
    "my_variable_name = \"John\" # Snake Case (Each word seperated with underscore)\n",
    "\n",
    "# Assign values to multiple variables\n",
    "x,y,z=\"Orange\", \"Banana\", \"Mango\"\n",
    "print(x)\n",
    "print(y)\n",
    "print(z)\n",
    "# Assign one valu to multiple variables\n",
    "x=y=z=\"Orange\"\n",
    "print(x)\n",
    "print(y)\n",
    "print(z)\n",
    "# Unpacking: Python allows you to extract the values into variables from list and  tuple. This is called unpacking.\n",
    "fruits=[\"apple\", \"banana\", \"orange\"] # Unpacking from list\n",
    "x,y,z=fruits\n",
    "print(x)\n",
    "print(y)\n",
    "print(z)"
   ]
  },
  {
   "cell_type": "code",
   "execution_count": 3,
   "metadata": {},
   "outputs": [
    {
     "name": "stdout",
     "output_type": "stream",
     "text": [
      "I want to learn python for machine learning and Bioinformatics\n",
      "I want to learn python for Machine Learning and Bioinformatics\n",
      "I want to learn python programming for  Cancer Research\n",
      "I want to learn python programming for  Cancer Research\n",
      "Python is fantastic\n"
     ]
    }
   ],
   "source": [
    "# Output Variable: Python print() function is often used to output variables.\n",
    "X=\"I want to learn python for machine learning and Bioinformatics\"\n",
    "print(X) # Output\n",
    "\n",
    "# Global Variable: Variables that are created outside of a function are known as global variables.\n",
    "    # Global variables can be used by everyone, both inside of functions and outside.\n",
    "# Create a function inside a function and use it in global and inside function\n",
    "x=\"Machine Learning and Bioinformatics\"\n",
    "def myfunction():\n",
    "    print(\"I want to learn python for \"+ x)\n",
    "myfunction()\n",
    "# If you create a variable with the same name inside a function, this variable will be local\n",
    "# The global variable with the same name will remain as it was, global and with the original value.\n",
    "x=\"Cancer Research\"\n",
    "def my_function():\n",
    "    print(\"I want to learn python programming for \", x)\n",
    "my_function()\n",
    "print(\"I want to learn python programming for \", x)\n",
    "\n",
    "x = \"awesome\"\n",
    "\n",
    "def myfunc():\n",
    "  global x\n",
    "  x = \"fantastic\"\n",
    "  print(\"Python is \" + x)\n",
    "\n",
    "myfunc()"
   ]
  },
  {
   "cell_type": "code",
   "execution_count": 4,
   "metadata": {},
   "outputs": [
    {
     "name": "stdout",
     "output_type": "stream",
     "text": [
      "I want to learn python programming for  Bioinformatics\n",
      "I want to learn python programming for  Cancer Research\n"
     ]
    }
   ],
   "source": [
    "x=\"Cancer Research\"\n",
    "def my_function():\n",
    "    x=\"Bioinformatics\"\n",
    "    print(\"I want to learn python programming for \", x)\n",
    "my_function()\n",
    "print(\"I want to learn python programming for \", x)"
   ]
  },
  {
   "cell_type": "code",
   "execution_count": 5,
   "metadata": {},
   "outputs": [
    {
     "name": "stdout",
     "output_type": "stream",
     "text": [
      "Python is fantastic\n",
      "Python is awesome\n"
     ]
    }
   ],
   "source": [
    "x = \"awesome\"\n",
    "\n",
    "def myfunc():\n",
    "  x = \"fantastic\"\n",
    "  print(\"Python is \" + x)\n",
    "\n",
    "myfunc()\n",
    "\n",
    "print(\"Python is \" + x)"
   ]
  },
  {
   "cell_type": "code",
   "execution_count": 6,
   "metadata": {},
   "outputs": [
    {
     "name": "stdout",
     "output_type": "stream",
     "text": [
      "Python is fantastic\n",
      "Python is awesome\n"
     ]
    }
   ],
   "source": [
    "x = \"awesome\"\n",
    "\n",
    "def myfunc():\n",
    "    x = \"fantastic\"\n",
    "    print(\"Python is \" + x)\n",
    "\n",
    "myfunc()\n",
    "print(\"Python is \" + x)"
   ]
  },
  {
   "cell_type": "code",
   "execution_count": 7,
   "metadata": {},
   "outputs": [
    {
     "name": "stdout",
     "output_type": "stream",
     "text": [
      "Python is fantastic\n"
     ]
    }
   ],
   "source": [
    "x = \"awesome\"\n",
    "\n",
    "def myfunc():\n",
    "  x = \"fantastic\"\n",
    "  print(\"Python is \" + x)\n",
    "\n",
    "myfunc()"
   ]
  },
  {
   "cell_type": "code",
   "execution_count": 8,
   "metadata": {},
   "outputs": [
    {
     "name": "stdout",
     "output_type": "stream",
     "text": [
      "Python is fantastic\n"
     ]
    }
   ],
   "source": [
    "x = \"awesome\"\n",
    "\n",
    "def myfunc():\n",
    "  global x\n",
    "  x = \"fantastic\"\n",
    "  print(\"Python is \" + x)\n",
    "\n",
    "myfunc()"
   ]
  },
  {
   "cell_type": "code",
   "execution_count": 9,
   "metadata": {},
   "outputs": [
    {
     "ename": "ValueError",
     "evalue": "invalid literal for int() with base 10: ''",
     "output_type": "error",
     "traceback": [
      "\u001b[1;31m---------------------------------------------------------------------------\u001b[0m",
      "\u001b[1;31mValueError\u001b[0m                                Traceback (most recent call last)",
      "Cell \u001b[1;32mIn[9], line 3\u001b[0m\n\u001b[0;32m      1\u001b[0m \u001b[38;5;66;03m# Programming has three phase\u001b[39;00m\n\u001b[0;32m      2\u001b[0m     \u001b[38;5;66;03m# Input phase\u001b[39;00m\n\u001b[1;32m----> 3\u001b[0m num1\u001b[38;5;241m=\u001b[39m\u001b[38;5;28;43mint\u001b[39;49m\u001b[43m(\u001b[49m\u001b[38;5;28;43minput\u001b[39;49m\u001b[43m(\u001b[49m\u001b[38;5;124;43m\"\u001b[39;49m\u001b[38;5;124;43mEnter 1st number: \u001b[39;49m\u001b[38;5;124;43m\"\u001b[39;49m\u001b[43m)\u001b[49m\u001b[43m)\u001b[49m \u001b[38;5;66;03m# int() function convert input string to integer\u001b[39;00m\n\u001b[0;32m      4\u001b[0m num2\u001b[38;5;241m=\u001b[39m\u001b[38;5;28mint\u001b[39m(\u001b[38;5;28minput\u001b[39m(\u001b[38;5;124m\"\u001b[39m\u001b[38;5;124mEnter 2nd number: \u001b[39m\u001b[38;5;124m\"\u001b[39m))\n\u001b[0;32m      5\u001b[0m     \u001b[38;5;66;03m# Processing phase\u001b[39;00m\n",
      "\u001b[1;31mValueError\u001b[0m: invalid literal for int() with base 10: ''"
     ]
    }
   ],
   "source": [
    "# Programming has three phase\n",
    "    # Input phase\n",
    "num1=int(input(\"Enter 1st number: \")) # int() function convert input string to integer\n",
    "num2=int(input(\"Enter 2nd number: \"))\n",
    "    # Processing phase\n",
    "result=num1+num2\n",
    "    # Output phase\n",
    "print(result)"
   ]
  },
  {
   "cell_type": "code",
   "execution_count": 7,
   "metadata": {},
   "outputs": [
    {
     "name": "stdout",
     "output_type": "stream",
     "text": [
      "range(0, 7)\n"
     ]
    },
    {
     "data": {
      "text/plain": [
       "range"
      ]
     },
     "execution_count": 7,
     "metadata": {},
     "output_type": "execute_result"
    }
   ],
   "source": [
    "# Data type\n",
    "num = 2 # Integer\n",
    "name = \"John\" #string\n",
    "age = 56.00 #float\n",
    "isMarried= True # bloon\n",
    "X=1j #Complex\n",
    "L= ['Apple', 'Banana','Mango'] #List\n",
    "T=(\"Apple\", \"Banana\", \"Mango\") #Tuple\n",
    "D={\"Name\": \"Mostafij\", \"Age\": 29}# Dict\n",
    "R=range(7)\n",
    "print(R)\n",
    "\n",
    "\n",
    "type(num)\n",
    "type(name)\n",
    "type(age)\n",
    "type(isMarried)\n",
    "type(L)\n",
    "type(T)\n",
    "type(D)\n",
    "type(R)"
   ]
  },
  {
   "cell_type": "code",
   "execution_count": 8,
   "metadata": {},
   "outputs": [
    {
     "name": "stdout",
     "output_type": "stream",
     "text": [
      "35\n"
     ]
    },
    {
     "data": {
      "text/plain": [
       "'34.0'"
      ]
     },
     "execution_count": 8,
     "metadata": {},
     "output_type": "execute_result"
    }
   ],
   "source": [
    "# Data type conversation\n",
    "num=34\n",
    "num2=float(num)\n",
    "num2\n",
    "num3=complex(num2)\n",
    "num3\n",
    "num4=35.00\n",
    "num5=int(num4)\n",
    "print(num5)\n",
    "num6=str(num2)\n",
    "num6"
   ]
  },
  {
   "cell_type": "code",
   "execution_count": 13,
   "metadata": {},
   "outputs": [
    {
     "data": {
      "text/plain": [
       "int"
      ]
     },
     "execution_count": 13,
     "metadata": {},
     "output_type": "execute_result"
    }
   ],
   "source": [
    "# Python number\n",
    "    # 1. int 2. float 3. complex\n",
    "x,y,z=2,3.6,3j #int,float,complex\n",
    "# To verify the type of any object in Python, use the type() function:\n",
    "type(z)\n",
    "# Integer: is a whole number, positive or negative, without decimals, of unlimited length.\n",
    "a=3\n",
    "b=-9\n",
    "c=990000199991000\n",
    "type(a)\n",
    "type(b)\n",
    "type(c)"
   ]
  },
  {
   "cell_type": "code",
   "execution_count": 15,
   "metadata": {},
   "outputs": [
    {
     "data": {
      "text/plain": [
       "float"
      ]
     },
     "execution_count": 15,
     "metadata": {},
     "output_type": "execute_result"
    }
   ],
   "source": [
    "# Float:Floating point number is a number, positive or negative, containing one or more decimals.\n",
    "#Example\n",
    "a=1.45\n",
    "b=1.0\n",
    "c=-5.69\n",
    "type(a)\n",
    "type(b)\n",
    "type(c)\n",
    "# Note: Float can also be scientific numbers with an \"e\" to indicate the power of 10.\n",
    "d= 45e3\n",
    "type(d)"
   ]
  },
  {
   "cell_type": "code",
   "execution_count": 17,
   "metadata": {},
   "outputs": [
    {
     "data": {
      "text/plain": [
       "complex"
      ]
     },
     "execution_count": 17,
     "metadata": {},
     "output_type": "execute_result"
    }
   ],
   "source": [
    "# Complex: Complex numbers are written with a \"j\" as the imaginary part\n",
    "a=30j\n",
    "b=-34j\n",
    "c=34.999j\n",
    "type(a)\n",
    "type(b)\n",
    "type(c)"
   ]
  },
  {
   "cell_type": "code",
   "execution_count": 19,
   "metadata": {},
   "outputs": [
    {
     "name": "stdout",
     "output_type": "stream",
     "text": [
      "4\n",
      "2.0\n",
      "(2+0j)\n"
     ]
    }
   ],
   "source": [
    "# Data type cnversion\n",
    "x=2\n",
    "y=4.0\n",
    "z=3.4j\n",
    "a=int(y)\n",
    "b=float(x)\n",
    "c=complex(x)\n",
    "print(a)\n",
    "print(b)\n",
    "print(c)\n",
    "# Note: You can not convert complex number to another number type\n"
   ]
  },
  {
   "cell_type": "code",
   "execution_count": 22,
   "metadata": {},
   "outputs": [
    {
     "name": "stdout",
     "output_type": "stream",
     "text": [
      "9\n"
     ]
    }
   ],
   "source": [
    "# Random number: to create random number python contain random module\n",
    "import random\n",
    "print(random.randrange(1,10))"
   ]
  },
  {
   "cell_type": "code",
   "execution_count": 10,
   "metadata": {},
   "outputs": [
    {
     "data": {
      "text/plain": [
       "(4, 6)"
      ]
     },
     "execution_count": 10,
     "metadata": {},
     "output_type": "execute_result"
    }
   ],
   "source": [
    "# Creating storage\n",
    "num_2=3\n",
    "_num4=5\n",
    "num1,num7=4,6\n",
    "num1, num7"
   ]
  },
  {
   "cell_type": "code",
   "execution_count": 18,
   "metadata": {},
   "outputs": [
    {
     "name": "stdout",
     "output_type": "stream",
     "text": [
      "John Your age is 56.0. Your weight is 67.8\n",
      "John Your age is 56. Your weight is  67.80\n",
      "John your age is 56.0. your weight is 67.8\n"
     ]
    }
   ],
   "source": [
    "# String formating\n",
    "name=\"John\"\n",
    "age=56.0\n",
    "weight=67.8\n",
    "print(\"{0} Your age is {1}. Your weight is {2}\".format(name, age, weight))\n",
    "print(\"%s Your age is %d. Your weight is % .2f\" %(name,age,weight))\n",
    "print(f\"{name} your age is {age}. your weight is {weight}\") #Best"
   ]
  },
  {
   "cell_type": "code",
   "execution_count": 19,
   "metadata": {},
   "outputs": [],
   "source": [
    "# Taking input from user\n",
    "name=input(\"Enter your name: \")"
   ]
  },
  {
   "cell_type": "code",
   "execution_count": 20,
   "metadata": {},
   "outputs": [
    {
     "name": "stdout",
     "output_type": "stream",
     "text": [
      "Your name is: Mostafij\n"
     ]
    }
   ],
   "source": [
    "# Providing output for user\n",
    "print(f\"Your name is: {name}\")"
   ]
  },
  {
   "cell_type": "code",
   "execution_count": 28,
   "metadata": {},
   "outputs": [
    {
     "data": {
      "text/plain": [
       "8"
      ]
     },
     "execution_count": 28,
     "metadata": {},
     "output_type": "execute_result"
    }
   ],
   "source": [
    "# Operator\n",
    "2+3 # Addition\n",
    "2-3 # Subtraction\n",
    "2*3 # Multiplication\n",
    "3/2 # Division (Floating point division)\n",
    "3//2 # Integer point divsion\n",
    "3%2 # Reminder\n",
    "2**3 # Power\n"
   ]
  },
  {
   "cell_type": "code",
   "execution_count": 27,
   "metadata": {},
   "outputs": [
    {
     "data": {
      "text/plain": [
       "True"
      ]
     },
     "execution_count": 27,
     "metadata": {},
     "output_type": "execute_result"
    }
   ],
   "source": [
    "# Comparision operator\n",
    "5>3 #Greater than\n",
    "3<6 # Less than\n",
    "3==3 # Equal\n",
    "3!=4 # Not equal\n",
    "3>=4 # Greater than or equal\n",
    "3<=3 # Less than or equal"
   ]
  },
  {
   "cell_type": "code",
   "execution_count": 33,
   "metadata": {},
   "outputs": [
    {
     "data": {
      "text/plain": [
       "True"
      ]
     },
     "execution_count": 33,
     "metadata": {},
     "output_type": "execute_result"
    }
   ],
   "source": [
    "# Logical operator\n",
    "  # And\n",
    "True and True\n",
    "False and True\n",
    "True and False\n",
    "False and False\n",
    "    # or\n",
    "True or True\n",
    "False or True\n",
    "True or False\n",
    "False or False\n",
    "    # not\n",
    "not False\n",
    "not True\n",
    "#Example\n",
    "age=18\n",
    "salary=40000\n",
    "(age>=18) and (salary>=35000)"
   ]
  },
  {
   "cell_type": "code",
   "execution_count": 37,
   "metadata": {},
   "outputs": [
    {
     "name": "stderr",
     "output_type": "stream",
     "text": [
      "<>:4: SyntaxWarning: \"is\" with 'int' literal. Did you mean \"==\"?\n",
      "<>:5: SyntaxWarning: \"is\" with 'float' literal. Did you mean \"==\"?\n",
      "<>:4: SyntaxWarning: \"is\" with 'int' literal. Did you mean \"==\"?\n",
      "<>:5: SyntaxWarning: \"is\" with 'float' literal. Did you mean \"==\"?\n",
      "C:\\Users\\Kamely\\AppData\\Local\\Temp\\ipykernel_8176\\942924556.py:4: SyntaxWarning: \"is\" with 'int' literal. Did you mean \"==\"?\n",
      "  2 is 2.0\n",
      "C:\\Users\\Kamely\\AppData\\Local\\Temp\\ipykernel_8176\\942924556.py:5: SyntaxWarning: \"is\" with 'float' literal. Did you mean \"==\"?\n",
      "  3.0 is 3.0\n"
     ]
    },
    {
     "data": {
      "text/plain": [
       "True"
      ]
     },
     "execution_count": 37,
     "metadata": {},
     "output_type": "execute_result"
    }
   ],
   "source": [
    "# in and is operator\n",
    "\"h\" in 'Happy'\n",
    "\"o\" in \"orange\"\n",
    "2 is 2.0\n",
    "3.0 is 3.0"
   ]
  },
  {
   "cell_type": "code",
   "execution_count": 38,
   "metadata": {},
   "outputs": [
    {
     "name": "stdout",
     "output_type": "stream",
     "text": [
      "24\n"
     ]
    }
   ],
   "source": [
    "# Assignment operator\n",
    "x=3\n",
    "x=x+3\n",
    "x+=2\n",
    "x-=2\n",
    "x*=4\n",
    "print(x)"
   ]
  },
  {
   "cell_type": "code",
   "execution_count": null,
   "metadata": {},
   "outputs": [],
   "source": [
    "# Advanced data types in python\n",
    "    # Python contian four in build advanced data types: \n",
    "    # 1. list 2. tuple 3. dictonary  4. set\n",
    "myList=[1,3,5,True,'rahim', 3.4,3j] # example of list\n"
   ]
  },
  {
   "cell_type": "code",
   "execution_count": 10,
   "metadata": {},
   "outputs": [
    {
     "name": "stdout",
     "output_type": "stream",
     "text": [
      "[3, 5, 6, 9, 0, 22, 33]\n",
      "<class 'list'>\n",
      "11\n"
     ]
    }
   ],
   "source": [
    "            # -----------------------List------------------#\n",
    "# List: Lists are one of 4 built-in data types in Python used to store collections of data\n",
    "                #-----------Charecter of List-----------#\n",
    "    # Lists are created using square brackets\n",
    "    # List items are ordered, changeable, and allow duplicate values\n",
    "    # List items are indexed, the first item has index [0], the second item has index [1] etc\n",
    "\n",
    "# List items: List items can be any data types\n",
    "list1=[1,2,3,4,5,6,7] # Integer\n",
    "list2=['CSE', 'Microbiology', 'Bioinformatics'] #String\n",
    "list3=[True, False, True] # Boolean\n",
    "list4=[3.2,4.0,40.33] # Floating \n",
    "\n",
    "# List allow different data types\n",
    "myList=[1,2,4,67,11,34,55,78,'Micro', True, 34.0] \n",
    "\n",
    "# List allow duplicate values\n",
    "myList1=[1,4,4,1,2,3,2] \n",
    "\n",
    "# Use list() constructer to create new lis\n",
    "newList=list((3,5,6,9,0,22,33)) # Use double round brackets\n",
    "print(newList)\n",
    "print(type(newList)) #To know data types\n",
    "\n",
    "# List length: len() use to determine list length\n",
    "print(len(myList))"
   ]
  },
  {
   "cell_type": "code",
   "execution_count": 41,
   "metadata": {},
   "outputs": [
    {
     "data": {
      "text/plain": [
       "[5, 30, 45, 67, 22, 77, 8, 4, 98, 100, 'CSE', True, 34]"
      ]
     },
     "execution_count": 41,
     "metadata": {},
     "output_type": "execute_result"
    }
   ],
   "source": [
    "# List access: List can be access by indexing\n",
    "myList=[5,57,1,4,0,77,8,4,98,100,'CSE', True, 34]\n",
    "# Access\n",
    "myList[4] # 4 index contain item 4\n",
    "myList[2:4] # Here access 2 to 3 index value\n",
    "myList[-1] # Indexing from end\n",
    "len(myList)\n",
    "myList[-13]\n",
    "myList[:] #First to last\n",
    "myList[5:] # From five to last\n",
    "myList[2:12:2] # Indexing increment by 2\n",
    "myList[-1:-13:-1] # Indexing increment by -1\n",
    "myList[::-1]\n",
    "\n",
    "# List Update by using index\n",
    "myList[2]=54\n",
    "myList # index[2] updated by 54\n",
    "myList[2:5]=45,67,22 # Updated multiple values\n",
    "myList\n",
    "\n",
    "# List Function\n",
    "myList.append(23) # Add new value at the end\n",
    "myList\n",
    "myList.insert(2,30) # Insert new item at 2 index\n",
    "myList\n",
    "myList.pop() # it delete data from last\n",
    "myList\n",
    "myList.pop(1)\n",
    "myList"
   ]
  },
  {
   "cell_type": "code",
   "execution_count": null,
   "metadata": {},
   "outputs": [],
   "source": []
  },
  {
   "cell_type": "code",
   "execution_count": null,
   "metadata": {},
   "outputs": [],
   "source": []
  }
 ],
 "metadata": {
  "kernelspec": {
   "display_name": "Python 3",
   "language": "python",
   "name": "python3"
  },
  "language_info": {
   "codemirror_mode": {
    "name": "ipython",
    "version": 3
   },
   "file_extension": ".py",
   "mimetype": "text/x-python",
   "name": "python",
   "nbconvert_exporter": "python",
   "pygments_lexer": "ipython3",
   "version": "3.13.1"
  }
 },
 "nbformat": 4,
 "nbformat_minor": 2
}
