{
 "cells": [
  {
   "cell_type": "code",
   "execution_count": 2,
   "id": "60238956",
   "metadata": {},
   "outputs": [
    {
     "name": "stdout",
     "output_type": "stream",
     "text": [
      "Requirement already satisfied: requests in c:\\python3.13.1\\lib\\site-packages (2.32.3)\n",
      "Requirement already satisfied: charset-normalizer<4,>=2 in c:\\python3.13.1\\lib\\site-packages (from requests) (3.4.2)\n",
      "Requirement already satisfied: idna<4,>=2.5 in c:\\python3.13.1\\lib\\site-packages (from requests) (3.10)\n",
      "Requirement already satisfied: urllib3<3,>=1.21.1 in c:\\python3.13.1\\lib\\site-packages (from requests) (2.4.0)\n",
      "Requirement already satisfied: certifi>=2017.4.17 in c:\\python3.13.1\\lib\\site-packages (from requests) (2025.4.26)\n"
     ]
    },
    {
     "name": "stderr",
     "output_type": "stream",
     "text": [
      "\n",
      "[notice] A new release of pip is available: 25.0.1 -> 25.1.1\n",
      "[notice] To update, run: python.exe -m pip install --upgrade pip\n"
     ]
    },
    {
     "data": {
      "text/plain": [
       "'2.32.3'"
      ]
     },
     "execution_count": 2,
     "metadata": {},
     "output_type": "execute_result"
    }
   ],
   "source": [
    "# The requests package in Python is a powerful and user-friendly HTTP library.\n",
    "# It allows you to send HTTP requests easily.\n",
    "# Supports HTTP methods like GET, POST, PUT, DELETE, etc.\n",
    "# Install requests packages\n",
    "! pip install requests\n",
    "import requests\n",
    "requests.__version__"
   ]
  },
  {
   "cell_type": "code",
   "execution_count": 2,
   "id": "18a302b3",
   "metadata": {},
   "outputs": [
    {
     "name": "stdout",
     "output_type": "stream",
     "text": [
      "200\n",
      "{'current_user_url': 'https://api.github.com/user', 'current_user_authorizations_html_url': 'https://github.com/settings/connections/applications{/client_id}', 'authorizations_url': 'https://api.github.com/authorizations', 'code_search_url': 'https://api.github.com/search/code?q={query}{&page,per_page,sort,order}', 'commit_search_url': 'https://api.github.com/search/commits?q={query}{&page,per_page,sort,order}', 'emails_url': 'https://api.github.com/user/emails', 'emojis_url': 'https://api.github.com/emojis', 'events_url': 'https://api.github.com/events', 'feeds_url': 'https://api.github.com/feeds', 'followers_url': 'https://api.github.com/user/followers', 'following_url': 'https://api.github.com/user/following{/target}', 'gists_url': 'https://api.github.com/gists{/gist_id}', 'hub_url': 'https://api.github.com/hub', 'issue_search_url': 'https://api.github.com/search/issues?q={query}{&page,per_page,sort,order}', 'issues_url': 'https://api.github.com/issues', 'keys_url': 'https://api.github.com/user/keys', 'label_search_url': 'https://api.github.com/search/labels?q={query}&repository_id={repository_id}{&page,per_page}', 'notifications_url': 'https://api.github.com/notifications', 'organization_url': 'https://api.github.com/orgs/{org}', 'organization_repositories_url': 'https://api.github.com/orgs/{org}/repos{?type,page,per_page,sort}', 'organization_teams_url': 'https://api.github.com/orgs/{org}/teams', 'public_gists_url': 'https://api.github.com/gists/public', 'rate_limit_url': 'https://api.github.com/rate_limit', 'repository_url': 'https://api.github.com/repos/{owner}/{repo}', 'repository_search_url': 'https://api.github.com/search/repositories?q={query}{&page,per_page,sort,order}', 'current_user_repositories_url': 'https://api.github.com/user/repos{?type,page,per_page,sort}', 'starred_url': 'https://api.github.com/user/starred{/owner}{/repo}', 'starred_gists_url': 'https://api.github.com/gists/starred', 'topic_search_url': 'https://api.github.com/search/topics?q={query}{&page,per_page}', 'user_url': 'https://api.github.com/users/{user}', 'user_organizations_url': 'https://api.github.com/user/orgs', 'user_repositories_url': 'https://api.github.com/users/{user}/repos{?type,page,per_page,sort}', 'user_search_url': 'https://api.github.com/search/users?q={query}{&page,per_page,sort,order}'}\n"
     ]
    }
   ],
   "source": [
    "# The requests module helps Python talk to websites and web services. \n",
    "# It sends HTTP requests (like GET, POST, etc.), waits for a response, and then returns the data.\n",
    "# Imagine you want to get information from a website or an API (like weather data). \n",
    "# You can use a GET request:\n",
    "import requests\n",
    "\n",
    "response = requests.get(\"https://api.github.com\")  # Get data from GitHub API\n",
    "print(response.status_code)  # Check if request was successful (200 means OK)\n",
    "print(response.json())  # Print data in JSON format\n",
    "\n"
   ]
  },
  {
   "cell_type": "code",
   "execution_count": null,
   "id": "1d1b760e",
   "metadata": {},
   "outputs": [
    {
     "data": {
      "text/plain": [
       "{'date': 'Wed, 14 May 2025 07:19:00 GMT', 'server': 'mw-web.codfw.main-c9784494b-9mckg', 'x-content-type-options': 'nosniff', 'content-language': 'en', 'accept-ch': '', 'vary': 'Accept-Encoding,Cookie,Authorization', 'last-modified': 'Tue, 13 May 2025 12:53:07 GMT', 'content-type': 'text/html; charset=UTF-8', 'content-encoding': 'gzip', 'age': '25224', 'accept-ranges': 'bytes', 'x-cache': 'cp5020 miss, cp5020 hit/10', 'x-cache-status': 'hit-front', 'server-timing': 'cache;desc=\"hit-front\", host;desc=\"cp5020\"', 'strict-transport-security': 'max-age=106384710; includeSubDomains; preload', 'report-to': '{ \"group\": \"wm_nel\", \"max_age\": 604800, \"endpoints\": [{ \"url\": \"https://intake-logging.wikimedia.org/v1/events?stream=w3c.reportingapi.network_error&schema_uri=/w3c/reportingapi/network_error/1.0.0\" }] }', 'nel': '{ \"report_to\": \"wm_nel\", \"max_age\": 604800, \"failure_fraction\": 0.05, \"success_fraction\": 0.0}', 'set-cookie': 'WMF-Last-Access=14-May-2025;Path=/;HttpOnly;secure;Expires=Sun, 15 Jun 2025 12:00:00 GMT, WMF-Last-Access-Global=14-May-2025;Path=/;Domain=.wikipedia.org;HttpOnly;secure;Expires=Sun, 15 Jun 2025 12:00:00 GMT, WMF-DP=d26;Path=/;HttpOnly;secure;Expires=Thu, 15 May 2025 00:00:00 GMT, GeoIP=BD:C:Dhaka:23.73:90.41:v4; Path=/; secure; Domain=.wikipedia.org, NetworkProbeLimit=0.001;Path=/;Secure;SameSite=None;Max-Age=3600', 'x-client-ip': '103.126.149.119', 'cache-control': 'private, s-maxage=0, max-age=0, must-revalidate, no-transform', 'content-length': '34402'}"
      ]
     },
     "execution_count": 11,
     "metadata": {},
     "output_type": "execute_result"
    }
   ],
   "source": [
    "# Some Function \n",
    "url=r\"https://en.wikipedia.org/wiki/Kushtia_District\"\n",
    "response=requests.get(url=url)\n",
    "response\n",
    "response.text\n",
    "response.encoding\n",
    "response.cookies\n",
    "response.headers"
   ]
  },
  {
   "cell_type": "code",
   "execution_count": 13,
   "id": "4069b270",
   "metadata": {},
   "outputs": [
    {
     "data": {
      "text/plain": [
       "{'page': 2,\n",
       " 'per_page': 6,\n",
       " 'total': 12,\n",
       " 'total_pages': 2,\n",
       " 'data': [{'id': 7,\n",
       "   'email': 'michael.lawson@reqres.in',\n",
       "   'first_name': 'Michael',\n",
       "   'last_name': 'Lawson',\n",
       "   'avatar': 'https://reqres.in/img/faces/7-image.jpg'},\n",
       "  {'id': 8,\n",
       "   'email': 'lindsay.ferguson@reqres.in',\n",
       "   'first_name': 'Lindsay',\n",
       "   'last_name': 'Ferguson',\n",
       "   'avatar': 'https://reqres.in/img/faces/8-image.jpg'},\n",
       "  {'id': 9,\n",
       "   'email': 'tobias.funke@reqres.in',\n",
       "   'first_name': 'Tobias',\n",
       "   'last_name': 'Funke',\n",
       "   'avatar': 'https://reqres.in/img/faces/9-image.jpg'},\n",
       "  {'id': 10,\n",
       "   'email': 'byron.fields@reqres.in',\n",
       "   'first_name': 'Byron',\n",
       "   'last_name': 'Fields',\n",
       "   'avatar': 'https://reqres.in/img/faces/10-image.jpg'},\n",
       "  {'id': 11,\n",
       "   'email': 'george.edwards@reqres.in',\n",
       "   'first_name': 'George',\n",
       "   'last_name': 'Edwards',\n",
       "   'avatar': 'https://reqres.in/img/faces/11-image.jpg'},\n",
       "  {'id': 12,\n",
       "   'email': 'rachel.howell@reqres.in',\n",
       "   'first_name': 'Rachel',\n",
       "   'last_name': 'Howell',\n",
       "   'avatar': 'https://reqres.in/img/faces/12-image.jpg'}],\n",
       " 'support': {'url': 'https://contentcaddy.io?utm_source=reqres&utm_medium=json&utm_campaign=referral',\n",
       "  'text': 'Tired of writing endless social media content? Let Content Caddy generate it for you.'}}"
      ]
     },
     "execution_count": 13,
     "metadata": {},
     "output_type": "execute_result"
    }
   ],
   "source": [
    "resp=requests.get('https://reqres.in/api/users?page=2')\n",
    "resp.status_code, resp.ok\n",
    "Data=resp.json()\n",
    "Data"
   ]
  },
  {
   "cell_type": "code",
   "execution_count": 16,
   "id": "53f57286",
   "metadata": {},
   "outputs": [
    {
     "data": {
      "text/plain": [
       "{'id': 12,\n",
       " 'email': 'rachel.howell@reqres.in',\n",
       " 'first_name': 'Rachel',\n",
       " 'last_name': 'Howell',\n",
       " 'avatar': 'https://reqres.in/img/faces/12-image.jpg'}"
      ]
     },
     "execution_count": 16,
     "metadata": {},
     "output_type": "execute_result"
    }
   ],
   "source": [
    "Data['data'][5]"
   ]
  },
  {
   "cell_type": "code",
   "execution_count": null,
   "id": "bf372d2a",
   "metadata": {},
   "outputs": [],
   "source": [
    "# Download Image\n",
    "source=requests.get(\"https://reqres.in/img/faces/7-image.jpg\")\n",
    "source.ok\n",
    "with open (\"Image.jpg\", mode='wb') as file:\n",
    "    file.write(source.content)"
   ]
  },
  {
   "cell_type": "code",
   "execution_count": null,
   "id": "ac1c9bda",
   "metadata": {},
   "outputs": [],
   "source": [
    "# More Example\n",
    "import requests\n",
    "response=requests.get(\"https://imgs.xkcd.com/comics/python.png\")\n",
    "response.ok\n",
    "response.status_code\n",
    "\n",
    "# Download Images\n",
    "with open(\"Comics.png\", \"wb\") as f:\n",
    "    f.write(response.content)"
   ]
  },
  {
   "cell_type": "code",
   "execution_count": null,
   "id": "622b04b3",
   "metadata": {},
   "outputs": [
    {
     "name": "stdout",
     "output_type": "stream",
     "text": [
      "{\n",
      "  \"args\": {\n",
      "    \"count\": \"25\", \n",
      "    \"page\": \"2\"\n",
      "  }, \n",
      "  \"headers\": {\n",
      "    \"Accept\": \"*/*\", \n",
      "    \"Accept-Encoding\": \"gzip, deflate\", \n",
      "    \"Host\": \"httpbin.org\", \n",
      "    \"User-Agent\": \"python-requests/2.32.3\", \n",
      "    \"X-Amzn-Trace-Id\": \"Root=1-6834762c-4830e71a161f1339542ad8fe\"\n",
      "  }, \n",
      "  \"origin\": \"103.126.149.117\", \n",
      "  \"url\": \"https://httpbin.org/get?page=2&count=25\"\n",
      "}\n",
      "\n",
      "https://httpbin.org/get?page=2&count=25\n"
     ]
    }
   ],
   "source": [
    "# Request.get function\n",
    "# params argument allows you to pass a dictionary containing key-value pairs\n",
    "# It will be automatically converted into URL parameters.\n",
    "# The data argument in the Requests module is used to send data in the body of an HTTP request\n",
    "# It's mostly used in POST requests when interacting with web forms or APIs.\n",
    "import requests\n",
    "payload={'page':2, 'count': 25}\n",
    "r=requests.get('https://httpbin.org/get',params=payload)\n",
    "print(r.text)\n",
    "print(r.url)\n"
   ]
  },
  {
   "cell_type": "code",
   "execution_count": 3,
   "id": "d0ba5176",
   "metadata": {},
   "outputs": [
    {
     "name": "stdout",
     "output_type": "stream",
     "text": [
      "{'password': 'Ronok1', 'user': 'Mostafij'}\n"
     ]
    }
   ],
   "source": [
    "# Send Data to webpage\n",
    "# The data argument in the Requests module is used to send data in the body of an HTTP request\n",
    "# It's mostly used in POST requests when interacting with web forms or APIs.\n",
    "import requests\n",
    "Data={'user':\"Mostafij\", 'password':'Ronok1'}\n",
    "r=requests.post('https://httpbin.org/post', data=Data)\n",
    "r_dict=r.json()\n",
    "print(r_dict['form'])"
   ]
  }
 ],
 "metadata": {
  "kernelspec": {
   "display_name": "Python 3",
   "language": "python",
   "name": "python3"
  },
  "language_info": {
   "codemirror_mode": {
    "name": "ipython",
    "version": 3
   },
   "file_extension": ".py",
   "mimetype": "text/x-python",
   "name": "python",
   "nbconvert_exporter": "python",
   "pygments_lexer": "ipython3",
   "version": "3.13.1"
  }
 },
 "nbformat": 4,
 "nbformat_minor": 5
}
